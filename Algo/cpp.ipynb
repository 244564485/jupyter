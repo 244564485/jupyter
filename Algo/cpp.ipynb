{
 "cells": [
  {
   "cell_type": "code",
   "execution_count": 6,
   "metadata": {
    "vscode": {
     "languageId": "cpp"
    }
   },
   "outputs": [],
   "source": [
    "#include <bits/stdc++.h>"
   ]
  },
  {
   "cell_type": "code",
   "execution_count": 1,
   "metadata": {
    "vscode": {
     "languageId": "cpp"
    }
   },
   "outputs": [],
   "source": [
    "#include <iostream>\n",
    "\n",
    "std::cout << \"Hello Cpp 4 world!\" << std::endl;"
   ]
  },
  {
   "cell_type": "code",
   "execution_count": 8,
   "metadata": {
    "vscode": {
     "languageId": "cpp"
    }
   },
   "outputs": [
    {
     "name": "stdout",
     "output_type": "stream",
     "text": [
      "current_time_tmp 2023-03-10 13:45:08.049\n"
     ]
    }
   ],
   "source": [
    "#include <sys/time.h>\n",
    "#include <ctime>\n",
    "\n",
    "static char* get_local_time(char *time_str, int len, struct timeval *tv) {\n",
    "    struct tm* ptm;                                   \n",
    "    char time_string[40];                             \n",
    "    long milliseconds;                                \n",
    "    ptm = localtime (&(tv->tv_sec));                  \n",
    "    strftime(time_string, sizeof(time_string), \"%Y-%m-%d %H:%M:%S\", ptm); // Output format: 2018-12-09 10:52:57.200  \n",
    "    milliseconds = tv->tv_usec/1000;                  \n",
    "    snprintf (time_str, len, \"%s.%03ld\", time_string, milliseconds);\n",
    "    return time_str; \n",
    "}\n",
    "\n",
    "char local_time_str[128];\n",
    "timeval current_time_tmp;\n",
    "gettimeofday(&current_time_tmp, NULL);\n",
    "char *p_local_time = NULL;\n",
    "p_local_time = get_local_time(local_time_str, sizeof(local_time_str), &current_time_tmp);\n",
    "printf(\"current_time_tmp %s\\n\", p_local_time);"
   ]
  },
  {
   "cell_type": "code",
   "execution_count": null,
   "metadata": {
    "vscode": {
     "languageId": "cpp"
    }
   },
   "outputs": [],
   "source": [
    "int a[10]={12,23,34,43,21,11,12,2,3,1};\n",
    "int b[10]={1,27,34,43,61,74,92,102,16,135};\n",
    "int c[10]={121,103,74,53,21,20,12,6,1};\n",
    "int n=10;\n",
    "HeapSort(a,n);\n",
    "for(int i=0;i<n;i++)\n",
    "{\n",
    "    cout<<a[i]<<' ';\n",
    "}\n",
    "cout<<endl;\n",
    "//MergeSort(b,0,9);\n",
    "for(int i=0;i<n;i++)\n",
    "{\n",
    "    cout<<b[i]<<' ';\n",
    "}\n",
    "cout<<endl;\n",
    "//RadixSort(c,9,3);\n",
    "for(int i=0;i<9;i++)\n",
    "{\n",
    "    cout<<c[i]<<' ';\n",
    "}\n",
    "cout<<endl;"
   ]
  }
 ],
 "metadata": {
  "kernelspec": {
   "display_name": "C++17",
   "language": "C++17",
   "name": "xcpp17"
  },
  "language_info": {
   "codemirror_mode": "text/x-c++src",
   "file_extension": ".cpp",
   "mimetype": "text/x-c++src",
   "name": "C++17",
   "version": "17"
  }
 },
 "nbformat": 4,
 "nbformat_minor": 2
}
