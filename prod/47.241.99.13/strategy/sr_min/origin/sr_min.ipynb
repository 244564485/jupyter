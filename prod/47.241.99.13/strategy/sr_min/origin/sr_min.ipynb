{
 "cells": [
  {
   "cell_type": "code",
   "execution_count": 1,
   "metadata": {},
   "outputs": [],
   "source": [
    "#!/usr/bin/env python3\n",
    "# coding=utf-8\n",
    "import pandas as pd\n",
    "import numpy as np\n",
    "import sqlite3\n",
    "import time\n",
    "from datetime import datetime, timedelta\n",
    "import math\n",
    "import sys\n",
    "import logging\n",
    "import os\n",
    "# from scipy import stats as st\n",
    "from scipy import stats \n",
    "from itertools import product as product\n",
    "from matplotlib import pyplot as plt\n",
    "# from sklearn.linear_model import LogisticRegression\n",
    "import warnings\n",
    "import statsmodels.api as sm\n",
    "from math import sqrt\n",
    "from tqdm import tqdm\n",
    "import pymssql\n",
    "\n",
    "warnings.filterwarnings('ignore')\n",
    "plt.rcParams['font.sans-serif']=['SimHei'] #用来正常显示中文标签\n",
    "plt.rcParams['axes.unicode_minus']=False #用来正常显示负号\n",
    "\n",
    "# conn = pymssql.connect(\"127.0.0.1\", \"sa\", \"quant@123\", \"test_block\")\n",
    "# cursor = conn.cursor()\n",
    "\n",
    "g_worthDir = '../pkl'  # \n",
    "g_parentDir = '../../..'  # \n",
    "g_dbfile = f\"{g_parentDir}/pkl/hq.db\" # \n",
    "g_name = g_access = 'sr_min'\n",
    "\n",
    "g_locTimeadj = 28800 # 28800 0\n",
    "g_version = '1.0.1'\n",
    "\n",
    "print(f\"{sys.version} , {sys.executable} , pandas: {pd.__version__}\")\n",
    "print(f\"{time.strftime('%Y-%m-%d %H:%M:%S',time.localtime(time.time()+g_locTimeadj))} *****import**v{g_version}*** \")"
   ]
  },
  {
   "cell_type": "code",
   "execution_count": 2,
   "metadata": {},
   "outputs": [
    {
     "name": "stdout",
     "output_type": "stream",
     "text": [
      "2022-12-08 19:30:58 *****logging***** \n"
     ]
    }
   ],
   "source": [
    "###日志 logger##20220825A######\n",
    "def make_logger(name, log_level=logging.INFO, log_file=\"log.txt\", file_mode=\"a\"): #w写 a追加\n",
    "    formatter = logging.Formatter('%(asctime)s:%(levelname)s:%(name)s:%(filename)s:%(lineno)d:%(funcName)s:%(process)s: %(message)s')\n",
    "    \n",
    "    logger = logging.getLogger(name)\n",
    "    if not logger.handlers:\n",
    "        logger.setLevel(level=log_level)\n",
    "        handler = logging.FileHandler(log_file, mode=file_mode)\n",
    "        handler.setLevel(level=log_level)\n",
    "        handler.setFormatter(formatter)\n",
    "        logger.addHandler(handler)\n",
    "        handler = logging.StreamHandler(sys.stdout)\n",
    "        handler.setLevel(level=log_level)\n",
    "        handler.setFormatter(formatter)\n",
    "        logger.addHandler(handler)\n",
    "    return logger\n",
    "\n",
    "logger = make_logger(g_name, log_level=logging.DEBUG, log_file= f\"{g_parentDir}/logs/{g_name if ('g_name' in dir() ) else 'test' }_{ time.strftime('%Y%m%d') }.log\" )\n",
    "\n",
    "print( f'{time.strftime(\"%Y-%m-%d %H:%M:%S\",time.localtime(time.time()+g_locTimeadj))} *****logging***** ')"
   ]
  },
  {
   "cell_type": "code",
   "execution_count": null,
   "metadata": {},
   "outputs": [],
   "source": [
    "# ukdf.to_pickle(f\"{g_worthDir}/uk5mdf.pkl\" )\n",
    "# ##df_uk = pd.read_pickle(f\"{g_worthDir}/uk5mdf.pkl\" )\n",
    "\n",
    "df_uk = pd.read_pickle(f\"{g_parentDir}/pkl/uk5mdf.pkl\" ) # uk5m_2021df 203451\n",
    "# df_uk.tail(2)\n",
    "# print(f\"{df_uk.iloc[-2:,:]}\")\n",
    "# display(df_uk.tail(2) )\n",
    "print(f\"df_uk.tail(2) :\\n{df_uk.tail(2)}\")\n",
    "\n",
    "df_input = pd.DataFrame()\n",
    "# df_input['date'] = df_uk['closeTime'].apply(lambda x: time.strftime(\"%Y%m%d\",time.localtime(float(x)/1000) ) )\n",
    "df_input['date'] = df_uk['tradeDate']\n",
    "df_input['timestamp'] = df_uk['closeSec']\n",
    "df_input['closeTime'] = df_uk['closeTime']\n",
    "df_input['open'] = df_uk['open']\n",
    "df_input['high'] = df_uk['high']\n",
    "df_input['low'] = df_uk['low']\n",
    "df_input['close'] = df_uk['close']\n",
    "df_input['vol'] = df_uk['vol']\n",
    "df_input['amount'] = df_uk['amt']\n",
    "df_input['amt'] = df_uk['amt']/( df_uk['high']+ df_uk['low'])*2\n",
    "\n",
    "# df_input.tail(2)\n",
    "# display(df_input.tail(2) )\n",
    "print(f\"df_input.tail(2) :\\n{df_input.tail(2)}\")\n"
   ]
  },
  {
   "cell_type": "code",
   "execution_count": 3,
   "metadata": {},
   "outputs": [
    {
     "name": "stdout",
     "output_type": "stream",
     "text": [
      "wid_ : 12: [144 192 240 288 336 384 432 480 528 576 624 672]\n",
      "wid_back : 10: [10 15 20 25 30 35 40 45 50 55]\n",
      "thd : 31: [0.6  0.61 0.62 0.63 0.64 0.65 0.66 0.67 0.68 0.69 0.7  0.71 0.72 0.73\n",
      " 0.74 0.75 0.76 0.77 0.78 0.79 0.8  0.81 0.82 0.83 0.84 0.85 0.86 0.87\n",
      " 0.88 0.89 0.9 ]\n",
      "thd_std : 16: [2.  2.2 2.4 2.6 2.8 3.  3.2 3.4 3.6 3.8 4.  4.2 4.4 4.6 4.8 5. ]\n",
      "df_para : 59520:        wid_  thd  wid_back  thd_std\n",
      "0       144  0.6        10      2.0\n",
      "1       144  0.6        10      2.2\n",
      "2       144  0.6        10      2.4\n",
      "3       144  0.6        10      2.6\n",
      "4       144  0.6        10      2.8\n",
      "...     ...  ...       ...      ...\n",
      "59515   672  0.9        55      4.2\n",
      "59516   672  0.9        55      4.4\n",
      "59517   672  0.9        55      4.6\n",
      "59518   672  0.9        55      4.8\n",
      "59519   672  0.9        55      5.0\n",
      "\n",
      "[59520 rows x 4 columns]\n"
     ]
    },
    {
     "name": "stderr",
     "output_type": "stream",
     "text": [
      " 25%|██▌       | 14964/59520 [00:00<00:01, 31944.63it/s]"
     ]
    },
    {
     "name": "stdout",
     "output_type": "stream",
     "text": [
      "index_para=9450 : wid_=192 : thd=0.88 : wid_back=10 : thd_std=4.0\n"
     ]
    },
    {
     "name": "stderr",
     "output_type": "stream",
     "text": [
      "100%|██████████| 59520/59520 [00:02<00:00, 28975.37it/s]\n"
     ]
    }
   ],
   "source": [
    "if_print = 0\n",
    "wid_ = np.arange(12)*4*12 + 144  # 12: [144 192 240 288 336 384 432 480 528 576 624 672]\n",
    "thd = np.arange(31)*0.01 +0.6   # 31: [0.6  0.61 ... 0.88 0.89 0.9 ]\n",
    "wid_back = np.arange(10)*5 +10  # 10: [10 15 20 25 30 35 40 45 50 55]\n",
    "thd_std = np.arange(16)*0.2 + 2 # 16: [2. 2.2 2.4 2.6 2.8 3. 3.2 3.4 3.6 3.8 4. 4.2 4.4 4.6 4.8 5.]\n",
    "df_para = pd.DataFrame(list(product(wid_, thd,wid_back,thd_std)))\n",
    "df_para.columns = ['wid_','thd','wid_back','thd_std'] # 59520\n",
    "\n",
    "print(f\"wid_ : {len(wid_)}: {wid_}\") \n",
    "print(f\"wid_back : {len(wid_back)}: {wid_back}\")\n",
    "print(f\"thd : {len(thd)}: {thd}\")\n",
    "print(f\"thd_std : {len(thd_std)}: {thd_std}\")\n",
    "print(f\"df_para : {len(df_para)}: {df_para}\")\n",
    "\n",
    "df_para['re']=np.nan\n",
    "df_para['std']=np.nan\n",
    "# print(df_para)\n",
    "for index_para,row_para in tqdm(df_para.iterrows(),total=df_para.shape[0]):\n",
    "\n",
    "    if index_para!=9450:\n",
    "        if_print = 1\n",
    "        continue\n",
    "    wid_,thd=int(row_para[0]),row_para[1]\n",
    "    print(f\"{index_para=} : {wid_=} : {thd=} : wid_back={int(row_para[2])} : thd_std={row_para[3]}\") # index_para=9450 : wid_=192 : thd=0.88 : wid_back=10 : thd_std=4.0"
   ]
  }
 ],
 "metadata": {
  "kernelspec": {
   "display_name": "Python 3.10.4 64-bit",
   "language": "python",
   "name": "python3"
  },
  "language_info": {
   "codemirror_mode": {
    "name": "ipython",
    "version": 3
   },
   "file_extension": ".py",
   "mimetype": "text/x-python",
   "name": "python",
   "nbconvert_exporter": "python",
   "pygments_lexer": "ipython3",
   "version": "3.10.4"
  },
  "orig_nbformat": 4,
  "vscode": {
   "interpreter": {
    "hash": "3ad933181bd8a04b432d3370b9dc3b0662ad032c4dfaa4e4f1596c548f763858"
   }
  }
 },
 "nbformat": 4,
 "nbformat_minor": 2
}
