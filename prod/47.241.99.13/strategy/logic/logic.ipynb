{
 "cells": [
  {
   "cell_type": "code",
   "execution_count": 1,
   "metadata": {},
   "outputs": [
    {
     "name": "stdout",
     "output_type": "stream",
     "text": [
      "3.8.2 (default, Jul 16 2020, 14:00:26) \n",
      "[GCC 9.3.0] , /bin/python3 , pandas: 1.4.2\n",
      "\n",
      "--init--:  version='2.0.0', gateway='simulator', name='logic', symbol='BTCUSDT', interval='30m', intervalCoef={'m': 60, 'h': 3600, 'd': 86400, 'w': 604800, 'M': 2592000}, intervalSec=1800, tradeType='usdt', total=1000, histDays=2, wid=40,limit=998 \n",
      "\n"
     ]
    }
   ],
   "source": [
    "import time\n",
    "import getopt\n",
    "import sys\n",
    "import math\n",
    "import datetime\n",
    "# from matplotlib.pyplot import xlabel\n",
    "# from PyEMD import EMD, Visualisation\n",
    "\n",
    "# from numpy import corrcoef\n",
    "\n",
    "import pandas as pd\n",
    "import numpy as np\n",
    "\n",
    "from FIL_lib.my_logger import make_logger, logging\n",
    "from FIL_lib.client import FILClient, Handler\n",
    "from FIL_lib.core_types import *\n",
    "\n",
    "\n",
    "\n",
    "# =============== 配置策略参数\n",
    "\n",
    "gateway =\"simulator\"\n",
    "name = \"logic\"\n",
    "symbol = \"BTCUSDT\"\n",
    "interval = \"30m\" #period #1m, 3m, 5m, 15m, 30m, 1h, 2h, 4h, 6h, 8h, 12h, 1d, 3d, 1w, 1M\n",
    "intervalCoef = {'m':60, 'h':60*60, 'd': 60*60*24, 'w':60*60*24*7, 'M':60*60*24*30}\n",
    "intervalSec = int(interval[0:-1]) * intervalCoef[interval[-1] ]\n",
    "tradeType = \"usdt\"\n",
    "\n",
    "total = 1000 #\n",
    "totalAdjRate = -1e-3\n",
    "histDays = 2  # 30 10 84 120 60 \n",
    "limit = 998 # 1500  499 998\n",
    "wid = 40  #  42  108  83\n",
    "thd = 0.55  # 阈值0  0.6 \n",
    "wid2 = 50\n",
    "divisor = 6\n",
    "remainder = 5\n",
    "\n",
    "\n",
    "\n",
    "ukdf = pd.DataFrame()\n",
    "df_panel = pd.DataFrame()\n",
    "\n",
    "version = '2.0.0'\n",
    "\n",
    "print(f\"{sys.version} , {sys.executable} , pandas: {pd.__version__}\")\n",
    "\n",
    "print('\\n--init--: ', f'{version=}, {gateway=}, {name=}, {symbol=}, {interval=}, {intervalCoef=}, {intervalSec=}, {tradeType=}, {total=}, {histDays=}, {wid=},{limit=}', '\\n')\n",
    "\n",
    "# ===============\n",
    "\n",
    "curDate = time.strftime(\"%Y%m%d\")\n",
    "# logger = make_logger(name, log_level=logging.DEBUG, log_file= name + \"_\"+ str(curDate)+\".log\")\n",
    "logger = ''\n"
   ]
  },
  {
   "cell_type": "code",
   "execution_count": 1,
   "metadata": {},
   "outputs": [],
   "source": [
    "import pandas as pd\n",
    "\n",
    "# col_list = pd.DataFrame()\n",
    "# df = pd.DataFrame()\n",
    "# df_input = pd.DataFrame()\n",
    "# ukdf = pd.DataFrame()\n",
    "# df_s = pd.DataFrame()\n",
    "# df_pred = pd.DataFrame()\n",
    "\n",
    "\n",
    "# col_list.to_pickle(f\"bak/col_list.pkl\" )\n",
    "# df.to_pickle(f\"bak/df.pkl\" )\n",
    "# df_input.to_pickle(f\"bak/df_input.pkl\" )\n",
    "# ukdf.to_pickle(f\"bak/ukdf.pkl\" )\n",
    "# df_s.to_pickle(f\"bak/df_s.pkl\" )\n",
    "# df_pred.to_pickle(f\"bak/df_pred.pkl\" )\n",
    "\n",
    "col_list = pd.read_pickle(f\"bak/col_list.pkl\" )\n",
    "df = pd.read_pickle(f\"bak/df.pkl\" )\n",
    "df_input = pd.read_pickle(f\"bak/df_input.pkl\" )\n",
    "ukdf = pd.read_pickle(f\"bak/ukdf.pkl\" )\n",
    "df_s = pd.read_pickle(f\"bak/df_s.pkl\" )\n",
    "df_pred = pd.read_pickle(f\"bak/df_pred.pkl\" )"
   ]
  },
  {
   "cell_type": "code",
   "execution_count": 3,
   "metadata": {},
   "outputs": [
    {
     "name": "stdout",
     "output_type": "stream",
     "text": [
      "tmp.sum() = 0.0 , tmp.mean() = 0.0, tmp.max() = 0.0, tmp.min() = 0.0\n"
     ]
    }
   ],
   "source": [
    "# tmp = df_pred['nav_0'] - df_pred['sign']  # same 0\n",
    "# tmp = df_s['pct_change'] - df_s['pct_next_']  # same 0  df_s['pct'].shift(-1)  \n",
    "tmp = df_pred['nav_0'] - df_pred['sign']  # same 0\n",
    "print(f\"{tmp.sum() = } , {tmp.mean() = }, {tmp.max() = }, {tmp.min() = }\")"
   ]
  }
 ],
 "metadata": {
  "kernelspec": {
   "display_name": "Python 3.8.2 64-bit",
   "language": "python",
   "name": "python3"
  },
  "language_info": {
   "codemirror_mode": {
    "name": "ipython",
    "version": 3
   },
   "file_extension": ".py",
   "mimetype": "text/x-python",
   "name": "python",
   "nbconvert_exporter": "python",
   "pygments_lexer": "ipython3",
   "version": "3.8.2"
  },
  "orig_nbformat": 4,
  "vscode": {
   "interpreter": {
    "hash": "916dbcbb3f70747c44a77c7bcd40155683ae19c65e1c03b4aa3499c5328201f1"
   }
  }
 },
 "nbformat": 4,
 "nbformat_minor": 2
}
