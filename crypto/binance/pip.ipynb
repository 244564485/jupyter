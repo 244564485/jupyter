{
 "cells": [
  {
   "cell_type": "code",
   "execution_count": 1,
   "metadata": {},
   "outputs": [
    {
     "name": "stdout",
     "output_type": "stream",
     "text": [
      "3.9.15 (main, Nov 24 2022, 14:31:59) \n",
      "[GCC 11.2.0] , /home/at/bin/anaconda3/bin/python \n",
      "2023-03-06 23:14:08 *****import**v1.0.1*** \n"
     ]
    }
   ],
   "source": [
    "#!/usr/bin/env python3\n",
    "# coding=utf-8\n",
    "import websocket\n",
    "import time\n",
    "import threading\n",
    "import requests\n",
    "import json\n",
    "import pandas as pd\n",
    "import numpy as np\n",
    "import sqlite3\n",
    "from datetime import datetime, timedelta\n",
    "import hashlib\n",
    "import hmac\n",
    "import math\n",
    "import sys\n",
    "import logging\n",
    "import os\n",
    "import getopt\n",
    "import traceback\n",
    "from scipy import stats\n",
    "from itertools import product as product\n",
    "\n",
    "pd.set_option('display.max_columns', 500)\t# 显示列数\n",
    "pd.set_option('display.width', 1000)\t\t# 显示宽度\n",
    "\n",
    "g_worthDir = '../pkl'  # \n",
    "g_parentDir = '../../..'  # \n",
    "g_dbfile = f\"{g_parentDir}/pkl/hq.db\" # \n",
    "g_name = g_access = 'logic'\n",
    "\n",
    "g_locTimeadj = 28800 # 28800 0\n",
    "g_version = '1.0.1'\n",
    "\n",
    "# df3 =pd.DataFrame(np.random.randn(8,4), columns=list('ABCD') )\n",
    "\n",
    "# print(f'{os.path.basename(__file__)}:{sys._getframe().f_code.co_name}:{sys._getframe().f_lineno}')\n",
    "print(f\"{sys.version} , {sys.executable} \")\n",
    "print(f\"{time.strftime('%Y-%m-%d %H:%M:%S',time.localtime(time.time()+g_locTimeadj))} *****import**v{g_version}*** \")"
   ]
  },
  {
   "cell_type": "code",
   "execution_count": 5,
   "metadata": {},
   "outputs": [
    {
     "name": "stdout",
     "output_type": "stream",
     "text": [
      "diffTime = datetime.timedelta(seconds=10, microseconds=5346),  diffTime.seconds = 10,  diffTime.min = datetime.timedelta(days=-999999999),  diffTime.days = 0,  diffTime.max = datetime.timedelta(days=999999999, seconds=86399, microseconds=999999)\n",
      "curSec = '20230118 06:16:32 1674022592'\n"
     ]
    }
   ],
   "source": [
    "iniTime = datetime.now()\n",
    "time.sleep(10) # 60*60  3*60\n",
    "nowTime = datetime.now()\n",
    "diffTime = (nowTime - iniTime)\n",
    "\n",
    "print(f\"{diffTime = },  {diffTime.seconds = },  {diffTime.min = },  {diffTime.days = },  {diffTime.max = }\")\n"
   ]
  },
  {
   "cell_type": "code",
   "execution_count": 11,
   "metadata": {},
   "outputs": [
    {
     "name": "stdout",
     "output_type": "stream",
     "text": [
      "curSec = 1674022777 ，curSec2 = 1674022777 \n"
     ]
    }
   ],
   "source": [
    "curSec = int(time.strftime(\"%s\"))\n",
    "curSec2 = int(time.time())\n",
    "print(f\"{curSec = } , {curSec2 = } \")"
   ]
  },
  {
   "cell_type": "code",
   "execution_count": 7,
   "metadata": {},
   "outputs": [
    {
     "name": "stdout",
     "output_type": "stream",
     "text": [
      "['__abs__', '__add__', '__bool__', '__class__', '__delattr__', '__dir__', '__divmod__', '__doc__', '__eq__', '__floordiv__', '__format__', '__ge__', '__getattribute__', '__gt__', '__hash__', '__init__', '__init_subclass__', '__le__', '__lt__', '__mod__', '__mul__', '__ne__', '__neg__', '__new__', '__pos__', '__radd__', '__rdivmod__', '__reduce__', '__reduce_ex__', '__repr__', '__rfloordiv__', '__rmod__', '__rmul__', '__rsub__', '__rtruediv__', '__setattr__', '__sizeof__', '__str__', '__sub__', '__subclasshook__', '__truediv__', 'days', 'max', 'microseconds', 'min', 'resolution', 'seconds', 'total_seconds']\n"
     ]
    }
   ],
   "source": [
    "print(dir(diffTime))\n",
    "print(f\"{diffTime = },  {diffTime.seconds = },  {diffTime.min = },  {diffTime.days = },  {diffTime.max = }\")"
   ]
  },
  {
   "cell_type": "code",
   "execution_count": 2,
   "metadata": {},
   "outputs": [
    {
     "name": "stdout",
     "output_type": "stream",
     "text": [
      "/workspaces/jupyter/crypto/binance\n"
     ]
    }
   ],
   "source": [
    "# print(os.getcwd()) "
   ]
  },
  {
   "cell_type": "code",
   "execution_count": 7,
   "metadata": {},
   "outputs": [
    {
     "name": "stdout",
     "output_type": "stream",
     "text": [
      "(16, 18)\n"
     ]
    },
    {
     "data": {
      "text/html": [
       "<div>\n",
       "<style scoped>\n",
       "    .dataframe tbody tr th:only-of-type {\n",
       "        vertical-align: middle;\n",
       "    }\n",
       "\n",
       "    .dataframe tbody tr th {\n",
       "        vertical-align: top;\n",
       "    }\n",
       "\n",
       "    .dataframe thead th {\n",
       "        text-align: right;\n",
       "    }\n",
       "</style>\n",
       "<table border=\"1\" class=\"dataframe\">\n",
       "  <thead>\n",
       "    <tr style=\"text-align: right;\">\n",
       "      <th></th>\n",
       "      <th>access</th>\n",
       "      <th>buyer</th>\n",
       "      <th>commission</th>\n",
       "      <th>commissionAsset</th>\n",
       "      <th>id</th>\n",
       "      <th>maker</th>\n",
       "      <th>marginAsset</th>\n",
       "      <th>orderId</th>\n",
       "      <th>positionSide</th>\n",
       "      <th>price</th>\n",
       "      <th>qty</th>\n",
       "      <th>queryTime</th>\n",
       "      <th>quoteQty</th>\n",
       "      <th>realizedPnl</th>\n",
       "      <th>side</th>\n",
       "      <th>symbol</th>\n",
       "      <th>time</th>\n",
       "      <th>updateDate</th>\n",
       "    </tr>\n",
       "  </thead>\n",
       "  <tbody>\n",
       "    <tr>\n",
       "      <th>0</th>\n",
       "      <td>similarity</td>\n",
       "      <td>True</td>\n",
       "      <td>0.44355168</td>\n",
       "      <td>USDT</td>\n",
       "      <td>3160586439</td>\n",
       "      <td>False</td>\n",
       "      <td>USDT</td>\n",
       "      <td>102342456928</td>\n",
       "      <td>BOTH</td>\n",
       "      <td>16801.20</td>\n",
       "      <td>0.066</td>\n",
       "      <td>2023-01-02 23:20:06</td>\n",
       "      <td>1108.87920</td>\n",
       "      <td>0.83820000</td>\n",
       "      <td>BUY</td>\n",
       "      <td>BTCUSDT</td>\n",
       "      <td>1672070404011</td>\n",
       "      <td>2022-12-27 00:00:04.011000</td>\n",
       "    </tr>\n",
       "    <tr>\n",
       "      <th>1</th>\n",
       "      <td>similarity</td>\n",
       "      <td>True</td>\n",
       "      <td>0.44440704</td>\n",
       "      <td>USDT</td>\n",
       "      <td>3160746349</td>\n",
       "      <td>False</td>\n",
       "      <td>USDT</td>\n",
       "      <td>102395020106</td>\n",
       "      <td>BOTH</td>\n",
       "      <td>16833.60</td>\n",
       "      <td>0.066</td>\n",
       "      <td>2023-01-02 23:20:06</td>\n",
       "      <td>1111.01760</td>\n",
       "      <td>0</td>\n",
       "      <td>BUY</td>\n",
       "      <td>BTCUSDT</td>\n",
       "      <td>1672095604828</td>\n",
       "      <td>2022-12-27 07:00:04.828000</td>\n",
       "    </tr>\n",
       "    <tr>\n",
       "      <th>2</th>\n",
       "      <td>similarity</td>\n",
       "      <td>False</td>\n",
       "      <td>0.44327448</td>\n",
       "      <td>USDT</td>\n",
       "      <td>3161591790</td>\n",
       "      <td>False</td>\n",
       "      <td>USDT</td>\n",
       "      <td>102551535628</td>\n",
       "      <td>BOTH</td>\n",
       "      <td>16790.70</td>\n",
       "      <td>0.066</td>\n",
       "      <td>2023-01-02 23:20:06</td>\n",
       "      <td>1108.18620</td>\n",
       "      <td>-2.83140000</td>\n",
       "      <td>SELL</td>\n",
       "      <td>BTCUSDT</td>\n",
       "      <td>1672156803919</td>\n",
       "      <td>2022-12-28 00:00:03.919000</td>\n",
       "    </tr>\n",
       "    <tr>\n",
       "      <th>3</th>\n",
       "      <td>similarity</td>\n",
       "      <td>False</td>\n",
       "      <td>0.44043120</td>\n",
       "      <td>USDT</td>\n",
       "      <td>3162103271</td>\n",
       "      <td>False</td>\n",
       "      <td>USDT</td>\n",
       "      <td>102621535737</td>\n",
       "      <td>BOTH</td>\n",
       "      <td>16683</td>\n",
       "      <td>0.066</td>\n",
       "      <td>2023-01-02 23:20:06</td>\n",
       "      <td>1101.07800</td>\n",
       "      <td>0</td>\n",
       "      <td>SELL</td>\n",
       "      <td>BTCUSDT</td>\n",
       "      <td>1672182004852</td>\n",
       "      <td>2022-12-28 07:00:04.852000</td>\n",
       "    </tr>\n",
       "    <tr>\n",
       "      <th>4</th>\n",
       "      <td>similarity</td>\n",
       "      <td>True</td>\n",
       "      <td>0.43742424</td>\n",
       "      <td>USDT</td>\n",
       "      <td>3163166046</td>\n",
       "      <td>False</td>\n",
       "      <td>USDT</td>\n",
       "      <td>102790904687</td>\n",
       "      <td>BOTH</td>\n",
       "      <td>16569.10</td>\n",
       "      <td>0.066</td>\n",
       "      <td>2023-01-02 23:20:06</td>\n",
       "      <td>1093.56060</td>\n",
       "      <td>7.51740000</td>\n",
       "      <td>BUY</td>\n",
       "      <td>BTCUSDT</td>\n",
       "      <td>1672243204016</td>\n",
       "      <td>2022-12-29 00:00:04.016000</td>\n",
       "    </tr>\n",
       "    <tr>\n",
       "      <th>5</th>\n",
       "      <td>similarity</td>\n",
       "      <td>False</td>\n",
       "      <td>0.21136000</td>\n",
       "      <td>USDT</td>\n",
       "      <td>3163679626</td>\n",
       "      <td>False</td>\n",
       "      <td>USDT</td>\n",
       "      <td>102865093182</td>\n",
       "      <td>BOTH</td>\n",
       "      <td>16512.50</td>\n",
       "      <td>0.032</td>\n",
       "      <td>2023-01-02 23:20:06</td>\n",
       "      <td>528.40000</td>\n",
       "      <td>0</td>\n",
       "      <td>SELL</td>\n",
       "      <td>BTCUSDT</td>\n",
       "      <td>1672268407963</td>\n",
       "      <td>2022-12-29 07:00:07.963000</td>\n",
       "    </tr>\n",
       "    <tr>\n",
       "      <th>6</th>\n",
       "      <td>similarity</td>\n",
       "      <td>False</td>\n",
       "      <td>0.23117500</td>\n",
       "      <td>USDT</td>\n",
       "      <td>3163679627</td>\n",
       "      <td>False</td>\n",
       "      <td>USDT</td>\n",
       "      <td>102865093182</td>\n",
       "      <td>BOTH</td>\n",
       "      <td>16512.50</td>\n",
       "      <td>0.035</td>\n",
       "      <td>2023-01-02 23:20:06</td>\n",
       "      <td>577.93750</td>\n",
       "      <td>0</td>\n",
       "      <td>SELL</td>\n",
       "      <td>BTCUSDT</td>\n",
       "      <td>1672268407963</td>\n",
       "      <td>2022-12-29 07:00:07.963000</td>\n",
       "    </tr>\n",
       "    <tr>\n",
       "      <th>7</th>\n",
       "      <td>similarity</td>\n",
       "      <td>True</td>\n",
       "      <td>0.44517480</td>\n",
       "      <td>USDT</td>\n",
       "      <td>3164448286</td>\n",
       "      <td>False</td>\n",
       "      <td>USDT</td>\n",
       "      <td>103030790678</td>\n",
       "      <td>BOTH</td>\n",
       "      <td>16611</td>\n",
       "      <td>0.067</td>\n",
       "      <td>2023-01-02 23:20:06</td>\n",
       "      <td>1112.93700</td>\n",
       "      <td>-6.59950000</td>\n",
       "      <td>BUY</td>\n",
       "      <td>BTCUSDT</td>\n",
       "      <td>1672329604420</td>\n",
       "      <td>2022-12-30 00:00:04.420000</td>\n",
       "    </tr>\n",
       "    <tr>\n",
       "      <th>8</th>\n",
       "      <td>similarity</td>\n",
       "      <td>False</td>\n",
       "      <td>0.03987360</td>\n",
       "      <td>USDT</td>\n",
       "      <td>3164707586</td>\n",
       "      <td>False</td>\n",
       "      <td>USDT</td>\n",
       "      <td>103095905261</td>\n",
       "      <td>BOTH</td>\n",
       "      <td>16614</td>\n",
       "      <td>0.006</td>\n",
       "      <td>2023-01-02 23:20:06</td>\n",
       "      <td>99.68400</td>\n",
       "      <td>0</td>\n",
       "      <td>SELL</td>\n",
       "      <td>BTCUSDT</td>\n",
       "      <td>1672354805495</td>\n",
       "      <td>2022-12-30 07:00:05.495000</td>\n",
       "    </tr>\n",
       "    <tr>\n",
       "      <th>9</th>\n",
       "      <td>similarity</td>\n",
       "      <td>False</td>\n",
       "      <td>0.40538160</td>\n",
       "      <td>USDT</td>\n",
       "      <td>3164707587</td>\n",
       "      <td>False</td>\n",
       "      <td>USDT</td>\n",
       "      <td>103095905261</td>\n",
       "      <td>BOTH</td>\n",
       "      <td>16614</td>\n",
       "      <td>0.061</td>\n",
       "      <td>2023-01-02 23:20:06</td>\n",
       "      <td>1013.45400</td>\n",
       "      <td>0</td>\n",
       "      <td>SELL</td>\n",
       "      <td>BTCUSDT</td>\n",
       "      <td>1672354805495</td>\n",
       "      <td>2022-12-30 07:00:05.495000</td>\n",
       "    </tr>\n",
       "    <tr>\n",
       "      <th>10</th>\n",
       "      <td>similarity</td>\n",
       "      <td>True</td>\n",
       "      <td>0.44347836</td>\n",
       "      <td>USDT</td>\n",
       "      <td>3165712686</td>\n",
       "      <td>False</td>\n",
       "      <td>USDT</td>\n",
       "      <td>103264817016</td>\n",
       "      <td>BOTH</td>\n",
       "      <td>16547.70</td>\n",
       "      <td>0.067</td>\n",
       "      <td>2023-01-02 23:20:06</td>\n",
       "      <td>1108.69590</td>\n",
       "      <td>4.44210000</td>\n",
       "      <td>BUY</td>\n",
       "      <td>BTCUSDT</td>\n",
       "      <td>1672416004035</td>\n",
       "      <td>2022-12-31 00:00:04.035000</td>\n",
       "    </tr>\n",
       "    <tr>\n",
       "      <th>11</th>\n",
       "      <td>similarity</td>\n",
       "      <td>True</td>\n",
       "      <td>0.44441368</td>\n",
       "      <td>USDT</td>\n",
       "      <td>3166027963</td>\n",
       "      <td>False</td>\n",
       "      <td>USDT</td>\n",
       "      <td>103335021522</td>\n",
       "      <td>BOTH</td>\n",
       "      <td>16582.60</td>\n",
       "      <td>0.067</td>\n",
       "      <td>2023-01-02 23:20:06</td>\n",
       "      <td>1111.03420</td>\n",
       "      <td>0</td>\n",
       "      <td>BUY</td>\n",
       "      <td>BTCUSDT</td>\n",
       "      <td>1672441207739</td>\n",
       "      <td>2022-12-31 07:00:07.739000</td>\n",
       "    </tr>\n",
       "    <tr>\n",
       "      <th>12</th>\n",
       "      <td>similarity</td>\n",
       "      <td>False</td>\n",
       "      <td>0.44450480</td>\n",
       "      <td>USDT</td>\n",
       "      <td>3166497339</td>\n",
       "      <td>False</td>\n",
       "      <td>USDT</td>\n",
       "      <td>103484799584</td>\n",
       "      <td>BOTH</td>\n",
       "      <td>16586</td>\n",
       "      <td>0.067</td>\n",
       "      <td>2023-01-02 23:20:06</td>\n",
       "      <td>1111.26200</td>\n",
       "      <td>0.22779999</td>\n",
       "      <td>SELL</td>\n",
       "      <td>BTCUSDT</td>\n",
       "      <td>1672502404000</td>\n",
       "      <td>2023-01-01 00:00:04</td>\n",
       "    </tr>\n",
       "    <tr>\n",
       "      <th>13</th>\n",
       "      <td>similarity</td>\n",
       "      <td>True</td>\n",
       "      <td>0.44253500</td>\n",
       "      <td>USDT</td>\n",
       "      <td>3166700293</td>\n",
       "      <td>False</td>\n",
       "      <td>USDT</td>\n",
       "      <td>103545970846</td>\n",
       "      <td>BOTH</td>\n",
       "      <td>16512.50</td>\n",
       "      <td>0.067</td>\n",
       "      <td>2023-01-02 23:20:06</td>\n",
       "      <td>1106.33750</td>\n",
       "      <td>0</td>\n",
       "      <td>BUY</td>\n",
       "      <td>BTCUSDT</td>\n",
       "      <td>1672527605134</td>\n",
       "      <td>2023-01-01 07:00:05.134000</td>\n",
       "    </tr>\n",
       "    <tr>\n",
       "      <th>14</th>\n",
       "      <td>similarity</td>\n",
       "      <td>False</td>\n",
       "      <td>0.44362040</td>\n",
       "      <td>USDT</td>\n",
       "      <td>3167107002</td>\n",
       "      <td>False</td>\n",
       "      <td>USDT</td>\n",
       "      <td>103689888141</td>\n",
       "      <td>BOTH</td>\n",
       "      <td>16553</td>\n",
       "      <td>0.067</td>\n",
       "      <td>2023-01-02 23:20:06</td>\n",
       "      <td>1109.05100</td>\n",
       "      <td>2.71350000</td>\n",
       "      <td>SELL</td>\n",
       "      <td>BTCUSDT</td>\n",
       "      <td>1672588803894</td>\n",
       "      <td>2023-01-02 00:00:03.894000</td>\n",
       "    </tr>\n",
       "    <tr>\n",
       "      <th>15</th>\n",
       "      <td>similarity</td>\n",
       "      <td>False</td>\n",
       "      <td>0.44472992</td>\n",
       "      <td>USDT</td>\n",
       "      <td>3167312996</td>\n",
       "      <td>False</td>\n",
       "      <td>USDT</td>\n",
       "      <td>103749051748</td>\n",
       "      <td>BOTH</td>\n",
       "      <td>16594.40</td>\n",
       "      <td>0.067</td>\n",
       "      <td>2023-01-02 23:20:06</td>\n",
       "      <td>1111.82480</td>\n",
       "      <td>0</td>\n",
       "      <td>SELL</td>\n",
       "      <td>BTCUSDT</td>\n",
       "      <td>1672614006491</td>\n",
       "      <td>2023-01-02 07:00:06.491000</td>\n",
       "    </tr>\n",
       "  </tbody>\n",
       "</table>\n",
       "</div>"
      ],
      "text/plain": [
       "        access  buyer  commission commissionAsset          id  maker marginAsset       orderId positionSide     price    qty            queryTime    quoteQty  realizedPnl  side   symbol           time                  updateDate\n",
       "0   similarity   True  0.44355168            USDT  3160586439  False        USDT  102342456928         BOTH  16801.20  0.066  2023-01-02 23:20:06  1108.87920   0.83820000   BUY  BTCUSDT  1672070404011  2022-12-27 00:00:04.011000\n",
       "1   similarity   True  0.44440704            USDT  3160746349  False        USDT  102395020106         BOTH  16833.60  0.066  2023-01-02 23:20:06  1111.01760            0   BUY  BTCUSDT  1672095604828  2022-12-27 07:00:04.828000\n",
       "2   similarity  False  0.44327448            USDT  3161591790  False        USDT  102551535628         BOTH  16790.70  0.066  2023-01-02 23:20:06  1108.18620  -2.83140000  SELL  BTCUSDT  1672156803919  2022-12-28 00:00:03.919000\n",
       "3   similarity  False  0.44043120            USDT  3162103271  False        USDT  102621535737         BOTH     16683  0.066  2023-01-02 23:20:06  1101.07800            0  SELL  BTCUSDT  1672182004852  2022-12-28 07:00:04.852000\n",
       "4   similarity   True  0.43742424            USDT  3163166046  False        USDT  102790904687         BOTH  16569.10  0.066  2023-01-02 23:20:06  1093.56060   7.51740000   BUY  BTCUSDT  1672243204016  2022-12-29 00:00:04.016000\n",
       "5   similarity  False  0.21136000            USDT  3163679626  False        USDT  102865093182         BOTH  16512.50  0.032  2023-01-02 23:20:06   528.40000            0  SELL  BTCUSDT  1672268407963  2022-12-29 07:00:07.963000\n",
       "6   similarity  False  0.23117500            USDT  3163679627  False        USDT  102865093182         BOTH  16512.50  0.035  2023-01-02 23:20:06   577.93750            0  SELL  BTCUSDT  1672268407963  2022-12-29 07:00:07.963000\n",
       "7   similarity   True  0.44517480            USDT  3164448286  False        USDT  103030790678         BOTH     16611  0.067  2023-01-02 23:20:06  1112.93700  -6.59950000   BUY  BTCUSDT  1672329604420  2022-12-30 00:00:04.420000\n",
       "8   similarity  False  0.03987360            USDT  3164707586  False        USDT  103095905261         BOTH     16614  0.006  2023-01-02 23:20:06    99.68400            0  SELL  BTCUSDT  1672354805495  2022-12-30 07:00:05.495000\n",
       "9   similarity  False  0.40538160            USDT  3164707587  False        USDT  103095905261         BOTH     16614  0.061  2023-01-02 23:20:06  1013.45400            0  SELL  BTCUSDT  1672354805495  2022-12-30 07:00:05.495000\n",
       "10  similarity   True  0.44347836            USDT  3165712686  False        USDT  103264817016         BOTH  16547.70  0.067  2023-01-02 23:20:06  1108.69590   4.44210000   BUY  BTCUSDT  1672416004035  2022-12-31 00:00:04.035000\n",
       "11  similarity   True  0.44441368            USDT  3166027963  False        USDT  103335021522         BOTH  16582.60  0.067  2023-01-02 23:20:06  1111.03420            0   BUY  BTCUSDT  1672441207739  2022-12-31 07:00:07.739000\n",
       "12  similarity  False  0.44450480            USDT  3166497339  False        USDT  103484799584         BOTH     16586  0.067  2023-01-02 23:20:06  1111.26200   0.22779999  SELL  BTCUSDT  1672502404000         2023-01-01 00:00:04\n",
       "13  similarity   True  0.44253500            USDT  3166700293  False        USDT  103545970846         BOTH  16512.50  0.067  2023-01-02 23:20:06  1106.33750            0   BUY  BTCUSDT  1672527605134  2023-01-01 07:00:05.134000\n",
       "14  similarity  False  0.44362040            USDT  3167107002  False        USDT  103689888141         BOTH     16553  0.067  2023-01-02 23:20:06  1109.05100   2.71350000  SELL  BTCUSDT  1672588803894  2023-01-02 00:00:03.894000\n",
       "15  similarity  False  0.44472992            USDT  3167312996  False        USDT  103749051748         BOTH  16594.40  0.067  2023-01-02 23:20:06  1111.82480            0  SELL  BTCUSDT  1672614006491  2023-01-02 07:00:06.491000"
      ]
     },
     "metadata": {},
     "output_type": "display_data"
    }
   ],
   "source": [
    "# df_trade.to_pickle(f'{g_dir}/tradedf.pkl' )\n",
    "df_tra = pd.read_pickle(f\"/workspaces/jupyter/tmp/tradedf.pkl\" )\n",
    "\n",
    "print(f\"{df_tra.shape}\")\n",
    "# print(f\"{df_tra}\")\n",
    "display(df_tra)"
   ]
  },
  {
   "cell_type": "code",
   "execution_count": 14,
   "metadata": {},
   "outputs": [
    {
     "name": "stdout",
     "output_type": "stream",
     "text": [
      "rt_df :\n",
      "   asset             update\n",
      "0      2  20221226 09:43:48\n",
      "Index(['asset', 'update'], dtype='object')\n",
      "RangeIndex(start=0, stop=1, step=1)\n"
     ]
    }
   ],
   "source": [
    "rt_df = pd.DataFrame([{'asset': 2, 'update': time.strftime('%Y%m%d %H:%M:%S')}])\n",
    "# print(type(rt_df), len(rt_df) )\n",
    "# print(f\" {rt_df.info}\" )\n",
    "# display(rt_df)\n",
    "print(f\"rt_df :\\n{rt_df}\")\n",
    "\n",
    "print(f\"{rt_df.columns}\")\n",
    "print(f\"{rt_df.index}\")\n"
   ]
  },
  {
   "cell_type": "code",
   "execution_count": 9,
   "metadata": {},
   "outputs": [
    {
     "name": "stdout",
     "output_type": "stream",
     "text": [
      "df :\n",
      "0    banana\n",
      "Name: b, dtype: object\n"
     ]
    }
   ],
   "source": [
    "dict = {'a':'apple','b':'banana'}\n",
    "df = pd.DataFrame([dict])\n",
    "\n",
    "print(f\"df :\\n{df.b}\")\n",
    "\n",
    "# print(f\"{df.columns}\")\n",
    "# print(f\"{df.index}\")"
   ]
  },
  {
   "cell_type": "code",
   "execution_count": 6,
   "metadata": {},
   "outputs": [
    {
     "name": "stdout",
     "output_type": "stream",
     "text": [
      "df2 :\n",
      "         Qunatity\n",
      "apple           3\n",
      "banana          5\n",
      "mango           7\n",
      "apricot         1\n",
      "kiwi            8\n",
      "orange          3\n"
     ]
    }
   ],
   "source": [
    "df2 = pd.DataFrame.from_dict({\n",
    " 'apple': 3,\n",
    " 'banana': 5,\n",
    " 'mango': 7,\n",
    " 'apricot': 1,\n",
    " 'kiwi': 8,\n",
    " 'orange': 3}, orient='index').rename(columns={0:'Qunatity'})\n",
    "\n",
    "print(f\"df2 :\\n{df2}\")\n",
    "\n",
    "# print(f\"{df2.columns}\")\n",
    "# print(f\"{df2.index}\")"
   ]
  },
  {
   "cell_type": "code",
   "execution_count": 5,
   "metadata": {},
   "outputs": [
    {
     "name": "stdout",
     "output_type": "stream",
     "text": [
      "df3 :\n",
      "0    0.838366\n",
      "1    0.965110\n",
      "2    0.392311\n",
      "3    0.553049\n",
      "4   -0.928512\n",
      "5   -0.024154\n",
      "6    1.072784\n",
      "7    0.231439\n",
      "Name: A, dtype: float64\n"
     ]
    }
   ],
   "source": [
    "# df3 = pd.DataFrame(np.arange(40).reshape(10,4),index=pd.date_range('2022-01-01',periods=10),columns=list('ABCD'))\n",
    "df3 =pd.DataFrame(np.random.randn(8,4), columns=list('ABCD') )\n",
    "\n",
    "print(f\"df3 :\\n{df3.A}\")\n",
    "\n",
    "# print(f\"{df3.columns}\")\n",
    "# print(f\"{df3.index}\")\n"
   ]
  },
  {
   "cell_type": "code",
   "execution_count": null,
   "metadata": {},
   "outputs": [],
   "source": [
    "# package\n",
    "import os\n",
    "\n",
    "try:\n",
    "    import pandas as pd\n",
    "    import time\n",
    "except:\n",
    "    # !pip install pandas numpy matplotlib scipy tqdm requests_toolbelt pymysql sqlalchemy flask pandas_datareader  torch  pymssql EMD-signal websocket-client ccxt statsmodels  sklearn\n",
    "\n",
    "    os.system('pip install pandas numpy matplotlib scipy tqdm pymysql sqlalchemy ')\n",
    "    os.system('pip install requests_toolbelt flask pandas_datareader sshtunnel torch ')\n",
    "    os.system('pip install pymssql EMD-signal websocket-client ccxt statsmodels sklearn')\n",
    "else:\n",
    "    print( f'{time.strftime(\"%Y-%m-%d %H:%M:%S\",time.localtime(time.time()+28800))}')\n"
   ]
  },
  {
   "cell_type": "code",
   "execution_count": 5,
   "metadata": {},
   "outputs": [
    {
     "name": "stdout",
     "output_type": "stream",
     "text": [
      "res: LinregressResult(slope=1.1555227171245548, intercept=0.8456324067808108, rvalue=0.6889931008951931, pvalue=0.0275471612353943, stderr=0.42975166763758704, intercept_stderr=0.2626135274280681)\n",
      "拟合度 R-squared: 0.474711\n",
      "(res[0]**2)*(res[2]**2): 1.1555227171245548 **2 * 0.6889931008951931 **2 = 0.6338503322641259\n"
     ]
    }
   ],
   "source": [
    "import matplotlib.pyplot as plt\n",
    "from scipy import stats\n",
    "rng = np.random.default_rng()\n",
    "x = rng.random(10)\n",
    "y = 1.6*x + rng.random(10)\n",
    "res = stats.linregress(x, y) # 线性拟合\n",
    "\n",
    "print(f\"res: {res}\")\n",
    "\n",
    "# LinregressResult(斜率slope=1.4609737282140889, 截距intercept=0.6260166856203904, 皮尔逊相关系数rvalue=0.76760585460041 rvalue 的平方等于决定系数, 对零假设为斜率为零的假设检验的p值pvalue=0.009535323744696659, 估计的斜率(梯度)的标准误差stderr=0.43128508714183683, 估计的截距的标准误差intercept_stderr=0.2307834268202402)\n",
    "\n",
    "print(f\"拟合度 R-squared: {res.rvalue**2:.6f}\")\n",
    "\n",
    "# ret = (result_[0]**2)*(result_[2]**2)\n",
    "print(f\"(res[0]**2)*(res[2]**2): {(res[0])} **2 * {(res[2])} **2 = {(res[0]**2)*(res[2]**2)}\")\n"
   ]
  },
  {
   "cell_type": "code",
   "execution_count": 10,
   "metadata": {},
   "outputs": [
    {
     "name": "stdout",
     "output_type": "stream",
     "text": [
      "df :\n",
      "Empty DataFrame\n",
      "Columns: [index]\n",
      "Index: []\n"
     ]
    }
   ],
   "source": [
    "df = pd.DataFrame()\n",
    "# df['index'] = range(0, 4059)\n",
    "df['index'] = np.nan\n",
    "\n",
    "print(f\"df :\\n{df}\")\n",
    "# print(f\"range(0, 4059) :\\n{range(0, 4059)}\")\n"
   ]
  },
  {
   "cell_type": "code",
   "execution_count": 7,
   "metadata": {},
   "outputs": [
    {
     "name": "stdout",
     "output_type": "stream",
     "text": [
      "reg_wid :\n",
      "[10 15 20 25 30 35 40 45 50 55]\n",
      "stat_wid :\n",
      "[ 60  90 120 150 180 210 240 270 300 330]\n",
      "threshold:\n",
      "[0.5 0.6 0.7 0.8 0.9 1.  1.1 1.2 1.3 1.4 1.5 1.6 1.7 1.8 1.9 2.  2.1 2.2\n",
      " 2.3 2.4]\n",
      "df_para:\n",
      "       0    1    2\n",
      "0     10   60  0.5\n",
      "1     10   60  0.6\n",
      "2     10   60  0.7\n",
      "3     10   60  0.8\n",
      "4     10   60  0.9\n",
      "...   ..  ...  ...\n",
      "1995  55  330  2.0\n",
      "1996  55  330  2.1\n",
      "1997  55  330  2.2\n",
      "1998  55  330  2.3\n",
      "1999  55  330  2.4\n",
      "\n",
      "[2000 rows x 3 columns]\n",
      "df_para.iloc[621] : \n",
      "0    25.0\n",
      "1    90.0\n",
      "2     0.6\n",
      "Name: 621, dtype: float64\n"
     ]
    }
   ],
   "source": [
    "reg_wid = 10 + (np.arange(10)) * 5\n",
    "\n",
    "stat_wid = 60 + (np.arange(10)) * 30\n",
    "\n",
    "threshold = 0.5 + (np.arange(20)) * 0.1\n",
    "\n",
    "print(f\"reg_wid :\\n{reg_wid}\")\n",
    "print(f\"stat_wid :\\n{stat_wid}\")\n",
    "print(f\"threshold:\\n{threshold}\")\n",
    "\n",
    "df_para = pd.DataFrame(list(product(reg_wid, stat_wid,threshold)))\n",
    "\n",
    "print(f\"df_para:\\n{df_para}\") # 10*10*20  :  10   60  0.5\n",
    "\n",
    "print(f\"df_para.iloc[621] : \\n{df_para.iloc[621]}\")  # 25  90  0.6\n",
    "\n"
   ]
  },
  {
   "cell_type": "code",
   "execution_count": null,
   "metadata": {},
   "outputs": [],
   "source": [
    "import talib\n",
    "# import mpl_finance as mpf\n",
    "import mplfinance as mpf\n",
    "import warnings\n",
    "import akshare as ak"
   ]
  },
  {
   "cell_type": "code",
   "execution_count": 2,
   "metadata": {},
   "outputs": [
    {
     "name": "stdout",
     "output_type": "stream",
     "text": [
      "             日期     开盘     收盘     最高     最低      成交量           成交额    振幅  \\\n",
      "0    2021-03-01  21.13  21.04  21.27  20.77  1125387  2.408051e+09  2.38   \n",
      "1    2021-03-02  21.21  21.24  21.74  20.85  1473425  3.196537e+09  4.23   \n",
      "2    2021-03-03  21.17  22.60  22.67  21.05  1919635  4.320024e+09  7.63   \n",
      "3    2021-03-04  22.36  22.51  23.08  22.24  1213579  2.799747e+09  3.72   \n",
      "4    2021-03-05  22.29  21.93  22.57  21.45   880171  1.960439e+09  4.98   \n",
      "..          ...    ...    ...    ...    ...      ...           ...   ...   \n",
      "127  2021-09-01  17.25  17.65  17.69  16.78  2316894  4.046284e+09  5.18   \n",
      "128  2021-09-02  17.77  18.17  18.55  17.57  2422604  4.454545e+09  5.55   \n",
      "129  2021-09-03  18.27  17.81  18.27  17.47  1394819  2.523273e+09  4.40   \n",
      "130  2021-09-06  17.70  18.22  18.37  17.55  1515226  2.780281e+09  4.60   \n",
      "131  2021-09-07  18.37  19.01  19.33  18.12  1622344  3.067366e+09  6.64   \n",
      "\n",
      "      涨跌幅   涨跌额   换手率  \n",
      "0    0.33  0.07  0.58  \n",
      "1    0.95  0.20  0.76  \n",
      "2    6.40  1.36  0.99  \n",
      "3   -0.40 -0.09  0.63  \n",
      "4   -2.58 -0.58  0.45  \n",
      "..    ...   ...   ...  \n",
      "127  0.46  0.08  1.19  \n",
      "128  2.95  0.52  1.25  \n",
      "129 -1.98 -0.36  0.72  \n",
      "130  2.30  0.41  0.78  \n",
      "131  4.34  0.79  0.84  \n",
      "\n",
      "[132 rows x 11 columns]\n"
     ]
    }
   ],
   "source": [
    "import akshare as ak\n",
    "\n",
    "stock_zh_a_hist_df = ak.stock_zh_a_hist(symbol=\"000001\", period=\"daily\", start_date=\"20210301\", end_date='20210907', adjust=\"qfq\")\n",
    "print(stock_zh_a_hist_df)"
   ]
  },
  {
   "cell_type": "code",
   "execution_count": 3,
   "metadata": {},
   "outputs": [
    {
     "name": "stdout",
     "output_type": "stream",
     "text": [
      "         date   open   high    low  close       volume  outstanding_share  \\\n",
      "0  2022-10-10  17.80  18.42  17.62  17.76   94803985.0       9.717151e+09   \n",
      "1  2022-10-11  17.76  17.77  16.74  16.98   88729965.0       9.717151e+09   \n",
      "2  2022-10-12  16.98  17.45  16.81  17.18   57958740.0       9.717151e+09   \n",
      "3  2022-10-13  17.02  17.15  16.42  16.80   70228592.0       9.717151e+09   \n",
      "4  2022-10-14  16.84  17.56  16.84  17.02   66315307.0       9.717151e+09   \n",
      "5  2022-10-17  16.90  17.03  16.35  16.60   89515229.0       9.717151e+09   \n",
      "6  2022-10-18  16.60  16.75  16.21  16.38   70268854.0       9.717151e+09   \n",
      "7  2022-10-19  16.30  16.56  16.17  16.17   69440597.0       9.717151e+09   \n",
      "8  2022-10-20  16.10  16.27  16.02  16.12   44992317.0       9.717151e+09   \n",
      "9  2022-10-21  16.30  16.48  16.07  16.19   65896956.0       9.717151e+09   \n",
      "10 2022-10-24  16.00  16.03  15.50  15.56   89302158.0       9.717151e+09   \n",
      "11 2022-10-25  15.50  15.73  15.38  15.55   59127836.0       9.717151e+09   \n",
      "12 2022-10-26  15.55  15.61  14.98  15.07  142607265.0       9.717151e+09   \n",
      "13 2022-10-27  15.07  15.16  14.88  14.89  106219858.0       9.717151e+09   \n",
      "14 2022-10-28  14.78  14.82  14.31  14.34   99699509.0       9.717151e+09   \n",
      "15 2022-10-31  14.08  14.10  13.13  13.52  179902012.0       9.717151e+09   \n",
      "16 2022-11-01  13.50  13.86  13.28  13.86  119725232.0       9.717151e+09   \n",
      "17 2022-11-02  13.65  14.09  13.50  13.91   97590232.0       9.717151e+09   \n",
      "18 2022-11-03  13.75  13.88  13.54  13.64   71606710.0       9.717151e+09   \n",
      "19 2022-11-04  13.58  14.09  13.55  14.04  107751438.0       9.717151e+09   \n",
      "\n",
      "    turnover  \n",
      "0   0.009756  \n",
      "1   0.009131  \n",
      "2   0.005965  \n",
      "3   0.007227  \n",
      "4   0.006825  \n",
      "5   0.009212  \n",
      "6   0.007231  \n",
      "7   0.007146  \n",
      "8   0.004630  \n",
      "9   0.006782  \n",
      "10  0.009190  \n",
      "11  0.006085  \n",
      "12  0.014676  \n",
      "13  0.010931  \n",
      "14  0.010260  \n",
      "15  0.018514  \n",
      "16  0.012321  \n",
      "17  0.010043  \n",
      "18  0.007369  \n",
      "19  0.011089  \n"
     ]
    }
   ],
   "source": [
    "stock_zh_a_daily_qfq_df = ak.stock_zh_a_daily(symbol=\"sz000002\", start_date=\"20221003\", end_date=\"20221106\", adjust=\"qfq\")\n",
    "print(stock_zh_a_daily_qfq_df)"
   ]
  },
  {
   "cell_type": "code",
   "execution_count": 4,
   "metadata": {},
   "outputs": [
    {
     "name": "stdout",
     "output_type": "stream",
     "text": [
      "3.10.4 (main, Aug 22 2022, 22:50:25) [GCC 9.4.0]\n",
      "/opt/python/latest/bin/python\n"
     ]
    }
   ],
   "source": [
    "import sys\n",
    "\n",
    "print(sys.version)\n",
    "print(sys.executable)"
   ]
  },
  {
   "cell_type": "code",
   "execution_count": 4,
   "metadata": {},
   "outputs": [
    {
     "name": "stdout",
     "output_type": "stream",
     "text": [
      "sklearn : 1.1.2\n"
     ]
    }
   ],
   "source": [
    "import sklearn\n",
    "print(\"sklearn :\" , sklearn.__version__)\n",
    "\n",
    "from sklearn.model_selection import train_test_split\n",
    "\n",
    "from sklearn import model_selection"
   ]
  },
  {
   "cell_type": "code",
   "execution_count": 2,
   "metadata": {},
   "outputs": [
    {
     "name": "stdout",
     "output_type": "stream",
     "text": [
      "UTC\n",
      "0.0\n",
      "28800.0\n",
      "4f58\n",
      "binance\n"
     ]
    }
   ],
   "source": [
    "from datetime import datetime, timedelta\n",
    "# LOCAL_TIMEZONE = datetime.datetime.now().astimezone().tzinfo  #datetime.timezone.utc\n",
    "print(f\"{datetime.now().astimezone().tzinfo}\")\n",
    "print(f\"{datetime.utcnow().astimezone().utcoffset().total_seconds()}\")\n",
    "print(f\"{28800 - datetime.utcnow().astimezone().utcoffset().total_seconds()}\")\n",
    "\n",
    "secret_key = \"4f58b518cecdfe9c574cd2aa9cbbea429796673d6226424bdda1f0155cd78876\"\n",
    "print(f\"{secret_key[:4]}\")\n",
    "\n",
    "serverUrl = 'http://testnet.binancefuture.com'\n",
    "serverUrl = 'http://www.binance.com'\n",
    "\n",
    "print(f\"{serverUrl.split('.')[1] }\")\n"
   ]
  },
  {
   "cell_type": "code",
   "execution_count": 2,
   "metadata": {},
   "outputs": [
    {
     "name": "stdout",
     "output_type": "stream",
     "text": [
      "2023-02-08 09:13:29.555482 20230208 09:13:29 1675818809   20230208 09:13:29 1675818809  \n",
      "1675818809.0\n",
      "0.0\n",
      "0 20230208 00:00:00 1675785600  \n",
      "1675785600\n",
      "1 1663084800\n",
      "2 1663257600\n",
      "3 1663372800\n",
      "4 2023-02-04 14:20:16\n",
      "5 2023-02-08 00:11:21\n",
      "6 2022-06-28 08:00:00\n",
      "7 2022-09-28 13:00:00\n",
      "8 2022-07-28 10:38:12\n",
      "9 2022-11-07 16:40:56\n",
      "10 1674954809000\n"
     ]
    }
   ],
   "source": [
    "from datetime import datetime, timedelta\n",
    "import time\n",
    "\n",
    "n1 = datetime.now()\n",
    "print(n1, n1.strftime(\"%Y%m%d %H:%M:%S %s %Z \"), datetime.now().strftime(\"%Y%m%d %H:%M:%S %s %Z \"))  # datetime.now().strftime(\"%Y%m%d\")  20230110 04:05:01 1673323501\n",
    "print(time.mktime(n1.timetuple())) # 1673323501.0\n",
    "\n",
    "print(f\"{28800 - datetime.utcnow().astimezone().utcoffset().total_seconds()}\") #时差 28800.0\n",
    "\n",
    "print(0, datetime.strptime(datetime.now().strftime(\"%Y%m%d\"), \"%Y%m%d\").strftime(\"%Y%m%d %H:%M:%S %s %Z \")  ) # 0 20230110 00:00:00 1673308800 \n",
    "\n",
    "print(int(datetime.strptime(datetime.now().strftime(\"%Y%m%d\"), \"%Y%m%d\").strftime(\"%s\")) ) # 1673308800\n",
    "\n",
    "print(1, int(datetime.strptime(\"20220914\", \"%Y%m%d\").strftime(\"%s\")) ) # 1 1663113600\n",
    "print(2, (datetime.strptime(\"20220914\", \"%Y%m%d\") + timedelta(days=2) ).strftime(\"%s\") )  # 2 1663286400\n",
    "print(3,  ( datetime.fromtimestamp(1663113600)+ timedelta(days=3) ).strftime(\"%s\")   ) #  3 1663372800\n",
    "\n",
    "print(4, datetime.fromtimestamp(1675491616)) # 4 2022-09-14 00:09:59\n",
    "print(5, datetime.fromtimestamp(1675786281)) #startSec=1663027200, endSec=1663113600,  # 5 2022-09-14 00:00:00\n",
    "\n",
    "print(6, datetime.fromtimestamp(1656345600999//1000 +28800 )) # 6 2022-06-28 00:00:00\n",
    "print(7, datetime.fromtimestamp(1664312400000//1000 +28800))   # 7 2022-09-28 05:00:00\n",
    "print(8, datetime.fromtimestamp(1658975892471//1000))   # 8 2022-07-28 02:38:12\n",
    "print(9, datetime.fromtimestamp(1667810456119//1000))   # 9 2022-11-07 08:40:56 \n",
    "\n",
    "print(10, (datetime.now()- timedelta(days=10) ).strftime(\"%s000\") )  # 10 1672459501000\n"
   ]
  },
  {
   "cell_type": "code",
   "execution_count": null,
   "metadata": {},
   "outputs": [],
   "source": [
    "# print(f'{ int(time.time() ) }')\n",
    "\n",
    "curDateTime = datetime.fromtimestamp( 1663113600//1000 +28800).strftime('%Y%m%d %H%M%S %w')\n",
    "\n",
    "hhmm = curDateTime[9:13]\n",
    "weekday = curDateTime[-1:]\n",
    "\n",
    "print(f\"{curDateTime =} , {hhmm =} , {weekday =} , \")\n",
    "\n",
    "\n",
    "g_name = 'similarity'\n",
    "print(f\"{g_name[:2].upper() }\")\n"
   ]
  },
  {
   "cell_type": "code",
   "execution_count": null,
   "metadata": {},
   "outputs": [],
   "source": [
    "def fun_upvar(idx, df):\n",
    "    idx = [int(i) for i in idx]\n",
    "    dfs=pd.DataFrame(df['pct'][idx])\n",
    "    ret = np.std(dfs['pct'][dfs['pct']>0])\n",
    "    return ret"
   ]
  },
  {
   "cell_type": "code",
   "execution_count": null,
   "metadata": {},
   "outputs": [],
   "source": [
    "def fun_upvol(idx, df):\n",
    "    idx = [int(i) for i in idx]\n",
    "    dfs=pd.DataFrame(df.iloc[idx])\n",
    "    ret = np.sum(dfs['amount'][dfs['pct']>0])/np.sum(dfs['amount'])\n",
    "    return ret\n",
    "def fun_downvar(idx, df):\n",
    "    idx = [int(i) for i in idx]\n",
    "    dfs=pd.DataFrame(df['pct'][idx])\n",
    "    ret = np.std(dfs['pct'][dfs['pct']<0])\n",
    "    return ret"
   ]
  },
  {
   "cell_type": "code",
   "execution_count": 2,
   "metadata": {},
   "outputs": [
    {
     "name": "stdout",
     "output_type": "stream",
     "text": [
      "2022-09-17 23:08:49\n"
     ]
    }
   ],
   "source": [
    "###%pip package###whl###module###\n",
    "try:\n",
    "    import pandas as pd\n",
    "    import numpy as np\n",
    "    import time\n",
    "    from datetime import datetime, timedelta\n",
    "except:\n",
    "    %pip install pandas numpy matplotlib scipy tqdm requests_toolbelt pymysql sqlalchemy flask pandas_datareader  torch  pymssql EMD-signal websocket-client ccxt statsmodels  sklearn sshtunnel\n",
    "else:\n",
    "    print( f'{time.strftime(\"%Y-%m-%d %H:%M:%S\",time.localtime(time.time()+28800))}')    "
   ]
  },
  {
   "cell_type": "code",
   "execution_count": null,
   "metadata": {},
   "outputs": [],
   "source": [
    "# !pip install -r requirements.txt\n",
    "\n",
    "%pip install pandas numpy matplotlib scipy tqdm requests_toolbelt pymysql sqlalchemy flask pandas_datareader  torch  pymssql EMD-signal websocket-client ccxt statsmodels  sklearn pycryptodome jwt werkzeug  "
   ]
  },
  {
   "cell_type": "code",
   "execution_count": null,
   "metadata": {},
   "outputs": [],
   "source": [
    "%pip install pycryptodome\n",
    "# !cal"
   ]
  },
  {
   "cell_type": "code",
   "execution_count": null,
   "metadata": {},
   "outputs": [],
   "source": [
    "df = pd.DataFrame(np.arange(40).reshape(10,4),index=pd.date_range('2022-01-01',periods=10),columns=list('ABCD'))\n",
    "df =pd.DataFrame(np.random.randn(8,4), columns=['A','B','C','D'])\n",
    "df =pd.DataFrame(np.array([i for i in range(1,41)]).reshape(10,4), columns=['A','B','C','D'])\n",
    "\n",
    "df[ df[\"D\"] > 1000  ].index.tolist()[-1] = 47\n",
    "df.iloc[-1].index.tolist() = ['A', 'B', 'C', 'D', 'index', 'idx']"
   ]
  },
  {
   "cell_type": "code",
   "execution_count": 12,
   "metadata": {},
   "outputs": [
    {
     "name": "stdout",
     "output_type": "stream",
     "text": [
      "        A     B     C     D\n",
      "0       1     2     3     4\n",
      "1       5     6     7     8\n",
      "2       9    10    11    12\n",
      "3      13    14    15    16\n",
      "4      17    18    19    20\n",
      "..    ...   ...   ...   ...\n",
      "283  1133  1134  1135  1136\n",
      "284  1137  1138  1139  1140\n",
      "285  1141  1142  1143  1144\n",
      "286  1145  1146  1147  1148\n",
      "287  1149  1150  1151  1152\n",
      "\n",
      "[288 rows x 4 columns]\n",
      "[250, 251, 252, 253, 254, 255, 256, 257, 258, 259, 260, 261, 262, 263, 264, 265, 266, 267, 268, 269, 270, 271, 272, 273, 274, 275, 276, 277, 278, 279, 280, 281, 282, 283, 284, 285, 286, 287]\n",
      "287\n"
     ]
    },
    {
     "ename": "AttributeError",
     "evalue": "'list' object has no attribute 'empty'",
     "output_type": "error",
     "traceback": [
      "\u001b[0;31m---------------------------------------------------------------------------\u001b[0m",
      "\u001b[0;31mAttributeError\u001b[0m                            Traceback (most recent call last)",
      "Cell \u001b[0;32mIn [12], line 6\u001b[0m\n\u001b[1;32m      4\u001b[0m \u001b[38;5;28mprint\u001b[39m( df[ df[\u001b[38;5;124m\"\u001b[39m\u001b[38;5;124mD\u001b[39m\u001b[38;5;124m\"\u001b[39m] \u001b[38;5;241m>\u001b[39m \u001b[38;5;241m1000\u001b[39m  ]\u001b[38;5;241m.\u001b[39mindex\u001b[38;5;241m.\u001b[39mtolist()) \u001b[38;5;66;03m# = 47\u001b[39;00m\n\u001b[1;32m      5\u001b[0m \u001b[38;5;28mprint\u001b[39m( df[ df[\u001b[38;5;124m\"\u001b[39m\u001b[38;5;124mD\u001b[39m\u001b[38;5;124m\"\u001b[39m] \u001b[38;5;241m>\u001b[39m \u001b[38;5;241m1000\u001b[39m  ]\u001b[38;5;241m.\u001b[39mindex\u001b[38;5;241m.\u001b[39mtolist()[\u001b[38;5;241m-\u001b[39m\u001b[38;5;241m1\u001b[39m]) \u001b[38;5;66;03m# = 47\u001b[39;00m\n\u001b[0;32m----> 6\u001b[0m \u001b[38;5;28mprint\u001b[39m( \u001b[43mdf\u001b[49m\u001b[43m[\u001b[49m\u001b[43m \u001b[49m\u001b[43mdf\u001b[49m\u001b[43m[\u001b[49m\u001b[38;5;124;43m\"\u001b[39;49m\u001b[38;5;124;43mD\u001b[39;49m\u001b[38;5;124;43m\"\u001b[39;49m\u001b[43m]\u001b[49m\u001b[43m \u001b[49m\u001b[38;5;241;43m>\u001b[39;49m\u001b[43m \u001b[49m\u001b[38;5;241;43m2000\u001b[39;49m\u001b[43m  \u001b[49m\u001b[43m]\u001b[49m\u001b[38;5;241;43m.\u001b[39;49m\u001b[43mindex\u001b[49m\u001b[38;5;241;43m.\u001b[39;49m\u001b[43mtolist\u001b[49m\u001b[43m(\u001b[49m\u001b[43m)\u001b[49m\u001b[38;5;241;43m.\u001b[39;49m\u001b[43mempty\u001b[49m() ) \u001b[38;5;66;03m# = 47\u001b[39;00m\n\u001b[1;32m      8\u001b[0m \u001b[38;5;28mprint\u001b[39m( \u001b[38;5;28mlen\u001b[39m(df\u001b[38;5;241m.\u001b[39mindex) \u001b[38;5;241m-\u001b[39m df[df[\u001b[38;5;124m'\u001b[39m\u001b[38;5;124mD\u001b[39m\u001b[38;5;124m'\u001b[39m] \u001b[38;5;241m>\u001b[39m \u001b[38;5;241m2000\u001b[39m ]\u001b[38;5;241m.\u001b[39mindex\u001b[38;5;241m.\u001b[39mtolist()[\u001b[38;5;241m-\u001b[39m\u001b[38;5;241m1\u001b[39m]  )\n",
      "\u001b[0;31mAttributeError\u001b[0m: 'list' object has no attribute 'empty'"
     ]
    }
   ],
   "source": [
    "df =pd.DataFrame(np.array([i for i in range(1,1153)]).reshape(288,4), columns=['A','B','C','D'])\n",
    "print(f'{df}')\n",
    "\n",
    "print( df[ df[\"D\"] > 1000  ].index.tolist()) # = 47\n",
    "print( df[ df[\"D\"] > 1000  ].index.tolist()[-1]) # = 47\n",
    "print( df[ df[\"D\"] > 2000  ].index.tolist().empty() ) # = 47\n",
    "\n",
    "print( len(df.index) - df[df['D'] > 2000 ].index.tolist()[-1]  )\n",
    "# (len(df_panel.index) - df_panel[df_panel['factor'] > float(thd) ].index.tolist()[-1] == wid2 -1)"
   ]
  },
  {
   "cell_type": "code",
   "execution_count": 15,
   "metadata": {},
   "outputs": [],
   "source": [
    "\n",
    "list_2 = [] # empty  empty\n",
    "if list_2:\n",
    "    print('list_2 is none')"
   ]
  },
  {
   "cell_type": "code",
   "execution_count": 6,
   "metadata": {},
   "outputs": [
    {
     "name": "stdout",
     "output_type": "stream",
     "text": [
      "<class 'numpy.float64'> , nan\n",
      "2\n",
      "    A   B   C   D  A0    A1   A_1  C_sign   E\n",
      "0 -10  -9  -8  -7 -10   NaN  -6.0      -1 NaN\n",
      "1  -6  -5  -4  -3  -6 -10.0  -2.0      -1 NaN\n",
      "2  -2  -1   0   1  -2  -6.0   2.0       0 NaN\n",
      "3   2   3   4   5   2  -2.0   6.0       1 NaN\n",
      "4   6   7   8   9   6   2.0  10.0       1 NaN\n",
      "5  10  11  12  13  10   6.0  14.0       1 NaN\n",
      "6  14  15  16  17  14  10.0  18.0       1 NaN\n",
      "7  18  19  20  21  18  14.0  22.0       1 NaN\n",
      "8  22  23  24  25  22  18.0  26.0       1 NaN\n",
      "9  26  27  28  29  26  22.0   NaN       1 NaN\n",
      "df['A_1'].iloc[-1] =nan , curSign = 0\n",
      "df['A_1'].iloc[-2] =26.0 , curSign = 26\n"
     ]
    }
   ],
   "source": [
    "df =pd.DataFrame(np.array([i for i in range(-10,30)]).reshape(10,4), columns=['A','B','C','D'])\n",
    "\n",
    "# print(df)\n",
    "df['A0'] = df.A.shift(0)\n",
    "df['A1'] = df.A.shift(1)  # +下移\n",
    "df['A_1'] = df.A.shift(-1) # -上移\n",
    "df['C_sign'] = np.sign(df['C'])\n",
    "df['E'] = np.nan\n",
    "\n",
    "print(f\"{ type(df['E'].iloc[-1])} , {df['E'].iloc[-1]}\")\n",
    "if not np.isnan(df['E'].iloc[-1]):\n",
    "    print(1)\n",
    "else:\n",
    "    print(2)\n",
    "\n",
    "\n",
    "# print(f\"{len(df)}\")\n",
    "print(df)\n",
    "\n",
    "curSign = 0 if np.isnan(df['A_1'].iloc[-1]) else int(df['A_1'].iloc[-1])\n",
    "print(f\"{df['A_1'].iloc[-1] =} , {curSign = }\")\n",
    "\n",
    "curSign = 0 if np.isnan(df['A_1'].iloc[-2]) else int(df['A_1'].iloc[-2])\n",
    "print(f\"{df['A_1'].iloc[-2] =} , {curSign = }\")"
   ]
  },
  {
   "cell_type": "code",
   "execution_count": 2,
   "metadata": {},
   "outputs": [],
   "source": [
    "totalWorthdf2 = pd.read_pickle('/workspaces/jupyter/tmp/totalWorthdf2.pkl') \n",
    "# ukdf.to_pickle(f\"{g_worthDir}/uk4hdf.pkl\" )\n"
   ]
  },
  {
   "cell_type": "code",
   "execution_count": 3,
   "metadata": {},
   "outputs": [
    {
     "name": "stdout",
     "output_type": "stream",
     "text": [
      "(54590, 14)\n",
      "   id  mainID  subID  strategyID cashworth usdtcontractworth  \\\n",
      "0   1       2      4           2         0           1000000   \n",
      "1   2       2      4           2         0           1000000   \n",
      "\n",
      "  tokencontractworth           time  keyid  totalworth          name  sid  \\\n",
      "0                  0  1657881600156      0   1000000.0  testStrategy    2   \n",
      "1                  0  1657881600380      0   1000000.0  testStrategy    2   \n",
      "\n",
      "              dateTime   date  \n",
      "0  2022-07-15 18:40:00  07/15  \n",
      "1  2022-07-15 18:40:00  07/15  \n",
      "            id  mainID  subID  strategyID cashworth  \\\n",
      "54588  2449695       2      4           2         0   \n",
      "54589  2449757       2      4           2         0   \n",
      "\n",
      "                      usdtcontractworth tokencontractworth           time  \\\n",
      "54588  1276692.475853636840002749439196                  0  1671680400511   \n",
      "54589  1277065.505011900000002749439196                  0  1671680700285   \n",
      "\n",
      "       keyid    totalworth          name  sid             dateTime   date  \n",
      "54588      0  1.276692e+06  testStrategy    2  2022-12-22 11:40:00  12/22  \n",
      "54589      0  1.277066e+06  testStrategy    2  2022-12-22 11:45:00  12/22  \n"
     ]
    }
   ],
   "source": [
    "print(totalWorthdf2.shape)\n",
    "print(totalWorthdf2.head(2))\n",
    "print(totalWorthdf2.tail(2))\n"
   ]
  },
  {
   "cell_type": "code",
   "execution_count": 12,
   "metadata": {},
   "outputs": [
    {
     "name": "stdout",
     "output_type": "stream",
     "text": [
      "(54590, 3)\n",
      "              dateTime  totalworth           time\n",
      "0  2022-07-15 18:40:00   1000000.0  1657881600156\n",
      "1  2022-07-15 18:40:00   1000000.0  1657881600380\n",
      "                  dateTime    totalworth           time\n",
      "54588  2022-12-22 11:40:00  1.276692e+06  1671680400511\n",
      "54589  2022-12-22 11:45:00  1.277066e+06  1671680700285\n"
     ]
    }
   ],
   "source": [
    "Worth_df = totalWorthdf2[['dateTime' , 'totalworth' , 'time' ]]\n",
    "print(Worth_df.shape)\n",
    "print(Worth_df.head(2))\n",
    "print(Worth_df.tail(2))\n",
    "Worth_df.to_csv('/workspaces/jupyter/tmp/similarity2_5min.csv')\n"
   ]
  },
  {
   "cell_type": "code",
   "execution_count": 13,
   "metadata": {},
   "outputs": [
    {
     "name": "stdout",
     "output_type": "stream",
     "text": [
      "(158, 2)\n",
      "       totalworth           time\n",
      "date                            \n",
      "07/15   1000000.0  1657900500955\n",
      "07/16   1000000.0  1657986900991\n",
      "         totalworth           time\n",
      "date                              \n",
      "12/21  1.274463e+06  1671638100237\n",
      "12/22  1.277066e+06  1671680700285\n"
     ]
    }
   ],
   "source": [
    "# simi_df = totalWorthdf2[totalWorthdf2['name']=='testStrategy']\n",
    "simi_df = totalWorthdf2[['date' , 'totalworth' , 'time' ]].groupby('date').last()\n",
    "print(simi_df.shape)\n",
    "print(simi_df.head(2))\n",
    "print(simi_df.tail(2))\n",
    "simi_df.to_csv('/workspaces/jupyter/tmp/similarity2_day.csv')"
   ]
  }
 ],
 "metadata": {
  "kernelspec": {
   "display_name": "Python 3",
   "language": "python",
   "name": "python3"
  },
  "language_info": {
   "codemirror_mode": {
    "name": "ipython",
    "version": 3
   },
   "file_extension": ".py",
   "mimetype": "text/x-python",
   "name": "python",
   "nbconvert_exporter": "python",
   "pygments_lexer": "ipython3",
   "version": "3.9.15"
  },
  "orig_nbformat": 4,
  "vscode": {
   "interpreter": {
    "hash": "9cf7d99a2138d16bfc4f40064505db242ca26c197d6ac197cab9340fe6c17a36"
   }
  }
 },
 "nbformat": 4,
 "nbformat_minor": 2
}
