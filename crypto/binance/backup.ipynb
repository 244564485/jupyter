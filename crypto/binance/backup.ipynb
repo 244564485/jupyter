{
 "cells": [
  {
   "cell_type": "code",
   "execution_count": 4,
   "metadata": {},
   "outputs": [
    {
     "name": "stdout",
     "output_type": "stream",
     "text": [
      "3.10.4 (main, Nov 29 2022, 20:00:25) [GCC 9.4.0] , /home/codespace/.python/current/bin/python3 \n",
      "2023-01-02 21:27:07 *****import**v1.0.1*** \n"
     ]
    }
   ],
   "source": [
    "#!/usr/bin/env python3\n",
    "# coding=utf-8\n",
    "import websocket\n",
    "import time\n",
    "import threading\n",
    "import requests\n",
    "import json\n",
    "import pandas as pd\n",
    "import numpy as np\n",
    "import sqlite3\n",
    "from sqlalchemy import create_engine\n",
    "from datetime import datetime, timedelta\n",
    "import hashlib\n",
    "import hmac\n",
    "import math\n",
    "import sys\n",
    "import logging\n",
    "import os\n",
    "import getopt\n",
    "import traceback\n",
    "from scipy import stats\n",
    "from itertools import product as product\n",
    "from aligo import Aligo\n",
    "\n",
    "g_worthDir = '../pkl'  # \n",
    "g_parentDir = '../../..'  # \n",
    "g_dbfile = f\"{g_parentDir}/pkl/hq.db\" # \n",
    "g_name = g_access = 'logic'\n",
    "\n",
    "df_balance = pd.DataFrame()\n",
    "df_posirisk = pd.DataFrame()\n",
    "df_order = pd.DataFrame()\n",
    "df_trade = pd.DataFrame()\n",
    "\n",
    "g_locTimeadj = 28800 # 28800 0\n",
    "g_version = '1.0.1'\n",
    "\n",
    "print(f\"{sys.version} , {sys.executable} \")\n",
    "print(f\"{time.strftime('%Y-%m-%d %H:%M:%S',time.localtime(time.time()+g_locTimeadj))} *****import**v{g_version}*** \")"
   ]
  },
  {
   "cell_type": "code",
   "execution_count": 6,
   "metadata": {},
   "outputs": [
    {
     "name": "stdout",
     "output_type": "stream",
     "text": [
      "Empty DataFrame\n",
      "Columns: []\n",
      "Index: []\n"
     ]
    }
   ],
   "source": [
    "conn = sqlite3.connect('../pkl/binance.db')  # g_dbfile\n",
    "try:\n",
    "    df_trade = pd.read_sql(' select * from trade ', conn)\n",
    "except:\n",
    "    pass\n",
    "print(f\"{df_trade}\")\n",
    "conn.close()"
   ]
  },
  {
   "cell_type": "code",
   "execution_count": null,
   "metadata": {},
   "outputs": [],
   "source": [
    "conn = sqlite3.connect('../pkl/binance.db')\n",
    "# df_acc0 = pd.read_sql(' select * from account ', conn) \n",
    "# rt_df.to_sql('account', con=conn, if_exists='append', index=False) #,\n",
    "# df_bal0 = pd.read_sql(' select * from balance ', conn) \n",
    "df_ord0 = pd.read_sql(' select * from orders ', conn) \n",
    "conn.close()\n",
    "\n",
    "display(df_ord0)"
   ]
  },
  {
   "cell_type": "code",
   "execution_count": null,
   "metadata": {},
   "outputs": [],
   "source": [
    "def savePickle(src_df, dest_df, flag):\n",
    "\n",
    "    pklFile = f\"{os.getcwd()}/origin/{flag}.pkl\"\n",
    "\n",
    "    if dest_df.empty:\n",
    "        if os.path.exists(pklFile):\n",
    "            dest_df = pd.read_pickle(pklFile)\n",
    "        else:\n",
    "            dest_df = pd.DataFrame()\n",
    "\n",
    "    dest_df = pd.concat([dest_df, src_df], ignore_index=True)\n",
    "    dest_df.to_pickle(pklFile)"
   ]
  },
  {
   "cell_type": "code",
   "execution_count": 2,
   "metadata": {},
   "outputs": [
    {
     "name": "stdout",
     "output_type": "stream",
     "text": [
      "2022-12-06 20:51:14\n"
     ]
    }
   ],
   "source": [
    "try:\n",
    "    from aligo import Aligo\n",
    "    import time\n",
    "except:\n",
    "    # !pip install pandas numpy matplotlib scipy tqdm requests_toolbelt pymysql sqlalchemy flask pandas_datareader  torch  pymssql EMD-signal websocket-client ccxt statsmodels  sklearn\n",
    "\n",
    "    # os.system('pip install pandas numpy matplotlib scipy tqdm pymysql sqlalchemy ')\n",
    "    # os.system('pip install requests_toolbelt flask pandas_datareader sshtunnel torch ')\n",
    "    # os.system('pip install pymssql EMD-signal websocket-client ccxt statsmodels sklearn')\n",
    "    os.system('pip install --upgrade aligo')\n",
    "else:\n",
    "    print( f'{time.strftime(\"%Y-%m-%d %H:%M:%S\",time.localtime(time.time()+28800))}')\n"
   ]
  },
  {
   "cell_type": "code",
   "execution_count": 4,
   "metadata": {},
   "outputs": [
    {
     "name": "stderr",
     "output_type": "stream",
     "text": [
      "12:51:34.742 aligo.INFO Config /home/codespace/.aligo/aligo.json\n",
      "12:51:34.743 aligo.INFO 日志等级 DEBUG\n",
      "12:51:35.424 aligo.INFO 类 Unix 操作系统\n",
      "12:51:35.428 aligo.INFO 加载配置文件 /home/codespace/.aligo/aligo.json\n",
      "12:51:36.116 aligo.INFO POST https://api.aliyundrive.com/v2/user/get 200 570\n",
      "12:51:36.306 aligo.INFO POST https://api.aliyundrive.com/adrive/v3/file/list 200 3160\n"
     ]
    },
    {
     "name": "stdout",
     "output_type": "stream",
     "text": [
      "151***426 ation 15157186426\n",
      "638eae22a6ba5cb7577643af80a42f5b557d42cd backup folder\n",
      "638dd4cfb94a892c7f794e258ac7d4fdfad3d1a9 Resource folder\n",
      "60bb49a0430ef482563b41dea47b79e2d889c964 Settings folder\n",
      "6065997c09a221bf81bb4df0bc31398f3c5f9ad3 tutorial folder\n",
      "60fb7c95a41823d493574039bfaa7414650c9889 Share folder\n",
      "6065997545a54ae72e1b4e70980adfd758e5f944 IT folder\n",
      "60659969cdae7f3424ba4a8499ccdfa09c17bddf Com folder\n"
     ]
    }
   ],
   "source": [
    "from aligo import Aligo\n",
    "\n",
    "if __name__ == '__main__':\n",
    "    ali = Aligo(email=('ation126@126.com', 'ation126') )  # 首次扫描二维码 # email=('ation126@126.com', 'ation126')  port=8080 # ali1 = Aligo(name='user1')\n",
    "    \n",
    "    user = ali.get_user()  # 获取用户信息\n",
    "    print(user.user_name, user.nick_name, user.phone)  # 打印用户信息\n",
    "    \n",
    "    ll = ali.get_file_list()  # 获取网盘根目录文件列表\n",
    "    for file in ll:  # 遍历文件列表\n",
    "        print(file.file_id, file.name, file.type)  # 打印文件信息"
   ]
  },
  {
   "cell_type": "code",
   "execution_count": 5,
   "metadata": {},
   "outputs": [
    {
     "name": "stderr",
     "output_type": "stream",
     "text": [
      "12:16:09.957 aligo.INFO POST https://api.aliyundrive.com/adrive/v3/file/list 200 3160\n",
      "12:16:10.136 aligo.INFO POST https://api.aliyundrive.com/adrive/v3/file/list 200 599\n",
      "12:16:10.137 aligo.INFO 开始上传文件 /workspaces/jupyter/tmp/t1.py\n",
      "12:16:10.462 aligo.INFO POST https://api.aliyundrive.com/adrive/v2/file/createWithFolders 409 149\n",
      "12:16:10.701 aligo.INFO POST https://api.aliyundrive.com/adrive/v2/file/createWithFolders 201 368\n",
      "12:16:10.702 aligo.INFO 文件秒传成功 /workspaces/jupyter/tmp/t1.py\n"
     ]
    },
    {
     "data": {
      "text/plain": [
       "CreateFileResponse(file_name='t1.py', type='file', file_id='638f328a2efd8502ae1c4605872632a37397ef7f', parent_file_id='638ebc1b51285f016b574feb9177888d6ebe7625')"
      ]
     },
     "execution_count": 5,
     "metadata": {},
     "output_type": "execute_result"
    }
   ],
   "source": [
    "# 上传文件/夹\n",
    "remote_folder = ali.get_folder_by_path('/backup/20221206/') # /\n",
    "ali.upload_folder('/workspaces/jupyter/tmp/', parent_file_id=remote_folder.file_id) # parent_file_id='61021f2e841b7566d37349d2bd5f42ec56885d68'\n",
    "# ali.update_file(UpdateFileRequest(file_id=test_file, name=new_name))\n",
    "ali.upload_file('/workspaces/jupyter/tmp/t1.py', parent_file_id=remote_folder.file_id)"
   ]
  },
  {
   "cell_type": "code",
   "execution_count": 6,
   "metadata": {},
   "outputs": [
    {
     "name": "stderr",
     "output_type": "stream",
     "text": [
      "12:25:43.681 aligo.INFO POST https://api.aliyundrive.com/adrive/v3/file/list 200 3160\n",
      "12:25:43.843 aligo.INFO POST https://api.aliyundrive.com/adrive/v3/file/list 200 599\n",
      "12:25:44.012 aligo.INFO POST https://api.aliyundrive.com/adrive/v3/file/list 200 6509\n",
      "12:25:44.014 aligo.INFO 开始下载文件 /workspaces/jupyter/dev/t1.py\n",
      "100%|\u001b[38;2;49;168;255m██████████\u001b[0m| 25.3k/25.3k [00:00<00:00, 13.8MB/s]\n",
      "12:25:44.568 aligo.INFO 文件下载完成 /workspaces/jupyter/dev/t1.py\n"
     ]
    }
   ],
   "source": [
    "# 下载文件/夹\n",
    "file = ali.get_file_by_path('/backup/20221206/t1.py')\n",
    "local_folder = '/workspaces/jupyter/dev/'\n",
    "if file.type == 'file':\n",
    "    ali.download_file(file=file, local_folder=local_folder)\n",
    "else:\n",
    "    ali.download_folder(file.file_id, local_folder=local_folder)"
   ]
  },
  {
   "cell_type": "code",
   "execution_count": null,
   "metadata": {},
   "outputs": [],
   "source": [
    "# 相册\n",
    "r = ali.get_albums_info()\n",
    "print(r.driveId, r.driveName)"
   ]
  },
  {
   "cell_type": "code",
   "execution_count": null,
   "metadata": {},
   "outputs": [],
   "source": [
    "from aligo import Aligo\n",
    "\n",
    "if __name__ == '__main__':\n",
    "    ali = Aligo()\n",
    "\n",
    "    for i in ali.get_file_list(drive_id='6333175'):\n",
    "        print(i)\n",
    "\n",
    "    # 获取相册列表\n",
    "    for album in ali.list_albums():\n",
    "        \"\"\"\n",
    "        6333175 None 3 default  # 注意，云盘中会有一个 默认的 album，无法删除\n",
    "        6333175 None None starred\n",
    "        iqbf34LjW2 标题。 3 manual\n",
    "        k6R1nmadvf6 产品标题。 0 manual\n",
    "        \"\"\"\n",
    "        print(album.album_id, album.name, album.total_count, album.type)\n",
    "\n",
    "    # 创建相册\n",
    "    album = ali.create_album('aligo', description='create by aligo')\n",
    "    print(album.album_id)\n",
    "    print(album.name)\n",
    "    print(album.description)\n",
    "    print(album.owner)\n",
    "    print(album.created_at)\n",
    "    print(album.updated_at)\n",
    "    print(album.file_count)\n",
    "    print(album.image_count)\n",
    "    print(album.video_count)\n",
    "\n",
    "    # 添加文件到相册\n",
    "    # 可以从本地或云盘中添加\n",
    "    # 从本地添加需要先上传\n",
    "    # f = ali.upload_file(r\"C:\\Users\\foyou\\Pictures\\Avatar\\copilot-logo-large.png\")  # 如果在云盘中删除此文件，相册中对应图片也会消失\n",
    "    f = ali.upload_file(r\"C:\\Users\\foyou\\Pictures\\Avatar\\copilot-logo-large.png\", drive_id=ali.album_info.driveId)\n",
    "    # ali.add_files_to_album(album.album_id, [f])\n",
    "    ali.add_file_to_album(album.album_id, f)\n",
    "    # ali.add_file_to_album('LTeF1dwB3Wy', f)\n",
    "\n",
    "    ll = ali.list_album_files(album.album_id)\n",
    "    for i in ll:\n",
    "        print(i)\n",
    "\n",
    "    # 重命名相册\n",
    "    r = ali.rename_album(album.album_id, '相册新名字')\n",
    "    print(r)\n",
    "\n",
    "    # 删除相册\n",
    "    # ali.delete_album(album.album_id)\n"
   ]
  },
  {
   "cell_type": "code",
   "execution_count": null,
   "metadata": {},
   "outputs": [],
   "source": [
    "# 文件（夹）相关  \n",
    "# 创建文件夹：create_folder  \n",
    "# 重命名文件（夹）\n",
    "# rename_file: 重命名文件（夹）\n",
    "# batch_rename_files: 批量重命名文件（夹）\n",
    "# 移动文件（夹）\n",
    "# move_file: 移动文件（夹）\n",
    "# batch_move_files: 批量移动文件（夹）\n",
    "# 复制文件（夹）\n",
    "# copy_file: 复制文件（夹）\n",
    "# batch_copy_files: 批量复制文件（夹）\n",
    "# 获取文件（夹）\n",
    "# get_file: 获取文件（夹）\n",
    "# batch_get_files: 批量获取文件（夹）\n",
    "# get_file_by_path: 根据路径获取文件（夹）\n",
    "# 获取文件列表: get_file_list\n",
    "# 其他\n",
    "# get_path: 获取文件（夹）路径信息\n",
    "# 收藏相关\n",
    "# starred_file: 收藏和取消收藏 文件（夹）\n",
    "# batch_star_files: 批量收藏和取消收藏 文件（夹）\n",
    "# 分享相关\n",
    "# get_share_list: 获取分享列表\n",
    "# 分享文件（夹）\n",
    "# share_file: （批量）分享文件（夹）\n",
    "# 取消分享文件（夹）\n",
    "# cancel_share: 取消分享\n",
    "# batch_cancel_share: 批量取消分享\n",
    "# update_share: 更新分享\n",
    "# get_share_info: 获取分享信息\n",
    "# get_share_token: 获取分享 token\n",
    "# get_share_file: 获取分享文件（夹）\n",
    "# get_share_file_list: 获取分享文件列表\n",
    "# share_file_saveto_drive: 保存分享文件（夹）\n",
    "# batch_share_file_saveto_drive: 批量保存分享文件（夹）\n",
    "# get_share_link_download_url:\n",
    "# 自定义分享\n",
    "# share_files_by_aligo: 批量分享文件\n",
    "# share_folder_by_aligo: 分享文件夹\n",
    "# save_files_by_aligo：保存自定义分享\n",
    "# 回收站相关\n",
    "# get_recyclebin_list: 获取回收站文件列表\n",
    "# 移动文件（夹）至回收站：不提供彻底删除的接口，如需使用，请参考自定义功能\n",
    "# move_file_to_trash: 移动文件（夹）到回收站\n",
    "# batch_move_to_trash: 批量移动文件（夹）到回收站\n",
    "# 从回收站恢复文件（夹）\n",
    "# restore_file: 恢复回收站文件（夹）\n",
    "# batch_restore_files: 批量恢复回收站文件（夹）\n",
    "# 下载相关\n",
    "# download_file: 下载文件\n",
    "# download_files: 批量下载文件\n",
    "# download_folder: 下载文件夹\n",
    "# 其他\n",
    "# get_download_url: 获取文件下载地址（一般不直接使用）\n",
    "# batch_download_url: 批量获取文件下载地址（一般不直接使用）\n",
    "# 上传相关\n",
    "# upload_file: 上传文件\n",
    "# upload_files: 批量上传文件\n",
    "# upload_folder: 上传文件夹\n",
    "# 其他\n",
    "# sync_folder: 文件夹同步"
   ]
  },
  {
   "cell_type": "code",
   "execution_count": 1,
   "metadata": {},
   "outputs": [
    {
     "ename": "AttributeError",
     "evalue": "'dict' object has no attribute 'access_token'",
     "output_type": "error",
     "traceback": [
      "\u001b[0;31m---------------------------------------------------------------------------\u001b[0m",
      "\u001b[0;31mAttributeError\u001b[0m                            Traceback (most recent call last)",
      "Cell \u001b[0;32mIn [1], line 6\u001b[0m\n\u001b[1;32m      3\u001b[0m data \u001b[39m=\u001b[39m {\u001b[39m\"\u001b[39m\u001b[39mcorpid\u001b[39m\u001b[39m\"\u001b[39m:\u001b[39m\"\u001b[39m\u001b[39mww9ca2ccd8f391f581\u001b[39m\u001b[39m\"\u001b[39m, \u001b[39m\"\u001b[39m\u001b[39mcorpsecret\u001b[39m\u001b[39m\"\u001b[39m:\u001b[39m\"\u001b[39m\u001b[39mlbjGCu1aNPJafrahotkvOrqrL-m7NfYehPisHMnthro\u001b[39m\u001b[39m\"\u001b[39m}\n\u001b[1;32m      5\u001b[0m res \u001b[39m=\u001b[39m requests\u001b[39m.\u001b[39mget(url,data)\u001b[39m.\u001b[39mjson() \u001b[39m# json返回值  .text  7200秒（2小时）有效,不能频繁调 频率拦截 缓存\u001b[39;00m\n\u001b[0;32m----> 6\u001b[0m \u001b[39mprint\u001b[39m(res\u001b[39m.\u001b[39;49maccess_token)  \n",
      "\u001b[0;31mAttributeError\u001b[0m: 'dict' object has no attribute 'access_token'"
     ]
    }
   ],
   "source": [
    "import requests \n",
    "url='https://qyapi.weixin.qq.com/cgi-bin/gettoken?'\n",
    "data = {\"corpid\":\"ww9ca2ccd8f391f581\", \"corpsecret\":\"lbjGCu1aNPJafrahotkvOrqrL-m7NfYehPisHMnthro\"}\n",
    "\n",
    "res = requests.get(url,data).json() # json返回值  .text  7200秒（2小时）有效,不能频繁调 频率拦截 缓存\n",
    "print(res['access_token'])  "
   ]
  },
  {
   "cell_type": "code",
   "execution_count": 3,
   "metadata": {},
   "outputs": [
    {
     "name": "stdout",
     "output_type": "stream",
     "text": [
      "hP0CDQj0cGf4SPBY9HO2bbOnPZKk8zQH2GzaX_EpoXy2NBlHPVM0wrubqa-5MbmNizbbVZUAsO4S6DqhxzGUwklU6-wFKyV-NMF0Kbxx8BAuuvkl7Bfh47HrlbsS-pBLyQkYlcxuOrTcLcpLL3NNTp5FvDirn7wcxdcMebIqREytYpuKADkjdkYvD15NR6Y-Iyu1aLwjcvW80lbRHxRrWQ\n"
     ]
    }
   ],
   "source": [
    "print(res['access_token'])  "
   ]
  },
  {
   "cell_type": "code",
   "execution_count": 4,
   "metadata": {},
   "outputs": [
    {
     "name": "stdout",
     "output_type": "stream",
     "text": [
      "{'errcode': 0, 'errmsg': 'ok', 'msgid': 'mrVtVXE39it1tWVvd57npC59J-4uRFiUWzv4d3O6enxJ777ZqhbNVWR3dIiM7dZvlb8tKP0rQpPS2SrdPjVHhQ'}\n"
     ]
    }
   ],
   "source": [
    "import requests \n",
    "\n",
    "# 企业微信 wechat weixin\n",
    "# 弓长投资\n",
    "# 15157186426\n",
    "# 张燕华\n",
    "# 微信企业ID :  ww9ca2ccd8f391f581 \n",
    "# AgentId : 1000002\n",
    "# Secret : lbjGCu1aNPJafrahotkvOrqrL-m7NfYehPisHMnthro\n",
    "\n",
    "\n",
    "url='https://qyapi.weixin.qq.com/cgi-bin/gettoken?'\n",
    "data = {\"corpid\":\"ww9ca2ccd8f391f581\", \"corpsecret\":\"lbjGCu1aNPJafrahotkvOrqrL-m7NfYehPisHMnthro\"}\n",
    "\n",
    "# res = requests.get(url,data).json() # json返回值  .text  7200秒（2小时）有效,不能频繁调 频率拦截 缓存\n",
    "# print(res['access_token'])  \n",
    "\n",
    "access_token = \"hP0CDQj0cGf4SPBY9HO2bbOnPZKk8zQH2GzaX_EpoXy2NBlHPVM0wrubqa-5MbmNizbbVZUAsO4S6DqhxzGUwklU6-wFKyV-NMF0Kbxx8BAuuvkl7Bfh47HrlbsS-pBLyQkYlcxuOrTcLcpLL3NNTp5FvDirn7wcxdcMebIqREytYpuKADkjdkYvD15NR6Y-Iyu1aLwjcvW80lbRHxRrWQ\"\n",
    "\n",
    "url='https://qyapi.weixin.qq.com/cgi-bin/message/send?debug=1&access_token=' + access_token\n",
    "data = {\n",
    "        \"touser\" : \"@all\",   # 成员ID列表 \"UserID1|UserID2|UserID3\",\n",
    "        # \"toparty\" : \"PartyID1|PartyID2\", # 部门ID列表 @all忽略本参数\n",
    "        # \"totag\" : \"TagID1 | TagID2\", # 标签ID列表 @all忽略本参数\n",
    "        \"msgtype\" : \"text\",  # 消息类型text\n",
    "        \"agentid\" : 1000002,  # 企业应用的id 整型\n",
    "        \"text\" : { \"content\" : 'Hello 2022 Hwr!' },\n",
    "        # \"safe\":1,  # 保密消息\n",
    "        # \"enable_id_trans\": 1, # 是否开启id转译\n",
    "        # \"enable_duplicate_check\": 1,  # 是否开启重复消息检查\n",
    "        # \"duplicate_check_interval\": 1800  # 是否重复消息检查的时间间隔，默认1800s，最大不超过4小时\n",
    "    }\n",
    "\n",
    "res = requests.post(url,json=data).json()\n",
    "print(res)\n",
    "\n"
   ]
  }
 ],
 "metadata": {
  "kernelspec": {
   "display_name": "Python 3.10.4 64-bit",
   "language": "python",
   "name": "python3"
  },
  "language_info": {
   "codemirror_mode": {
    "name": "ipython",
    "version": 3
   },
   "file_extension": ".py",
   "mimetype": "text/x-python",
   "name": "python",
   "nbconvert_exporter": "python",
   "pygments_lexer": "ipython3",
   "version": "3.10.4"
  },
  "orig_nbformat": 4,
  "vscode": {
   "interpreter": {
    "hash": "3ad933181bd8a04b432d3370b9dc3b0662ad032c4dfaa4e4f1596c548f763858"
   }
  }
 },
 "nbformat": 4,
 "nbformat_minor": 2
}
