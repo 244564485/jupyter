{
 "cells": [
  {
   "cell_type": "code",
   "execution_count": 1,
   "metadata": {},
   "outputs": [
    {
     "name": "stdout",
     "output_type": "stream",
     "text": [
      "3.10.4 (main, Nov 29 2022, 20:00:25) [GCC 9.4.0] , /home/codespace/.python/current/bin/python3 , pandas: 1.5.2\n",
      "2022-12-29 12:22:14 *****import**v1.0.1*** \n"
     ]
    }
   ],
   "source": [
    "#!/usr/bin/env python3\n",
    "# coding=utf-8\n",
    "import pandas as pd\n",
    "import numpy as np\n",
    "import sqlite3\n",
    "import time\n",
    "from datetime import datetime, timedelta\n",
    "import math\n",
    "import sys\n",
    "import logging\n",
    "import os\n",
    "# from scipy import stats as st\n",
    "from scipy import stats \n",
    "from itertools import product as product\n",
    "from matplotlib import pyplot as plt\n",
    "# from sklearn.linear_model import LogisticRegression\n",
    "import warnings\n",
    "import statsmodels.api as sm\n",
    "from math import sqrt\n",
    "from tqdm import tqdm\n",
    "import pymssql\n",
    "\n",
    "warnings.filterwarnings('ignore')\n",
    "plt.rcParams['font.sans-serif']=['SimHei'] #用来正常显示中文标签\n",
    "plt.rcParams['axes.unicode_minus']=False #用来正常显示负号\n",
    "\n",
    "# conn = pymssql.connect(\"127.0.0.1\", \"sa\", \"quant@123\", \"test_block\")\n",
    "# cursor = conn.cursor()\n",
    "\n",
    "g_worthDir = '../pkl'  # \n",
    "g_parentDir = '../../..'  # \n",
    "g_dbfile = f\"{g_parentDir}/pkl/hq.db\" # \n",
    "g_name = g_access = 'sr_min'\n",
    "\n",
    "g_locTimeadj = 28800 # 28800 0\n",
    "g_version = '1.0.1'\n",
    "\n",
    "print(f\"{sys.version} , {sys.executable} , pandas: {pd.__version__}\")\n",
    "print(f\"{time.strftime('%Y-%m-%d %H:%M:%S',time.localtime(time.time()+g_locTimeadj))} *****import**v{g_version}*** \")"
   ]
  },
  {
   "cell_type": "code",
   "execution_count": 2,
   "metadata": {},
   "outputs": [
    {
     "name": "stdout",
     "output_type": "stream",
     "text": [
      "2022-12-29 11:10:54 *****logging***** \n"
     ]
    }
   ],
   "source": [
    "###日志 logger##20220825A######\n",
    "def make_logger(name, log_level=logging.INFO, log_file=\"log.txt\", file_mode=\"a\"): #w写 a追加\n",
    "    formatter = logging.Formatter('%(asctime)s:%(levelname)s:%(name)s:%(filename)s:%(lineno)d:%(funcName)s:%(process)s: %(message)s')\n",
    "    \n",
    "    logger = logging.getLogger(name)\n",
    "    if not logger.handlers:\n",
    "        logger.setLevel(level=log_level)\n",
    "        handler = logging.FileHandler(log_file, mode=file_mode)\n",
    "        handler.setLevel(level=log_level)\n",
    "        handler.setFormatter(formatter)\n",
    "        logger.addHandler(handler)\n",
    "        handler = logging.StreamHandler(sys.stdout)\n",
    "        handler.setLevel(level=log_level)\n",
    "        handler.setFormatter(formatter)\n",
    "        logger.addHandler(handler)\n",
    "    return logger\n",
    "\n",
    "logger = make_logger(g_name, log_level=logging.DEBUG, log_file= f\"{g_parentDir}/logs/{g_name if ('g_name' in dir() ) else 'test' }_{ time.strftime('%Y%m%d') }.log\" )\n",
    "\n",
    "print( f'{time.strftime(\"%Y-%m-%d %H:%M:%S\",time.localtime(time.time()+g_locTimeadj))} *****logging***** ')"
   ]
  },
  {
   "cell_type": "code",
   "execution_count": 3,
   "metadata": {},
   "outputs": [
    {
     "name": "stdout",
     "output_type": "stream",
     "text": [
      "df_uk.tail(2) :\n",
      "       tradeDate openTime closeTime    closeSec     open    close     high  \\\n",
      "209227  20221228   113500    113959  1672198799  16824.8  16658.8  16824.8   \n",
      "209228  20221228   114000    114459  1672199099  16652.5  16828.8  16828.8   \n",
      "\n",
      "            low         vol           amt       pct  \n",
      "209227  16647.0  468.325989  7.811034e+06  0.000228  \n",
      "209228  16646.2  205.018997  3.424889e+06  0.010205  \n",
      "df_input.tail(2) :\n",
      "            date   timestamp closeTime     open     high      low    close  \\\n",
      "209227  20221228  1672198799    113959  16824.8  16824.8  16647.0  16658.8   \n",
      "209228  20221228  1672199099    114459  16652.5  16828.8  16646.2  16828.8   \n",
      "\n",
      "               vol        amount         amt  \n",
      "209227  468.325989  7.811034e+06  466.723286  \n",
      "209228  205.018997  3.424889e+06  204.623700  \n"
     ]
    }
   ],
   "source": [
    "# ukdf.to_pickle(f\"{g_worthDir}/uk5mdf.pkl\" )\n",
    "# ##df_uk = pd.read_pickle(f\"{g_worthDir}/uk5mdf.pkl\" )\n",
    "\n",
    "# df_uk = pd.read_pickle(f\"{g_parentDir}/pkl/uk5mdf.pkl\" ) # uk5m_2021df 203451\n",
    "df_uk = pd.read_pickle(f\"/workspaces/jupyter/tmp/uk5m_2021df.pkl\" ) # uk5m_2021df 203451\n",
    "# df_uk.tail(2)\n",
    "# print(f\"{df_uk.iloc[-2:,:]}\")\n",
    "# display(df_uk.tail(2) )\n",
    "print(f\"df_uk.tail(2) :\\n{df_uk.tail(2)}\")\n",
    "\n",
    "df_input = pd.DataFrame()\n",
    "# df_input['date'] = df_uk['closeTime'].apply(lambda x: time.strftime(\"%Y%m%d\",time.localtime(float(x)/1000) ) )\n",
    "df_input['date'] = df_uk['tradeDate']\n",
    "df_input['timestamp'] = df_uk['closeSec']\n",
    "df_input['closeTime'] = df_uk['closeTime']\n",
    "df_input['open'] = df_uk['open']\n",
    "df_input['high'] = df_uk['high']\n",
    "df_input['low'] = df_uk['low']\n",
    "df_input['close'] = df_uk['close']\n",
    "df_input['vol'] = df_uk['vol']\n",
    "df_input['amount'] = df_uk['amt']\n",
    "df_input['amt'] = df_uk['amt']/( df_uk['high']+ df_uk['low'])*2\n",
    "\n",
    "# df_input.tail(2)\n",
    "# display(df_input.tail(2) )\n",
    "print(f\"df_input.tail(2) :\\n{df_input.tail(2)}\")\n"
   ]
  },
  {
   "cell_type": "code",
   "execution_count": 4,
   "metadata": {},
   "outputs": [],
   "source": [
    "def func(idx,df_input,thd):  # thd 0.8\n",
    "    # thd = 3\n",
    "    # print(f\"{idx = }\")\n",
    "    idx = [int(i) for i in idx] # 144: 0~143\n",
    "    ds = df_input.iloc[idx]\n",
    "    thd = thd * 100\n",
    "    ds['amt'] = ds['amt'] * (ds['high'] + ds['low']) / 2\n",
    "    amt_sum = np.sum(ds['amt'])\n",
    "    ds = ds[ds['indicator']>np.percentile(ds['indicator'],thd)]  # 分位数 80% \n",
    "    amt_pct = np.sum(ds['amt'])\n",
    "    # ds['pct'] = np.sum(ds['amt']*(ds['high']+ds['low']))\n",
    "    return amt_pct / amt_sum / (1-thd/100)\n"
   ]
  },
  {
   "cell_type": "code",
   "execution_count": 5,
   "metadata": {},
   "outputs": [
    {
     "name": "stdout",
     "output_type": "stream",
     "text": [
      "df_s.tail(5) :\n",
      "            date   timestamp closeTime     open     high      low    close  \\\n",
      "209224  20221228  1672197899    112459  16650.0  16782.8  16650.0  16695.0   \n",
      "209225  20221228  1672198199    112959  16755.0  16823.1  16627.2  16655.4   \n",
      "209226  20221228  1672198499    113459  16654.7  16824.8  16627.2  16655.0   \n",
      "209227  20221228  1672198799    113959  16824.8  16824.8  16647.0  16658.8   \n",
      "209228  20221228  1672199099    114459  16652.5  16828.8  16646.2  16828.8   \n",
      "\n",
      "               vol        amount         amt       pct     indicator  \\\n",
      "209224  366.703003  6.128018e+06  366.587207  0.002703  7.372605e-06   \n",
      "209225  512.905029  8.575377e+06  512.723467 -0.002372  4.626212e-06   \n",
      "209226  269.179993  4.492270e+06  268.580048 -0.000024  8.941928e-08   \n",
      "209227  468.325989  7.811034e+06  466.723286  0.000228  4.888544e-07   \n",
      "209228  205.018997  3.424889e+06  204.623700  0.010205  4.987114e-05   \n",
      "\n",
      "         indicator_0   index     value  signal  value_mean  value_std  \n",
      "209224  7.372605e-06  209224  0.708857     NaN    0.858069   0.136479  \n",
      "209225  4.626212e-06  209225  0.708158     NaN    0.858002   0.136521  \n",
      "209226  8.941928e-08  209226  0.710277     NaN    0.857935   0.136562  \n",
      "209227  4.888544e-07  209227  0.708994     NaN    0.857865   0.136604  \n",
      "209228  4.987114e-05  209228  0.693957     NaN    0.857788   0.136654  \n"
     ]
    }
   ],
   "source": [
    "# loading_data('btc',wid_,thd,if_print,int(row_para[2]),row_para[3]) # 144.0 0.8 25.0 2.5 NaN  NaN\n",
    "# index_para=9450 : wid_=192 : thd=0.88 : wid_back=10 : thd_std=4.0\n",
    "wid_ = 192 \n",
    "thd = 0.88\n",
    "wid_back = 10 \n",
    "thd_std = 4.0 \n",
    "\n",
    "df_s = df_input.copy()\n",
    "\n",
    "df_s['pct'] = df_s['close'] / df_s['close'].shift(1) - 1\n",
    "df_s.fillna(0, inplace=True)\n",
    "df_s['indicator'] = abs(df_s['pct']) /df_s['amt']\n",
    "df_s['indicator_0'] = df_s['indicator']\n",
    "df_s['index'] = df_s.index\n",
    "df_s['value'] = df_s['index'].rolling(int(wid_)).apply(lambda x: func(x, df_s, thd)) # wid_ 144, thd 0.8\n",
    "\n",
    "df_s['signal'] = np.nan\n",
    "df_s['value_mean'] = df_s['value'].rolling(int(wid_*int(wid_back)) ).mean()  # wid_back 25 , 3600\n",
    "df_s['value_std'] = df_s['value'].rolling(int(wid_*int(wid_back)) ).std()  # wid_back 25\n",
    "df_s['signal'] = np.where((df_s['value'] > df_s['value_mean']+thd_std*df_s['value_std']), 1, df_s['signal'])   # thd_std 2.5\n",
    "df_s['signal'] = np.where((df_s['value'] < df_s['value_mean']-thd_std*df_s['value_std']), -1, df_s['signal'])   # thd_std 2.5\n",
    "\n",
    "print(f\"df_s.tail(5) :\\n{df_s.tail(5)}\")\n",
    "\n",
    "df_s.to_pickle(f\"df_s.pkl\" )\n",
    "#df_s = pd.read_pickle(f\"df_s.pkl\" )"
   ]
  },
  {
   "cell_type": "code",
   "execution_count": 2,
   "metadata": {},
   "outputs": [
    {
     "name": "stdout",
     "output_type": "stream",
     "text": [
      "(2025, 18)\n",
      "            date   timestamp closeTime     open     high      low    close  \\\n",
      "200591  20221128  1669607999    115959  16173.4  16184.0  16168.4  16184.0   \n",
      "201132  20221130  1669770299    090459  16847.6  16999.0  16847.6  16921.7   \n",
      "\n",
      "                vol        amount          amt       pct     indicator  \\\n",
      "200591   927.987000  1.501216e+07   928.039700  0.000556  5.995586e-07   \n",
      "201132  1784.390015  3.017056e+07  1782.782168  0.003904  2.189655e-06   \n",
      "\n",
      "         indicator_0   index     value  signal  value_mean  value_std  \n",
      "200591  5.995586e-07  200591  1.481806     1.0    0.897727   0.136845  \n",
      "201132  2.189655e-06  201132  1.545997     1.0    0.956857   0.146498  \n"
     ]
    }
   ],
   "source": [
    "df_s = pd.read_pickle(f\"/workspaces/jupyter/tmp/df_s_sr.pkl\" ) \n",
    "# df_s2 = df_s[df_s['signal']>-2]\n",
    "df_s2 = df_s[~df_s['signal'].isnull()]\n",
    "\n",
    "print(f\"{ df_s2.shape }\")\n",
    "print(f\"{ df_s2.tail(2) }\")"
   ]
  },
  {
   "cell_type": "code",
   "execution_count": null,
   "metadata": {},
   "outputs": [],
   "source": [
    "# nohup python3 -u main.py -n sr_min -s 8808 -c 29099 -X BTCUSDT -p 5m -w 192 -I 10 -d 20 -T 0.88 -H 4.0 -t 1000000 >> log.txt 2>&1 & \n",
    "\n",
    "# python3 -u main.py -n sr_min -s 8808 -c 29099 -X BTCUSDT -p 5m -w 192 -I 10 -d 20 -T 0.88 -H 4.0 -t 1000000 "
   ]
  },
  {
   "cell_type": "code",
   "execution_count": 3,
   "metadata": {},
   "outputs": [
    {
     "name": "stdout",
     "output_type": "stream",
     "text": [
      "wid_ : 12: [144 192 240 288 336 384 432 480 528 576 624 672]\n",
      "wid_back : 10: [10 15 20 25 30 35 40 45 50 55]\n",
      "thd : 31: [0.6  0.61 0.62 0.63 0.64 0.65 0.66 0.67 0.68 0.69 0.7  0.71 0.72 0.73\n",
      " 0.74 0.75 0.76 0.77 0.78 0.79 0.8  0.81 0.82 0.83 0.84 0.85 0.86 0.87\n",
      " 0.88 0.89 0.9 ]\n",
      "thd_std : 16: [2.  2.2 2.4 2.6 2.8 3.  3.2 3.4 3.6 3.8 4.  4.2 4.4 4.6 4.8 5. ]\n",
      "df_para : 59520:        wid_  thd  wid_back  thd_std\n",
      "0       144  0.6        10      2.0\n",
      "1       144  0.6        10      2.2\n",
      "2       144  0.6        10      2.4\n",
      "3       144  0.6        10      2.6\n",
      "4       144  0.6        10      2.8\n",
      "...     ...  ...       ...      ...\n",
      "59515   672  0.9        55      4.2\n",
      "59516   672  0.9        55      4.4\n",
      "59517   672  0.9        55      4.6\n",
      "59518   672  0.9        55      4.8\n",
      "59519   672  0.9        55      5.0\n",
      "\n",
      "[59520 rows x 4 columns]\n"
     ]
    },
    {
     "name": "stderr",
     "output_type": "stream",
     "text": [
      " 25%|██▌       | 14964/59520 [00:00<00:01, 31944.63it/s]"
     ]
    },
    {
     "name": "stdout",
     "output_type": "stream",
     "text": [
      "index_para=9450 : wid_=192 : thd=0.88 : wid_back=10 : thd_std=4.0\n"
     ]
    },
    {
     "name": "stderr",
     "output_type": "stream",
     "text": [
      "100%|██████████| 59520/59520 [00:02<00:00, 28975.37it/s]\n"
     ]
    }
   ],
   "source": [
    "if_print = 0\n",
    "wid_ = np.arange(12)*4*12 + 144  # 12: [144 192 240 288 336 384 432 480 528 576 624 672]\n",
    "thd = np.arange(31)*0.01 +0.6   # 31: [0.6  0.61 ... 0.88 0.89 0.9 ]\n",
    "wid_back = np.arange(10)*5 +10  # 10: [10 15 20 25 30 35 40 45 50 55]\n",
    "thd_std = np.arange(16)*0.2 + 2 # 16: [2. 2.2 2.4 2.6 2.8 3. 3.2 3.4 3.6 3.8 4. 4.2 4.4 4.6 4.8 5.]\n",
    "df_para = pd.DataFrame(list(product(wid_, thd,wid_back,thd_std)))\n",
    "df_para.columns = ['wid_','thd','wid_back','thd_std'] # 59520\n",
    "\n",
    "print(f\"wid_ : {len(wid_)}: {wid_}\") \n",
    "print(f\"wid_back : {len(wid_back)}: {wid_back}\")\n",
    "print(f\"thd : {len(thd)}: {thd}\")\n",
    "print(f\"thd_std : {len(thd_std)}: {thd_std}\")\n",
    "print(f\"df_para : {len(df_para)}: {df_para}\")\n",
    "\n",
    "df_para['re']=np.nan\n",
    "df_para['std']=np.nan\n",
    "# print(df_para)\n",
    "for index_para,row_para in tqdm(df_para.iterrows(),total=df_para.shape[0]):\n",
    "\n",
    "    if index_para!=9450:\n",
    "        if_print = 1\n",
    "        continue\n",
    "    wid_,thd=int(row_para[0]),row_para[1]\n",
    "    print(f\"{index_para=} : {wid_=} : {thd=} : wid_back={int(row_para[2])} : thd_std={row_para[3]}\") # index_para=9450 : wid_=192 : thd=0.88 : wid_back=10 : thd_std=4.0"
   ]
  }
 ],
 "metadata": {
  "kernelspec": {
   "display_name": "Python 3.10.4 64-bit",
   "language": "python",
   "name": "python3"
  },
  "language_info": {
   "codemirror_mode": {
    "name": "ipython",
    "version": 3
   },
   "file_extension": ".py",
   "mimetype": "text/x-python",
   "name": "python",
   "nbconvert_exporter": "python",
   "pygments_lexer": "ipython3",
   "version": "3.10.4"
  },
  "orig_nbformat": 4,
  "vscode": {
   "interpreter": {
    "hash": "3ad933181bd8a04b432d3370b9dc3b0662ad032c4dfaa4e4f1596c548f763858"
   }
  }
 },
 "nbformat": 4,
 "nbformat_minor": 2
}
