{
 "cells": [
  {
   "cell_type": "code",
   "execution_count": 1,
   "metadata": {},
   "outputs": [
    {
     "name": "stdout",
     "output_type": "stream",
     "text": [
      "3.10.4 (main, Nov  2 2022, 18:29:07) [GCC 9.4.0] , /home/codespace/.python/current/bin/python3 , pandas: 1.5.1\n",
      "2022-11-15 09:42:59 *****import**v1.0.1*** \n"
     ]
    }
   ],
   "source": [
    "#!/usr/bin/env python3\n",
    "# coding=utf-8\n",
    "import pandas as pd\n",
    "import numpy as np\n",
    "import sqlite3\n",
    "import time\n",
    "from datetime import datetime, timedelta\n",
    "import math\n",
    "import sys\n",
    "import logging\n",
    "import os\n",
    "# from scipy import stats as st\n",
    "from scipy import stats \n",
    "from itertools import product as product\n",
    "from matplotlib import pyplot as plt\n",
    "# from sklearn.linear_model import LogisticRegression\n",
    "import warnings\n",
    "import statsmodels.api as sm\n",
    "from math import sqrt\n",
    "from tqdm import tqdm\n",
    "import pymssql\n",
    "\n",
    "warnings.filterwarnings('ignore')\n",
    "plt.rcParams['font.sans-serif']=['SimHei'] #用来正常显示中文标签\n",
    "plt.rcParams['axes.unicode_minus']=False #用来正常显示负号\n",
    "\n",
    "# conn = pymssql.connect(\"127.0.0.1\", \"sa\", \"quant@123\", \"test_block\")\n",
    "# cursor = conn.cursor()\n",
    "\n",
    "g_worthDir = '../pkl'  # \n",
    "g_parentDir = '../../..'  # \n",
    "g_dbfile = f\"{g_parentDir}/pkl/hq.db\" # \n",
    "g_name = g_access = 's_rsrs'\n",
    "\n",
    "g_locTimeadj = 28800 # 28800 0\n",
    "g_version = '1.0.1'\n",
    "\n",
    "print(f\"{sys.version} , {sys.executable} , pandas: {pd.__version__}\")\n",
    "print(f\"{time.strftime('%Y-%m-%d %H:%M:%S',time.localtime(time.time()+g_locTimeadj))} *****import**v{g_version}*** \")"
   ]
  },
  {
   "cell_type": "code",
   "execution_count": 2,
   "metadata": {},
   "outputs": [
    {
     "name": "stdout",
     "output_type": "stream",
     "text": [
      "2022-11-15 09:43:00 *****logging***** \n"
     ]
    }
   ],
   "source": [
    "###日志 logger##20220825A######\n",
    "def make_logger(name, log_level=logging.INFO, log_file=\"log.txt\", file_mode=\"a\"): #w写 a追加\n",
    "    formatter = logging.Formatter('%(asctime)s:%(levelname)s:%(name)s:%(filename)s:%(lineno)d:%(funcName)s:%(process)s: %(message)s')\n",
    "    \n",
    "    logger = logging.getLogger(name)\n",
    "    if not logger.handlers:\n",
    "        logger.setLevel(level=log_level)\n",
    "        handler = logging.FileHandler(log_file, mode=file_mode)\n",
    "        handler.setLevel(level=log_level)\n",
    "        handler.setFormatter(formatter)\n",
    "        logger.addHandler(handler)\n",
    "        handler = logging.StreamHandler(sys.stdout)\n",
    "        handler.setLevel(level=log_level)\n",
    "        handler.setFormatter(formatter)\n",
    "        logger.addHandler(handler)\n",
    "    return logger\n",
    "\n",
    "logger = make_logger(g_name, log_level=logging.DEBUG, log_file= f\"{g_parentDir}/logs/{g_name if ('g_name' in dir() ) else 'test' }_{ time.strftime('%Y%m%d') }.log\" )\n",
    "\n",
    "print( f'{time.strftime(\"%Y-%m-%d %H:%M:%S\",time.localtime(time.time()+g_locTimeadj))} *****logging***** ')"
   ]
  },
  {
   "cell_type": "code",
   "execution_count": 5,
   "metadata": {},
   "outputs": [
    {
     "name": "stdout",
     "output_type": "stream",
     "text": [
      "df_input.tail(2) :\n",
      "          timestamp          open          high           low         close\n",
      "4057  1667865599999  20869.800781  21170.000000  20080.000000  20587.800781\n",
      "4058  1667879999999  20587.800781  20879.800781  20546.900391  20840.199219\n"
     ]
    }
   ],
   "source": [
    "df_uk = pd.read_pickle(f\"{g_parentDir}/pkl/uk4hdf.pkl\" )\n",
    "# df_uk.tail(2)\n",
    "# print(f\"{df_uk.iloc[-2:,:]}\")\n",
    "# display(df_uk.tail(2) )\n",
    "\n",
    "df_input = pd.DataFrame()\n",
    "# df_input['date'] = df_uk['closeTime'].apply(lambda x: time.strftime(\"%Y%m%d\",time.localtime(x/1000) ) )\n",
    "df_input['timestamp'] = df_uk['closeTime']\n",
    "df_input['open'] = df_uk['open']\n",
    "df_input['high'] = df_uk['high']\n",
    "df_input['low'] = df_uk['low']\n",
    "df_input['close'] = df_uk['close']\n",
    "# df_input['amount'] = df_uk['Amt']\n",
    "\n",
    "# df_input.tail(2)\n",
    "# display(df_input.tail(2) )\n",
    "print(f\"df_input.tail(2) :\\n{df_input.tail(2)}\")\n"
   ]
  },
  {
   "cell_type": "code",
   "execution_count": 11,
   "metadata": {},
   "outputs": [
    {
     "name": "stdout",
     "output_type": "stream",
     "text": [
      "<class 'pandas.core.series.Series'>\n",
      "0     28319.400391\n",
      "1     28787.949219\n",
      "2     28697.390625\n",
      "3     28848.519531\n",
      "4     28876.109375\n",
      "5     29033.039062\n",
      "6     28665.730469\n",
      "7     28917.000000\n",
      "8     28949.269531\n",
      "9     29221.089844\n",
      "10    29473.089844\n",
      "11    29738.320312\n",
      "12    31695.900391\n",
      "13    30500.000000\n",
      "14    31989.470703\n",
      "15    32452.509766\n",
      "16    33481.980469\n",
      "17    32778.351562\n",
      "18    32322.759766\n",
      "19    32685.849609\n",
      "20    32419.269531\n",
      "21    31729.509766\n",
      "22    27822.220703\n",
      "23    30461.099609\n",
      "24    30636.589844\n",
      "Name: low, dtype: float32\n"
     ]
    }
   ],
   "source": [
    "print(f\"{type(df_input['low'].head(25))}\")\n",
    "print(f\"{df_input['low'].head(25)}\")"
   ]
  },
  {
   "cell_type": "code",
   "execution_count": 10,
   "metadata": {},
   "outputs": [
    {
     "name": "stdout",
     "output_type": "stream",
     "text": [
      "<class 'pandas.core.series.Series'>\n",
      "0     28319.400391\n",
      "1     28787.949219\n",
      "2     28697.390625\n",
      "3     28848.519531\n",
      "4     28876.109375\n",
      "5     29033.039062\n",
      "6     28665.730469\n",
      "7     28917.000000\n",
      "8     28949.269531\n",
      "9     29221.089844\n",
      "10    29473.089844\n",
      "11    29738.320312\n",
      "12    31695.900391\n",
      "13    30500.000000\n",
      "14    31989.470703\n",
      "15    32452.509766\n",
      "16    33481.980469\n",
      "17    32778.351562\n",
      "18    32322.759766\n",
      "19    32685.849609\n",
      "20    32419.269531\n",
      "21    31729.509766\n",
      "22    27822.220703\n",
      "23    30461.099609\n",
      "24    30636.589844\n",
      "Name: low, dtype: float32\n"
     ]
    }
   ],
   "source": [
    "idx = [0, 1, 2, 3, 4, 5, 6, 7, 8, 9, 10, 11, 12, 13, 14, 15, 16, 17, 18, 19, 20, 21, 22, 23, 24]\n",
    "print(f\"{type(df_input['low'][idx])}\")\n",
    "print(f\"{df_input['low'][idx]}\")"
   ]
  },
  {
   "cell_type": "code",
   "execution_count": 4,
   "metadata": {},
   "outputs": [],
   "source": [
    "def func(idx, df):\n",
    "    \n",
    "    # print(f\"idx1 :\\n{idx}\")   \n",
    "    \n",
    "    idx = [int(i) for i in idx]\n",
    "    # [0, 1, 2, 3, 4, 5, 6, 7, 8, 9, 10, 11, 12, 13, 14, 15, 16, 17, 18, 19, 20, 21, 22, 23, 24]\n",
    "    # print(f\"idx2 :\\n{idx}\")   \n",
    "        \n",
    "    result_ = stats.linregress(df['low'][idx], df['high'][idx]) # # slope intercept rvalue pvalue\n",
    "    \n",
    "    # LinregressResult(slope=1.4609737282140889, intercept=0.6260166856203904, rvalue=0.76760585460041, pvalue=0.009535323744696659, stderr=0.43128508714183683, intercept_stderr=0.2307834268202402)\n",
    "\n",
    "    # slope: float 回归线的斜率。\n",
    "    # intercept: float 回归线的截距。\n",
    "    # rvalue: float 皮尔逊相关系数。rvalue 的平方等于决定系数。\n",
    "    # pvalue: float 对零假设为斜率为零的假设检验的p值，使用带有检验统计量t分布的Wald检验。\n",
    "    # stderr: float 估计的斜率(梯度)的标准误差，在残差正态性的假设下。\n",
    "    # intercept_stderr: float 估计的截距的标准误差，在残差正态的假设下。\n",
    "    \n",
    "    ret = (result_[0]**2)*(result_[2]**2)   # slope^2 * rvalue^2\n",
    "    # r_2 = (result_[0]**2)*(result_[2]**2)\n",
    "    return ret\n",
    "\n",
    "def get_regression(data,reg_window): # 25\n",
    "    df_s = data.copy()\n",
    "    df_s['index'] = range(len(df_s)) # range(0, 4059)\n",
    "    # cal regression beta\n",
    "    df_s['beta'] = df_s['index'].rolling(reg_window).apply(lambda x: func(x, df_s))\n",
    "    del df_s['index']\n",
    "    # df_s.to_csv(\"ds_reg_\"+str(reg_window)+\".csv\",index=False)\n",
    "    return df_s"
   ]
  },
  {
   "cell_type": "code",
   "execution_count": 12,
   "metadata": {},
   "outputs": [
    {
     "name": "stdout",
     "output_type": "stream",
     "text": [
      "df_input.tail(2) :\n",
      "          timestamp          open          high           low         close\n",
      "4057  1667865599999  20869.800781  21170.000000  20080.000000  20587.800781\n",
      "4058  1667879999999  20587.800781  20879.800781  20546.900391  20840.199219\n",
      "df_s.tail(2) :\n",
      "          timestamp          open          high           low         close  \\\n",
      "4057  1667865599999  20869.800781  21170.000000  20080.000000  20587.800781   \n",
      "4058  1667879999999  20587.800781  20879.800781  20546.900391  20840.199219   \n",
      "\n",
      "          beta  \n",
      "4057  0.721573  \n",
      "4058  0.706648  \n"
     ]
    }
   ],
   "source": [
    "print(f\"df_input.tail(2) :\\n{df_input.tail(2)}\")\n",
    "df_s = get_regression(df_input, 25) #  i_reg 25\n",
    "print(f\"df_s.tail(2) :\\n{df_s.tail(2)}\")\n",
    "\n",
    "# get_data(df_s, 25, 90, 0.6, 1) # 621 # 25  90  0.6  # 1\n"
   ]
  },
  {
   "cell_type": "code",
   "execution_count": 6,
   "metadata": {},
   "outputs": [
    {
     "name": "stdout",
     "output_type": "stream",
     "text": [
      "df_s.tail(2) :\n",
      "          timestamp          open          high           low         close  \\\n",
      "4057  1667865599999  20869.800781  21170.000000  20080.000000  20587.800781   \n",
      "4058  1667879999999  20587.800781  20879.800781  20546.900391  20840.199219   \n",
      "\n",
      "          beta    zscore  signal  \n",
      "4057  0.721573  0.162299     NaN  \n",
      "4058  0.706648  0.139154     NaN  \n"
     ]
    }
   ],
   "source": [
    "reg_window = 25 ; stat_wid = 90 ; thd = 0.6 \n",
    "df_s = df_input.copy()\n",
    "df_s['index'] = range(len(df_s)) # range(0, 4059)\n",
    "df_s['beta'] = df_s['index'].rolling(reg_window).apply(lambda x: func(x, df_s))\n",
    "del df_s['index']\n",
    "df_s['zscore'] = (df_s['beta']-df_s['beta'].rolling(stat_wid).mean())/df_s['beta'].rolling(stat_wid).std()\n",
    "df_s['signal'] = np.nan\n",
    "df_s['signal'] = np.where((df_s['zscore'] > thd), 1, df_s['signal'])\n",
    "df_s['signal'] = np.where((df_s['zscore'] < -thd), -1, df_s['signal'])\n",
    "\n",
    "print(f\"df_s.tail(2) :\\n{df_s.tail(2)}\")"
   ]
  },
  {
   "cell_type": "code",
   "execution_count": 8,
   "metadata": {},
   "outputs": [
    {
     "name": "stdout",
     "output_type": "stream",
     "text": [
      "df_i.tail(2) :\n",
      "          timestamp          open          high           low         close  \\\n",
      "4057  1667865599999  20869.800781  21170.000000  20080.000000  20587.800781   \n",
      "4058  1667879999999  20587.800781  20879.800781  20546.900391  20840.199219   \n",
      "\n",
      "          beta    zscore  signal  \n",
      "4057  0.721573  0.162299     NaN  \n",
      "4058  0.706648  0.139154     NaN  \n"
     ]
    }
   ],
   "source": [
    "# print(f\"range(len(df_input)) :\\n{range(len(df_input) ) }\")\n",
    "df_i = df_input.copy()\n",
    "df_i['index'] = range(len(df_input))\n",
    "# print( range(len(df_input) ) )  # range(0, 4059)\n",
    "df_i['beta'] = df_i['index'].rolling(25).apply(lambda x: func(x, df_i))\n",
    "# print(f\"df_i['beta'] :\\n{df_i['beta']}\")  \n",
    "del df_i['index']\n",
    "df_i.to_pickle(f\"df_i.pkl\" )\n",
    "\n",
    "\n",
    "df_i['zscore'] = (df_i['beta']-df_i['beta'].rolling(90).mean())/df_i['beta'].rolling(90).std()\n",
    "\n",
    "# df_i['signal'] = np.nan\n",
    "# df_i['signal'] = np.where((df_i['zscore'] > thd), 1, df_i['signal'])\n",
    "# df_i['signal'] = np.where((df_i['zscore'] < -thd), -1, df_i['signal'])\n",
    "df_i['signal'] = np.where((df_i['zscore'] > thd), 1, np.where((df_i['zscore'] < -thd), -1, np.nan))\n",
    "\n",
    "print(f\"df_i.tail(2) :\\n{df_i.tail(2)}\")\n",
    "print(f\"df_i['signal'] :\\n{df_i['signal']}\")\n",
    "\n"
   ]
  },
  {
   "cell_type": "code",
   "execution_count": 8,
   "metadata": {},
   "outputs": [
    {
     "name": "stdout",
     "output_type": "stream",
     "text": [
      "ret = 0.7066475494394989, zsc = 4058    0.139154\n",
      "Name: beta, dtype: float64 \n"
     ]
    }
   ],
   "source": [
    "stl = stats.linregress(df_i['low'].tail(25), df_i['high'].tail(25) )\n",
    "ret = (stl[0]**2)*(stl[2]**2)   # slope^2 * rvalue^2\n",
    "\n",
    "zsc = (df_i['beta'].tail(1) - df_i['beta'].tail(90).mean() ) /df_i['beta'].tail(90).std()\n",
    "\n",
    "# df_i['zscore'] = (df_i['beta']-df_i['beta'].rolling(90).mean())/df_i['beta'].rolling(90).std()\n",
    "# df_i['signal'] = np.nan\n",
    "# df_i['signal'] = np.where((df_i['zscore'] > thd), 1, df_i['signal'])\n",
    "# df_i['signal'] = np.where((df_i['zscore'] < -thd), -1, df_i['signal'])\n",
    "\n",
    "# print(f\"df_i.tail(2) :\\n{df_i.tail(2)}\") # df_input['low'].head(25)\n",
    "print(f\"{ret = }, {zsc = } \")"
   ]
  },
  {
   "cell_type": "code",
   "execution_count": 10,
   "metadata": {},
   "outputs": [
    {
     "name": "stderr",
     "output_type": "stream",
     "text": [
      "findfont: Font family ['sans-serif'] not found. Falling back to DejaVu Sans.\n",
      "findfont: Generic family 'sans-serif' not found because none of the following families were found: SimHei\n",
      "findfont: Font family ['sans-serif'] not found. Falling back to DejaVu Sans.\n",
      "findfont: Generic family 'sans-serif' not found because none of the following families were found: SimHei\n"
     ]
    },
    {
     "data": {
      "image/png": "[encoded data removed]",
      "text/plain": [
       "<Figure size 500x500 with 1 Axes>"
      ]
     },
     "metadata": {},
     "output_type": "display_data"
    },
    {
     "data": {
      "text/plain": [
       "(-0.9434006188736931,\n",
       " 1.3490418187244397,\n",
       " -0.6993116193875348,\n",
       " -0.4650613119201296,\n",
       " -0.3254579749465731,\n",
       " -0.886983869047188)"
      ]
     },
     "execution_count": 10,
     "metadata": {},
     "output_type": "execute_result"
    }
   ],
   "source": [
    "get_data(df_input,25,90,0.6,1)"
   ]
  },
  {
   "cell_type": "code",
   "execution_count": 11,
   "metadata": {},
   "outputs": [
    {
     "name": "stdout",
     "output_type": "stream",
     "text": [
      "df_s.tail(2) :\n",
      "          timestamp          open          high           low         close  \\\n",
      "3944  1667865599999  20869.800781  21170.000000  20080.000000  20587.800781   \n",
      "3945  1667879999999  20587.800781  20879.800781  20546.900391  20840.199219   \n",
      "\n",
      "          beta    zscore            ma  signal  position  indicator       pct  \\\n",
      "3944  0.721573  0.162299  20752.213281     NaN       1.0          0  0.551776   \n",
      "3945  0.706648  0.139154  20767.883268     NaN       1.0          0  0.558540   \n",
      "\n",
      "           nav     x  \n",
      "3944  0.005591  3944  \n",
      "3945  0.005660  3945  \n",
      "re_ :\n",
      "-0.9434006188736931\n",
      "std_ :\n",
      "16.505887732580103\n",
      "re_/std_ :\n",
      "-0.05715540019162764\n",
      "corr_all :\n",
      "-0.4650613119201296\n",
      "corr_right :\n",
      "-0.3254579749465731\n",
      "corr_left :\n",
      "-0.886983869047188\n"
     ]
    }
   ],
   "source": [
    "df_s = pd.read_pickle(f\"df_s.pkl\" )\n",
    "corr_all,corr_right,corr_left = corr_depict(df_s,'zscore')\n",
    "re_ = df_s['nav'].iloc[-1]**(365.0*6/len(df_s.index)) - 1\n",
    "std_ = np.std(df_s['pct'])*sqrt(365*6)\n",
    "\n",
    "print(f\"df_s.tail(2) :\\n{df_s.tail(2)}\")\n",
    "print(f\"re_ :\\n{re_}\")\n",
    "print(f\"std_ :\\n{std_}\")\n",
    "print(f\"re_/std_ :\\n{re_/std_}\")\n",
    "print(f\"corr_all :\\n{corr_all}\")\n",
    "print(f\"corr_right :\\n{corr_right}\")\n",
    "print(f\"corr_left :\\n{corr_left}\")\n",
    "\n",
    "\n",
    "# re_,std_,re_/std_,corr_all,corr_right,corr_left"
   ]
  },
  {
   "cell_type": "code",
   "execution_count": 5,
   "metadata": {},
   "outputs": [],
   "source": [
    "def get_data(data,reg_window,stat_wid,thd,if_print): # 621 # 25  90  0.6  # 1\n",
    "    cost_ = -0.0016\n",
    "    # df_s = data.copy()\n",
    "    # df_s['index'] = range(len(df_s))\n",
    "    # # cal regression beta\n",
    "    # df_s['beta'] = df_s['index'].rolling(reg_window).apply(lambda x: func(x, df_s))\n",
    "    # del df_s['index']\n",
    "    # df_s = pd.read_csv(\"ds_reg_\"+str(reg_window)+\".csv\")  # 25\n",
    "    \n",
    "    df_s = pd.read_pickle(f\"df_i.pkl\" ) # ds_reg_25.csv\n",
    "\n",
    "    df_s['zscore'] = (df_s['beta']-df_s['beta'].rolling(stat_wid).mean())/df_s['beta'].rolling(stat_wid).std()\n",
    "\n",
    "    df_s['ma'] = df_s['close'].rolling(60).mean()\n",
    "\n",
    "    df_s.dropna(how='any',inplace=True)\n",
    "    df_s.reset_index(drop=True,inplace=True)\n",
    "    # print(df_s)\n",
    "    # signal\n",
    "    df_s['signal'] = np.nan\n",
    "    # df_s['signal'] = np.where((df_s['zscore']>thd)&(df_s['close']>df_s['ma']),1,df_s['signal'])\n",
    "    # df_s['signal'] = np.where((df_s['zscore'] < -thd)&(df_s['close']<df_s['ma']), -1, df_s['signal'])\n",
    "    df_s['signal'] = np.where((df_s['zscore'] > thd), 1, df_s['signal'])\n",
    "    df_s['signal'] = np.where((df_s['zscore'] < -thd), -1, df_s['signal'])\n",
    "\n",
    "    df_s['position'] = df_s['signal']\n",
    "    df_s['position'].iloc[0] = 0\n",
    "    df_s['position'].fillna(method='pad',inplace=True)\n",
    "    df_s['indicator'] = np.where(df_s['position']!=df_s['position'].shift(1),1,0)\n",
    "    df_s['position'] = np.where(df_s['position']!=df_s['position'].shift(1),df_s['position'].shift(1),df_s['position'])\n",
    "    # 是否可以做空\n",
    "    # df_s['position'] = np.where(df_s['position']==-1,0,df_s['position'])\n",
    "\n",
    "    df_s['pct'] = (df_s['close']/df_s['close'].shift(1) - 1)*df_s['position'] + df_s['indicator']*cost_\n",
    "    std_ = np.std(df_s['pct'])*sqrt(365*6)\n",
    "    df_s['nav'] = (df_s['pct'] + 1).cumprod()\n",
    "    df_s['pct'] = df_s['close'] / df_s['close'].iloc[0]\n",
    "    df_s['x'] = df_s.index\n",
    "    # plot_average_cumulative_return(df_s, 'zscore', after=10, title='标准分未来10日上涨概率')\n",
    "    # plot_average_cumulative_return(df_s, 'zscore', after=20, title='修正标准分未来10日期望收益', probability=False)\n",
    "    \n",
    "    df_s.to_pickle(f\"df_s.pkl\" )\n",
    "    \n",
    "    corr_all,corr_right,corr_left=corr_depict(df_s,'zscore')\n",
    "    # plt.plot\n",
    "    # df_s.to_csv(r\"C:\\Users\\wangjian\\Desktop\\\\data_result.csv\",index=False)\n",
    "\n",
    "    # 画图\n",
    "    if if_print==1:\n",
    "        fig = plt.figure(figsize=(5, 5))\n",
    "        ax1 = fig.add_subplot(1, 1, 1)\n",
    "        ax1.plot(df_s['nav'],'r-', label='strategy')\n",
    "        ax1.plot(df_s['pct'],'k-', label='raw')\n",
    "        plt.xlabel('time')\n",
    "        plt.ylabel('nav')\n",
    "        plt.title('RSRS_NAV')\n",
    "        plt.show()\n",
    "    # cal re,std_\n",
    "    re_ = df_s['nav'].iloc[-1]**(365.0*6/len(df_s.index)) - 1\n",
    "    # print(df_s['nav'].iloc[-1],len(df_s.index))\n",
    "\n",
    "    # df_s.dropna(how='any',inplace=True)\n",
    "    # stat_depict(df_s, 'beta')\n",
    "    # stat_depict_plot(df_s, 'beta', 'distribution')\n",
    "    # cal regression zscore\n",
    "\n",
    "    return re_,std_,re_/std_,corr_all,corr_right,corr_left"
   ]
  },
  {
   "cell_type": "code",
   "execution_count": 5,
   "metadata": {},
   "outputs": [],
   "source": [
    "def stat_depict_plot(df, col, title):\n",
    "    df = df[~df[col].isna()].copy()\n",
    "\n",
    "    avgRet = np.mean(df[col])\n",
    "    medianRet = np.median(df[col])\n",
    "    stdRet = np.std(df[col])\n",
    "    skewRet = st.skew(df[col])\n",
    "    kurtRet = st.kurtosis(df[col])\n",
    "\n",
    "    plt.style.use('ggplot')\n",
    "    # 画日对数收益率分布直方图\n",
    "    fig = plt.figure(figsize=(18, 9))\n",
    "    plt.suptitle(title)\n",
    "    v = df[col]\n",
    "    x = np.linspace(avgRet - 3 * stdRet, avgRet + 3 * stdRet, 100)\n",
    "    y = st.norm.pdf(x, avgRet, stdRet)\n",
    "    kde = st.gaussian_kde(v)\n",
    "\n",
    "    # plot the histogram\n",
    "    plt.subplot(121)\n",
    "    plt.hist(v, 50, weights=np.ones(len(v)) / len(v), alpha=0.4)\n",
    "    plt.axvline(x=avgRet, color='red', linestyle='--',\n",
    "                linewidth=0.8, label='Mean Count')\n",
    "    plt.axvline(x=avgRet - stdRet, color='blue', linestyle='--',\n",
    "                linewidth=0.8, label='-1 Standard Deviation')\n",
    "    plt.axvline(x=avgRet + stdRet, color='blue', linestyle='--',\n",
    "                linewidth=0.8, label='1 Standard Deviation')\n",
    "    plt.ylabel('Percentage', fontsize=10)\n",
    "    plt.legend(fontsize=12)\n",
    "\n",
    "    # plot the kde and normal fit\n",
    "    plt.subplot(122)\n",
    "    plt.plot(x, kde(x), label='Kernel Density Estimation')\n",
    "    plt.plot(x, y, color='black', linewidth=1, label='Normal Fit')\n",
    "    plt.ylabel('Probability', fontsize=10)\n",
    "    plt.axvline(x=avgRet, color='red', linestyle='--',\n",
    "                linewidth=0.8, label='Mean Count')\n",
    "    plt.legend(fontsize=12)\n",
    "    return plt.show()\n",
    "\n",
    "def stat_depict(df, col, pr=True):\n",
    "    df = df[~df[col].isna()].copy()\n",
    "    # 计算总和的统计量\n",
    "    avgRet = np.mean(df[col])\n",
    "    medianRet = np.median(df[col])\n",
    "    stdRet = np.std(df[col])\n",
    "    skewRet = st.skew(df[col])\n",
    "    kurtRet = st.kurtosis(df[col])\n",
    "    if pr:\n",
    "        print(\n",
    "            \"\"\"\n",
    "        平均数 : %.4f\n",
    "        中位数 : %.4f\n",
    "        标准差 : %.4f\n",
    "        偏度   : %.4f\n",
    "        峰度   : %.4f\n",
    "        1 Standard Deviation : %.4f\n",
    "        -1 Standard Deviation : %.4f\n",
    "        \"\"\" % (avgRet, medianRet, stdRet, skewRet, kurtRet, avgRet+stdRet, avgRet-stdRet)\n",
    "        )\n",
    "    else:\n",
    "        return dict(zip('平均数,中位数,标准差,偏度,峰度,1 Standard Deviation,-1 Standard Deviation'.split(','), map(lambda x: '{:.4%}'.format(x), [avgRet, medianRet, stdRet, skewRet, kurtRet, avgRet+stdRet, avgRet-stdRet])))\n",
    "\n",
    "def plot_average_cumulative_return(df, factor_name, after=10, title=None, probability=True, prt=True):\n",
    "    '''\n",
    "    df 因子计算后的df\n",
    "    factor_name df中因子的名称\n",
    "    title 图标的标题\n",
    "    after 之后N日\n",
    "    probability True计算概率 False 计算平均收益\n",
    "    '''\n",
    "    RSRS = df[['close', factor_name]].copy()\n",
    "    # 计算未来N日收益率\n",
    "    RSRS['ret'] = RSRS.close.pct_change(after).shift(-after)\n",
    "    group = pd.cut(RSRS[factor_name], 50)\n",
    "    RSRS['group'] = group\n",
    "    if probability:\n",
    "        # 计算上涨概率\n",
    "        after_ret = RSRS.groupby('group')['ret'].apply(lambda x: np.sum(np.where(x > 0, 1, 0)) / len(x))\n",
    "    else:\n",
    "        after_ret = RSRS.groupby('group')['ret'].mean()\n",
    "\n",
    "    if prt:\n",
    "        # 画图\n",
    "        plt.figure(figsize=(18, 6))\n",
    "        # 设置标题\n",
    "        plt.title(title)\n",
    "        size = len(after_ret)\n",
    "        plt.bar(range(size), after_ret.values, width=0.8, alpha=0.5)\n",
    "        # rotation旋转x轴标签\n",
    "        plt.xticks(range(size), after_ret.index.categories.right, rotation=30)\n",
    "        # 设置y轴标题\n",
    "        plt.ylabel('上涨概率')\n",
    "        plt.show()\n",
    "    else:\n",
    "        return after_ret"
   ]
  },
  {
   "cell_type": "code",
   "execution_count": 6,
   "metadata": {},
   "outputs": [],
   "source": [
    "def corr_depict(df,col_name):\n",
    "    df_s = df.copy()\n",
    "    corr_t_wid = 20\n",
    "    df_s['ret'] = df_s.close.pct_change(corr_t_wid).shift(-corr_t_wid)\n",
    "    zr_df = plot_average_cumulative_return(df_s, col_name, after=corr_t_wid, prt=False, probability=False)\n",
    "    zr_df.index = zr_df.index.categories.right\n",
    "    zr_df = zr_df.fillna(0)\n",
    "    zr_df = zr_df.reset_index()\n",
    "    zr_df.columns = ['factor', 'ret']\n",
    "\n",
    "    rq = zr_df.query('factor>0')\n",
    "    cor_right = np.corrcoef(rq['factor'], rq['ret'])[0][1]\n",
    "\n",
    "    rq = zr_df.query('factor<0')\n",
    "    cor_left = np.corrcoef(rq['factor'], rq['ret'])[0][1]\n",
    "\n",
    "    rq = zr_df\n",
    "    cor_all = np.corrcoef(rq['factor'], rq['ret'])[0][1]\n",
    "    return cor_all,cor_right,cor_left\n"
   ]
  },
  {
   "cell_type": "code",
   "execution_count": null,
   "metadata": {},
   "outputs": [],
   "source": [
    "def loading_data(cate_id):\n",
    "    sql_str = \"SELECT ymd+' '+hms,[open],high,low,[close]  FROM [test_block].[dbo].[adj_data]\" \\\n",
    "              \"  where category = '\"+str(cate_id)+\"' and window=240  and ymd>'2020-12-31' order by ymd,hms\"\n",
    "    cursor.execute(sql_str)\n",
    "    df_id = pd.DataFrame(cursor.fetchall(), columns=['timestamp','open','high','low','close'])\n",
    "    # print(df_id)\n",
    "    return df_id"
   ]
  },
  {
   "cell_type": "code",
   "execution_count": null,
   "metadata": {},
   "outputs": [],
   "source": [
    "if __name__ == '__main__':\n",
    "    # parameter\n",
    "    if_print = 1\n",
    "    reg_wid = 10 + (np.arange(10)) * 5      # 10 #  [10 15 20 25 30 35 40 45 50 55]\n",
    "    stat_wid = 60 + (np.arange(10)) * 30    # 10 #  [60 90 120 150 180 210 240 270 300 330]\n",
    "    threshold = 0.5 + (np.arange(20)) * 0.1 # 20 #  [0.5 0.6 0.7 0.8 0.9 1.  1.1 1.2 1.3 1.4 1.5 1.6 1.7 1.8 1.9 2.  2.1 2.2  2.3 2.4]\n",
    "\n",
    "    # df_input = loading_data('btc')\n",
    "    df_para = pd.DataFrame(list(product(reg_wid, stat_wid,threshold))) # 2000 10*10*20 : 10 60 0.5\n",
    "    df_para['re'] = np.nan\n",
    "    df_para['std'] = np.nan\n",
    "    df_para['sr'] = np.nan\n",
    "    df_para['corr_all'] = np.nan\n",
    "    df_para['corr_right'] = np.nan\n",
    "    df_para['corr_left'] = np.nan\n",
    "\n",
    "    for i_reg in reg_wid:               # 10 #  [10 15 20 25 30 35 40 45 50 55]\n",
    "        print(\"reg_para:\",i_reg)\n",
    "        get_regression(df_input, i_reg) # 25\n",
    "\n",
    "    for index_para,row_para in tqdm(df_para.iterrows(),total=len(df_para.index)): # 2000 10*10*20 : 10 60 0.5\n",
    "        # print(row) \n",
    "        if index_para!=621:  # 621 # 25  90  0.6  \n",
    "            continue\n",
    "        df_para['re'].iloc[index_para],df_para['std'].iloc[index_para],df_para['sr'].iloc[index_para], df_para['corr_all'].iloc[index_para],df_para['corr_right'].iloc[index_para],df_para['corr_left'].iloc[index_para] \\\n",
    "            = get_data(df_input, int(row_para[0]), int(row_para[1]), row_para[2], if_print) \n",
    "            # 621 # 25  90  0.6  # 1\n",
    "            \n",
    "            # return re_,std_,re_/std_,corr_all,corr_right,corr_left\n",
    "            \n",
    "        # df_para.to_csv(r\"rsrs_adj_with_ma.csv\")\n",
    "        \n",
    "        break\n",
    "    # print(df_para)"
   ]
  }
 ],
 "metadata": {
  "kernelspec": {
   "display_name": "Python 3.10.4 64-bit",
   "language": "python",
   "name": "python3"
  },
  "language_info": {
   "codemirror_mode": {
    "name": "ipython",
    "version": 3
   },
   "file_extension": ".py",
   "mimetype": "text/x-python",
   "name": "python",
   "nbconvert_exporter": "python",
   "pygments_lexer": "ipython3",
   "version": "3.10.4 (main, Nov 18 2022, 01:20:00) [GCC 9.4.0]"
  },
  "orig_nbformat": 4,
  "vscode": {
   "interpreter": {
    "hash": "3ad933181bd8a04b432d3370b9dc3b0662ad032c4dfaa4e4f1596c548f763858"
   }
  }
 },
 "nbformat": 4,
 "nbformat_minor": 2
}
