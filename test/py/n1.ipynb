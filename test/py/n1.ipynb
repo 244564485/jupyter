{
 "cells": [
  {
   "cell_type": "code",
   "execution_count": 13,
   "metadata": {},
   "outputs": [
    {
     "name": "stdout",
     "output_type": "stream",
     "text": [
      "<module 'talib' from '/home/at/.local/lib/python3.8/site-packages/talib/__init__.py'>\n"
     ]
    }
   ],
   "source": [
    "import talib\n",
    "print(talib)"
   ]
  },
  {
   "cell_type": "code",
   "execution_count": 14,
   "metadata": {},
   "outputs": [
    {
     "name": "stdout",
     "output_type": "stream",
     "text": [
      "0.8.3\n"
     ]
    }
   ],
   "source": [
    "import qlib\n",
    "print(qlib.__version__)"
   ]
  },
  {
   "cell_type": "code",
   "execution_count": null,
   "metadata": {},
   "outputs": [],
   "source": [
    "# 下载数据\n",
    "# region in [REG_CN, REG_US]\n",
    "from qlib.config import REG_CN\n",
    "provider_uri = \"../datasets\"  # target_dir\n",
    "qlib.init(provider_uri=provider_uri, region=REG_CN)\n",
    "\n",
    "# 加载交易日期\n",
    "from qlib.data import D\n",
    "StockCalendar =  D.calendar(start_time='2020-01-01', end_time='2021-2-20') # , freq='day'\n",
    "print(StockCalendar,type(StockCalendar),StockCalendar.ndim,StockCalendar.shape,StockCalendar.size,StockCalendar.dtype)\n",
    "\n"
   ]
  },
  {
   "cell_type": "code",
   "execution_count": null,
   "metadata": {},
   "outputs": [],
   "source": [
    "\n",
    "Stockname = D.instruments(market='all')\n",
    "print(Stockname)\n",
    "\n",
    "instruments = D.instruments(market='csi300')\n",
    "StockList = D.list_instruments(instruments=instruments, start_time='2010-01-01', end_time='2017-12-31', as_list=True)\n",
    "print(type(StockList),len(StockList),StockList,)\n",
    "\n",
    "# 查找股票\n",
    "instruments = ['SH600000']\n",
    "fields = ['$close', '$volume', 'Ref($close, 1)', 'Mean($close, 3)', '$high-$low']\n",
    "StockHistory = D.features(instruments, fields, start_time='2010-01-01', end_time='2017-12-31', freq='day')\n",
    "print(type(StockHistory),\"\\n\",StockHistory)"
   ]
  },
  {
   "cell_type": "code",
   "execution_count": null,
   "metadata": {},
   "outputs": [],
   "source": [
    "import pip\n",
    "from subprocess import call\n",
    "\n",
    "for dist in pip.get_installed_distributions():\n",
    "    call(\"pip install --upgrade \" + dist.project_name, shell=True)"
   ]
  },
  {
   "cell_type": "code",
   "execution_count": null,
   "metadata": {},
   "outputs": [],
   "source": [
    "import tushare as ts"
   ]
  },
  {
   "cell_type": "code",
   "execution_count": null,
   "metadata": {},
   "outputs": [
    {
     "name": "stdout",
     "output_type": "stream",
     "text": [
      "4\n",
      "x+1=3\n"
     ]
    }
   ],
   "source": [
    "x = 2\n",
    "print(f\"{x+2}\")\n",
    "print(f\"{x+1=}\")"
   ]
  },
  {
   "cell_type": "code",
   "execution_count": null,
   "metadata": {},
   "outputs": [],
   "source": [
    "import time\n",
    "import tushare as ts\n",
    "from prettytable import PrettyTable\n",
    "from colorama import init, Fore, Back, Style\n",
    "\n",
    "\n",
    "class Colored(object):\n",
    "    #  前景色:红色  背景色:默认\n",
    "    def red(self, s):\n",
    "        return Fore.LIGHTRED_EX + s + Fore.RESET\n",
    "    #  前景色:绿色  背景色:默认\n",
    "    def green(self, s):\n",
    "        return Fore.LIGHTGREEN_EX + s + Fore.RESET\n",
    "    def yellow(self, s):\n",
    "        return Fore.LIGHTYELLOW_EX + s + Fore.RESET\n",
    "    def white(self,s):\n",
    "        return Fore.LIGHTWHITE_EX + s + Fore.RESET\n",
    "    def blue(self,s):\n",
    "        return Fore.LIGHTBLUE_EX + s + Fore.RESET\n",
    "\n",
    "\n",
    "def func_stock(stock, num):\n",
    "    df_stock = ts.get_realtime_quotes(stock)  # Single stock symbol\n",
    "    df_stock[['code', 'name', 'pre_close', 'price',\n",
    "              'bid', 'ask', 'volume', 'amount', 'time']]\n",
    "    name = df_stock['name'][0]\n",
    "    code = df_stock['code'][0]\n",
    "\n",
    "    price = float(df_stock['price'][0])\n",
    "\n",
    "    str_price = str(df_stock['price'][0])\n",
    "    if price == 0:\n",
    "        str_price = str(df_stock['pre_close'][0])\n",
    "\n",
    "    curr = str(price)\n",
    "    if price == 0:\n",
    "        curr = str(df_stock['pre_close'][0])\n",
    "\n",
    "    total = float(curr) / float(str(df_stock['pre_close'][0])) - 1\n",
    "    total = round(total * 100, 2)\n",
    "\n",
    "    shi_zi = round(float(curr) * num / 10000, 4)\n",
    "\n",
    "    stock = [name, code, num, str_price, total, shi_zi]\n",
    "    return stock\n",
    "\n",
    "\n",
    "my_stock = [\n",
    "    ['002882', 46100],\n",
    "    ['601828', 12000],\n",
    "    ['601155', 8800],\n",
    "    ['000732', 0],\n",
    "    ['300263', 0],\n",
    "    ['600172', 0],\n",
    "    ['002179', 0],\n",
    "    ['300007', 0],\n",
    "    ['300179', 0],\n",
    "    ['601607', 0],\n",
    "    ['002146', 0],\n",
    "    ['000628', 0],\n",
    "    ['603658', 0],\n",
    "    ['000555', 20500],\n",
    "    ['000885', 0],\n",
    "    ['601360', 0]]\n",
    "\n",
    "\n",
    "df_total = 0\n",
    "table = PrettyTable([\"名称\", \"代码\", \"持有\", \"当前价\", \"涨跌幅%\", \"市值（万元）\"])\n",
    "color = Colored()  #创建Colored对象\n",
    "\n",
    "for i in my_stock:\n",
    "    df = func_stock(i[0], i[1])\n",
    "    if df[2]>0:\n",
    "        df[0] = color.blue(df[0])\n",
    "    if df[4] >= 0:\n",
    "        df[4] = color.red(str(df[4]))\n",
    "    else:\n",
    "        df[4] = color.green(str(df[4]))\n",
    "    table.add_row(df)\n",
    "    df_total += df[5]\n",
    "\n",
    "dt = time.strftime(\"%Y-%m-%d %H:%M:%S\", time.localtime())\n",
    "print(Fore.MAGENTA + '账户市值（', dt, '）', end=' ')\n",
    "print(Style.RESET_ALL)\n",
    "print(table)\n",
    "\n",
    "print(Fore.RED + '当前总市值：', round(df_total, 2), '万元。', end=' ')\n",
    "print(Style.RESET_ALL)"
   ]
  },
  {
   "cell_type": "code",
   "execution_count": null,
   "metadata": {},
   "outputs": [
    {
     "name": "stderr",
     "output_type": "stream",
     "text": [
      "                                                                         "
     ]
    },
    {
     "name": "stdout",
     "output_type": "stream",
     "text": [
      "            代码    名称    最新价   涨跌额     涨跌幅     买入     卖出     昨收     今开     最高  \\\n",
      "0     bj430047  诺思兰德  16.34 -3.16 -16.205  16.30  16.34  19.50  18.00  18.40   \n",
      "1     bj430090  同辉信息   7.60 -0.50  -6.173   7.59   7.60   8.10   8.09   8.16   \n",
      "2     bj430198  微创光电   8.27 -0.09  -1.077   8.25   8.27   8.36   8.33   8.41   \n",
      "3     bj430418  苏轴股份  14.54 -0.03  -0.206  14.53  14.54  14.57  14.47  14.75   \n",
      "4     bj430489  佳先股份  14.50 -0.11  -0.753  14.45  14.50  14.61  14.68  14.68   \n",
      "...        ...   ...    ...   ...     ...    ...    ...    ...    ...    ...   \n",
      "4717  sz301213  观想科技  71.19  4.50   6.748  71.19  71.20  66.69  66.80  75.45   \n",
      "4718  sz301217  铜冠铜箔  21.12  1.41   7.154  21.12  21.13  19.71  19.44  23.60   \n",
      "4719  sz301221  光庭信息  78.65  0.36   0.460  78.65  78.66  78.29  78.31  80.48   \n",
      "4720  sz301228  实朴检测  47.22  7.87  20.000  47.22   0.00  39.35  47.22  47.22   \n",
      "4721  sz301235  华康医疗  45.12  1.47   3.368  45.11  45.12  43.65  43.80  49.80   \n",
      "\n",
      "         最低         成交量           成交额  \n",
      "0     16.00   6526038.0  1.117471e+08  \n",
      "1      7.38   5637365.0  4.382725e+07  \n",
      "2      8.22    177731.0  1.470954e+06  \n",
      "3     14.37     58465.0  8.425340e+05  \n",
      "4     14.43    290367.0  4.224148e+06  \n",
      "...     ...         ...           ...  \n",
      "4717  63.82   7727047.0  5.340247e+08  \n",
      "4718  19.42  76743797.0  1.634015e+09  \n",
      "4719  77.68   1618619.0  1.275540e+08  \n",
      "4720  45.45   7406239.0  3.491684e+08  \n",
      "4721  42.30   9659358.0  4.417820e+08  \n",
      "\n",
      "[4722 rows x 13 columns]\n"
     ]
    },
    {
     "name": "stderr",
     "output_type": "stream",
     "text": [
      "\r"
     ]
    }
   ],
   "source": [
    "import akshare as ak\n",
    "\n",
    "# 获取A股实时行情数据\n",
    "stock_zh_a_spot_df = ak.stock_zh_a_spot()\n",
    "print(stock_zh_a_spot_df)\n",
    "\n",
    "# 获取股票指数实时行情数据\n",
    "#stock_zh_index_spot_df = ak.stock_zh_index_spot()\n",
    "#print(stock_zh_index_spot_df)\n",
    "\n",
    "# 获取科创板实时行情数据\n",
    "# stock_zh_kcb_spot_df = ak.stock_zh_kcb_spot()\n",
    "# print(stock_zh_kcb_spot_df)\n",
    "\n",
    "\n"
   ]
  },
  {
   "cell_type": "code",
   "execution_count": null,
   "metadata": {},
   "outputs": [],
   "source": [
    "import akshare as ak\n",
    "\n",
    "stock_zh_a_jinshi_df = ak.watch_jinshi_quotes()  #error\n",
    "print(stock_zh_a_jinshi_df)\n",
    "\n",
    "\n"
   ]
  },
  {
   "cell_type": "code",
   "execution_count": null,
   "metadata": {},
   "outputs": [],
   "source": [
    "import akshare as ak\n",
    "ak.watch()  #error"
   ]
  },
  {
   "cell_type": "code",
   "execution_count": null,
   "metadata": {},
   "outputs": [
    {
     "name": "stdout",
     "output_type": "stream",
     "text": [
      "        序号      代码     名称     最新价    涨跌幅    涨跌额       成交量           成交额  \\\n",
      "0        1  300064  *ST金刚    1.79  20.13   0.30  760253.0  1.333434e+08   \n",
      "1        2  300249    依米康   11.74  20.04   1.96   46353.0  5.441848e+07   \n",
      "2        3  300846   首都在线   19.96  20.02   3.33   40217.0  8.027227e+07   \n",
      "3        4  300250   初灵信息   21.82  20.02   3.64  462018.0  9.561068e+08   \n",
      "4        5  300467   迅游科技   17.81  20.01   2.97  329826.0  5.701771e+08   \n",
      "...    ...     ...    ...     ...    ...    ...       ...           ...   \n",
      "4880  4881  002288   超华科技    6.96  -6.58  -0.49  271146.0  1.890318e+08   \n",
      "4881  4882  603678   火炬电子   56.80  -6.95  -4.24   70911.0  4.137230e+08   \n",
      "4882  4883  300363   博腾股份   77.36  -7.34  -6.13  209936.0  1.677917e+09   \n",
      "4883  4884  301235   华康医疗   46.64 -10.81  -5.65   61280.0  2.911271e+08   \n",
      "4884  4885  301201   诚达药业  101.28 -13.80 -16.22   82357.0  8.465277e+08   \n",
      "\n",
      "         振幅      最高     最低      今开      昨收     量比    换手率  市盈率-动态    市净率  \n",
      "0     10.07    1.79   1.64    1.77    1.49  12.89  10.92   -2.71 -19.25  \n",
      "1      0.00   11.74  11.74   11.74    9.78   0.20   1.45  123.28   7.89  \n",
      "2      0.00   19.96  19.96   19.96   16.63   0.60   1.51  404.36   6.90  \n",
      "3     14.41   21.82  19.20   19.25   18.18   3.22  29.00   93.53   7.21  \n",
      "4     15.36   17.81  15.53   15.53   14.84   9.53  22.29   71.84   4.56  \n",
      "...     ...     ...    ...     ...     ...    ...    ...     ...    ...  \n",
      "4880   3.09    7.10   6.87    7.10    7.45   8.09   3.39   48.05   3.85  \n",
      "4881   7.04   60.98  56.68   60.52   61.04   3.90   1.54   25.06   5.89  \n",
      "4882  10.46   84.75  76.02   84.00   83.49   2.02   4.69   87.57  11.12  \n",
      "4883   8.07   49.99  45.77   48.99   52.29   1.89  26.34  114.94   3.30  \n",
      "4884  10.20  109.99  98.01  107.00  117.50   2.19  37.40  104.18   4.62  \n",
      "\n",
      "[4885 rows x 17 columns]\n"
     ]
    }
   ],
   "source": [
    "import akshare as ak\n",
    "\n",
    "stock_zh_a_spot_em_df = ak.stock_zh_a_spot_em()\n",
    "print(stock_zh_a_spot_em_df)\n",
    "\n",
    "# 序号\tint64\t-\n",
    "# 代码\tobject\t-\n",
    "# 名称\tobject\t-\n",
    "# 最新价\tfloat64\t-\n",
    "# 涨跌幅\tfloat64\t注意单位: %\n",
    "# 涨跌额\tfloat64\t-\n",
    "# 成交量\tfloat64\t注意单位: 手\n",
    "# 成交额\tfloat64\t注意单位: 元\n",
    "# 振幅\tfloat64\t注意单位: %\n",
    "# 最高\tfloat64\t-\n",
    "# 最低\tfloat64\t-\n",
    "# 今开\tfloat64\t-\n",
    "# 昨收\tfloat64\t-\n",
    "# 量比\tfloat64\t-\n",
    "# 换手率\tfloat64\t注意单位: %\n",
    "# 市盈率-动态\tfloat64\t-\n",
    "# 市净率\tfloat64\t-"
   ]
  },
  {
   "cell_type": "code",
   "execution_count": null,
   "metadata": {},
   "outputs": [
    {
     "name": "stdout",
     "output_type": "stream",
     "text": [
      "     序号      代码    名称    最新价   涨跌幅   涨跌额      成交量          成交额    振幅     最高  \\\n",
      "0  4633  300948  冠中生态  24.07 -2.27 -0.56  47577.0  114118833.0  2.76  24.33   \n",
      "\n",
      "      最低     今开     昨收    量比    换手率  市盈率-动态   市净率  \n",
      "0  23.65  23.85  24.63  2.49  13.59   50.19  4.39  \n"
     ]
    }
   ],
   "source": [
    "aSpot = stock_zh_a_spot_em_df.copy(deep=True)\n",
    "aSpot.drop(aSpot.index, inplace=True)\n",
    "\n",
    "# sz300948 = stock_zh_a_spot_em_df.loc[stock_zh_a_spot_em_df[\"代码\"]==\"300948\"][[\"最新价\"]]\n",
    "# sz300948 = stock_zh_a_spot_em_df.loc[stock_zh_a_spot_em_df[\"代码\"]==\"300948\"]\n",
    "# print(sz300948)\n",
    "# sz300948.loc[0].dtypes\n",
    "# sz300948.info()\n",
    "# sz300948.shape\n",
    "\n",
    "\n",
    "\n",
    "aSpot = aSpot.append(stock_zh_a_spot_em_df.loc[stock_zh_a_spot_em_df[\"代码\"]==\"300948\"] )\n",
    "aSpot = aSpot.reset_index(drop=True)\n",
    "\n",
    "print(aSpot)\n",
    "\n",
    "# df[df['date'].astype(str).str[-4:].str.contains('1954')]\n"
   ]
  },
  {
   "cell_type": "code",
   "execution_count": null,
   "metadata": {},
   "outputs": [
    {
     "name": "stdout",
     "output_type": "stream",
     "text": [
      "   Index SecurityID Symbol    New  Increase   Chg      Vol          Amt   Amp  \\\n",
      "0   4633     300948   冠中生态  24.07     -2.27 -0.56  47577.0  114118833.0  2.76   \n",
      "\n",
      "    High    Low   Open    Pre    VR    Tor     PE    PB  \n",
      "0  24.33  23.65  23.85  24.63  2.49  13.59  50.19  4.39  \n"
     ]
    }
   ],
   "source": [
    "import os\n",
    "import pandas as pd\n",
    "\n",
    "dirPath = '/home/at/ipynb'\n",
    "curDir = os.getcwd() #获取当前工作目录路径\n",
    "\n",
    "eNameFile = 'eName.csv'\n",
    "eNamePath = os.path.join(dirPath, eNameFile)\n",
    "\n",
    "eName_df = pd.read_csv(eNamePath)\n",
    "\n",
    "eName_df_dfcf = eName_df[eName_df.dfcf.isin( aSpot.columns.values.tolist() )]\n",
    "eName_df_dfcf = eName_df_dfcf[['dfcf','En' ]].reset_index(drop=True)\n",
    "# eName_df_dfcf = eName_df_dfcf.reset_index(drop=True)\n",
    "\n",
    "aSpot.rename(columns=dict(eName_df_dfcf.values.tolist() ), inplace=True)\n",
    "print(aSpot)\n",
    "\n"
   ]
  },
  {
   "cell_type": "code",
   "execution_count": 40,
   "metadata": {},
   "outputs": [
    {
     "name": "stdout",
     "output_type": "stream",
     "text": [
      "        信用交易日期  标的证券代码   标的证券简称        融资余额     融资买入额      融资偿还额      融券余量  \\\n",
      "0     20220218  510050    50ETF  6604915922  77019157  112540132  29949341   \n",
      "1     20220218  510100  SZ50ETF     3346745    430764     706638         0   \n",
      "2     20220218  510150    消费ETF    15447359     76729      77270         0   \n",
      "3     20220218  510180   180ETF   100270162    690215    1118004    547000   \n",
      "4     20220218  510230    金融ETF    31007648   1286650   14993557         0   \n",
      "...        ...     ...      ...         ...       ...        ...       ...   \n",
      "1309  20220218  688799     华纳药厂    51539956   1843796    1488627    312526   \n",
      "1310  20220218  688800      瑞可达    45051182   2089924    2370282    164111   \n",
      "1311  20220218  688819     天能股份   362742643   5409935    3690087    820478   \n",
      "1312  20220218  688981     中芯国际  3799760245  40783802   45616380  57047162   \n",
      "1313  20220218  689009     九号公司    95163832   2519335    2055578   4555491   \n",
      "\n",
      "        融券卖出量    融券偿还量  \n",
      "0     5255000  7815500  \n",
      "1           0        0  \n",
      "2           0        0  \n",
      "3       37900   134700  \n",
      "4           0        0  \n",
      "...       ...      ...  \n",
      "1309        0    53634  \n",
      "1310    17432    40296  \n",
      "1311    16271    10002  \n",
      "1312   877270    28000  \n",
      "1313    34561    10278  \n",
      "\n",
      "[1314 rows x 9 columns]\n"
     ]
    }
   ],
   "source": [
    "# stock_zh_a_new_df = ak.stock_zh_a_new()\n",
    "# print(stock_zh_a_new_df)\n",
    "\n",
    "# stock_zh_a_new_em_df = ak.stock_zh_a_new_em() #次新股\n",
    "# print(stock_zh_a_new_em_df)\n",
    "\n",
    "# stock_zh_a_st_em_df = ak.stock_zh_a_st_em() #ST股\n",
    "# print(stock_zh_a_st_em_df)\n",
    "\n",
    "# stock_zh_a_stop_em_df = ak.stock_zh_a_stop_em() #退市\n",
    "# print(stock_zh_a_stop_em_df)\n",
    "\n",
    "# stock_tfp_em_df = ak.stock_tfp_em(date=\"20220221\")  #停复牌 20220221\n",
    "# print(stock_tfp_em_df)\n",
    "\n",
    "\n",
    "# stock_margin_underlying_info_szse_df = ak.stock_margin_underlying_info_szse(date=\"20220222\")  #深证 标的证券信息\n",
    "# print(stock_margin_underlying_info_szse_df)\n",
    "\n",
    "# stock_margin_detail_sse_df = ak.stock_margin_detail_szse(date=\"20220221\")  #深证-融资融券数据-融资融券明细数据\n",
    "# print(stock_margin_detail_sse_df) \n",
    "\n",
    "# stock_margin_sse_df = ak.stock_margin_szse(date=\"20220218\") #深证 融资融券汇总数据  date=\"20220221\"\n",
    "# print(stock_margin_sse_df)\n",
    "\n",
    "# stock_margin_sse_df = ak.stock_margin_sse() #上证 融资融券汇总数据  date=\"20220221\"\n",
    "# print(stock_margin_sse_df)\n",
    "\n",
    "\n",
    "# stock_margin_detail_sse_df = ak.stock_margin_detail_sse(\"20220221\") #上证-融资融券数据-融资融券明细数据\n",
    "# print(stock_margin_detail_sse_df)\n",
    "\n",
    "\n",
    "\n"
   ]
  },
  {
   "cell_type": "code",
   "execution_count": null,
   "metadata": {},
   "outputs": [],
   "source": [
    "tool_trade_date_hist_sina_df = ak.tool_trade_date_hist_sina()  #error\n",
    "print(tool_trade_date_hist_sina_df)"
   ]
  },
  {
   "cell_type": "code",
   "execution_count": 21,
   "metadata": {},
   "outputs": [
    {
     "name": "stdout",
     "output_type": "stream",
     "text": [
      "1645456552784 2022-02-21 23:15:52 20220221\n",
      "timeStamp = 1645456552784\n",
      "8\n"
     ]
    }
   ],
   "source": [
    "import time\n",
    "# import datetime\n",
    "\n",
    "timeStamp = int(round(time.time() * 1000) ) #1645371358737 毫秒 #13位\n",
    "dateTime = time.strftime('%Y-%m-%d %H:%M:%S',time.localtime(time.time() ) ) #'2017-11-07 16:47:14' %Y-%m-%d %H:%M:%S %Y%m%d\n",
    "today = time.strftime('%Y%m%d')  # 20220221 8\n",
    "\n",
    "print(timeStamp,dateTime, today)\n",
    "print(f'{timeStamp = }')\n",
    "print(len(today))\n",
    "\n"
   ]
  },
  {
   "cell_type": "code",
   "execution_count": 125,
   "metadata": {},
   "outputs": [
    {
     "name": "stdout",
     "output_type": "stream",
     "text": [
      "time.struct_time(tm_year=2020, tm_mon=1, tm_mday=1, tm_hour=0, tm_min=0, tm_sec=0, tm_wday=2, tm_yday=1, tm_isdst=-1)\n"
     ]
    }
   ],
   "source": [
    "import time\n",
    "import datetime\n",
    "# from  datetime import *\n",
    "\n",
    "timeStamp = int(round(time.time() * 1000) ) #1645371358737 毫秒\n",
    "dateTime = time.strftime('%Y-%m-%d %H:%M:%S',time.localtime(time.time() ) ) #'2017-11-07 16:47:14' 日期格式转化为字符串\n",
    "toDay = datetime.date.today()  #2022-02-20\n",
    "# print(datetime.now())  #时间戳  2022-02-21 09:56:19.696276 #26位\n",
    "# print(time.strptime('20200101','%Y%m%d')) #20200101 字符串格式转化为日期\n",
    "\n",
    "# dt = datetime(2018,11,5,11,20,30) #独立构造\n"
   ]
  },
  {
   "cell_type": "code",
   "execution_count": null,
   "metadata": {},
   "outputs": [],
   "source": [
    "####导入包\n",
    "import pandas as pd\n",
    "import talib\n",
    "import tushare as ts\n",
    "###随便获取一个股票数据\n",
    "df = ts.get_k_data(\"601069\")\n",
    "####获取 K值和D值\n",
    "\n",
    "df['K'], df['D'] = talib.STOCH(df['high'].values, \n",
    "                               df['low'].values, \n",
    "                               df['close'].values, \n",
    "                               fastk_period=9, \n",
    "                               slowk_period=3,\n",
    "                               slowk_matype=0, \n",
    "                               slowd_period=3, \n",
    "                              slowd_matype=0)\n",
    "\n",
    "####处理数据，计算J值\n",
    "df['K'].fillna(0,inplace=True)\n",
    "df['D'].fillna(0,inplace=True)\n",
    "df['J']=3*df['K']-2*df['D']\n",
    "\n",
    "####计算金叉和死叉\n",
    "\n",
    "df['KDJ_金叉死叉'] = ''\n",
    "####令K>D 为真值\n",
    "kdj_position=df['K']>df['D']\n",
    "\n",
    "####当Ki>Di 为真，Ki-1 <Di-1 为假 为金叉\n",
    "df.loc[kdj_position[(kdj_position == True) & (kdj_position.shift() == False)].index, 'KDJ_金叉死叉'] = '金叉'\n",
    "\n",
    "####当Ki<Di 为真，Ki-1 >Di-1 为假 为死叉\n",
    "df.loc[kdj_position[(kdj_position == False) & (kdj_position.shift() == True)].index, 'KDJ_金叉死叉'] = '死叉'"
   ]
  },
  {
   "cell_type": "code",
   "execution_count": 20,
   "metadata": {},
   "outputs": [
    {
     "name": "stdout",
     "output_type": "stream",
     "text": [
      "6\n"
     ]
    }
   ],
   "source": [
    "str = '6'  # 44#430047  0000002\n",
    "print(str[-6:])"
   ]
  },
  {
   "cell_type": "code",
   "execution_count": 97,
   "metadata": {},
   "outputs": [
    {
     "name": "stdout",
     "output_type": "stream",
     "text": [
      "   name  age gender\n",
      "0   Tom   18      M\n",
      "1  Mary   22      F\n"
     ]
    }
   ],
   "source": [
    "data = pd.DataFrame(\n",
    "    {\"name\": [\"Tom\", \"Mary\", \"Jerry\", \"Mark\"], \n",
    "    \"age\":[18, 22, 19, 31], \n",
    "    \"gender\":[\"M\", \"F\", \"M\", \"M\"]})\n",
    "\n",
    "data.age.isin((18, 22, 19))\n",
    "# ~data.age.isin([18, 22, 19])\n",
    "d1 = data[data.age.isin([18, 22])]\n",
    "\n",
    "print(d1)"
   ]
  },
  {
   "cell_type": "code",
   "execution_count": 122,
   "metadata": {},
   "outputs": [
    {
     "name": "stdout",
     "output_type": "stream",
     "text": [
      "1645378606744\n",
      "2022-02-21 01:36:46\n",
      "2022-02-21\n",
      "time.struct_time(tm_year=2022, tm_mon=2, tm_mday=21, tm_hour=1, tm_min=36, tm_sec=46, tm_wday=0, tm_yday=52, tm_isdst=0)\n",
      "time.struct_time(tm_year=2020, tm_mon=1, tm_mday=1, tm_hour=0, tm_min=0, tm_sec=0, tm_wday=2, tm_yday=1, tm_isdst=-1)\n",
      "time.struct_time(tm_year=2020, tm_mon=1, tm_mday=1, tm_hour=0, tm_min=0, tm_sec=0, tm_wday=2, tm_yday=1, tm_isdst=-1)\n"
     ]
    }
   ],
   "source": [
    "import time\n",
    "import datetime\n",
    "\n",
    "t = time.time()\n",
    "print(int(round(time.time() * 1000) ) )\n",
    "now02 = time.strftime('%Y-%m-%d %H:%M:%S',time.localtime(time.time() ) ) #'2017-11-07 16:47:14'\n",
    "print(now02)\n",
    "print(datetime.date.today())\n",
    "print(time.localtime(time.time()))\n",
    "\n",
    "print(time.strptime('20200101','%Y%m%d'))\n",
    "print(time.strptime('2020-01-01','%Y-%m-%d'))\n"
   ]
  },
  {
   "cell_type": "code",
   "execution_count": 91,
   "metadata": {},
   "outputs": [
    {
     "ename": "TypeError",
     "evalue": "an integer is required (got type str)",
     "output_type": "error",
     "traceback": [
      "\u001b[0;31m---------------------------------------------------------------------------\u001b[0m",
      "\u001b[0;31mTypeError\u001b[0m                                 Traceback (most recent call last)",
      "\u001b[0;32m<ipython-input-91-3855f3417294>\u001b[0m in \u001b[0;36m<module>\u001b[0;34m\u001b[0m\n\u001b[0;32m----> 1\u001b[0;31m \u001b[0;32mwith\u001b[0m \u001b[0mopen\u001b[0m\u001b[0;34m(\u001b[0m\u001b[0meNamePath\u001b[0m\u001b[0;34m,\u001b[0m \u001b[0;34m'rb'\u001b[0m\u001b[0;34m,\u001b[0m \u001b[0;34m'utf-8'\u001b[0m\u001b[0;34m)\u001b[0m \u001b[0;32mas\u001b[0m \u001b[0mfp\u001b[0m\u001b[0;34m:\u001b[0m\u001b[0;34m\u001b[0m\u001b[0;34m\u001b[0m\u001b[0m\n\u001b[0m\u001b[1;32m      2\u001b[0m     \u001b[0mdata\u001b[0m \u001b[0;34m=\u001b[0m \u001b[0mfp\u001b[0m\u001b[0;34m.\u001b[0m\u001b[0mread\u001b[0m\u001b[0;34m(\u001b[0m\u001b[0;34m)\u001b[0m\u001b[0;34m\u001b[0m\u001b[0;34m\u001b[0m\u001b[0m\n\u001b[1;32m      3\u001b[0m     \u001b[0mprint\u001b[0m\u001b[0;34m(\u001b[0m\u001b[0mdata\u001b[0m\u001b[0;34m)\u001b[0m\u001b[0;34m\u001b[0m\u001b[0;34m\u001b[0m\u001b[0m\n",
      "\u001b[0;31mTypeError\u001b[0m: an integer is required (got type str)"
     ]
    }
   ],
   "source": [
    "with open(eNamePath, 'rb', 'utf-8') as fp:\n",
    "    data = fp.read()\n",
    "    print(data)"
   ]
  },
  {
   "cell_type": "code",
   "execution_count": null,
   "metadata": {},
   "outputs": [],
   "source": [
    "dce_text = ak.match_main_contract(exchange=\"dce\")\n",
    "czce_text = ak.match_main_contract(exchange=\"czce\")\n",
    "shfe_text = ak.match_main_contract(exchange=\"shfe\")\n",
    "while True:\n",
    "    time.sleep(3)\n",
    "    data = ak.futures_zh_spot(\n",
    "        subscribe_list=\",\".join([dce_text, czce_text, shfe_text]),\n",
    "        market=\"CF\")\n",
    "    print(data)"
   ]
  },
  {
   "cell_type": "code",
   "execution_count": 42,
   "metadata": {},
   "outputs": [
    {
     "name": "stdout",
     "output_type": "stream",
     "text": [
      "        信用交易日期          融资余额        融资买入额        融券余量       融券余量金额      融券卖出量  \\\n",
      "0     20210208  796355371775  33386752258  7346080807  87718590706  148374362   \n",
      "1     20210205  798537947597  39256505179  7386121711  87230537840  169481352   \n",
      "2     20210204  802902827539  41486860920  7395161264  87780973049  164920794   \n",
      "3     20210203  807189978760  42621756166  7461530990  88548469683  251518719   \n",
      "4     20210202  807418158794  37533872673  7386440829  88303226275  230032183   \n",
      "...        ...           ...          ...         ...          ...        ...   \n",
      "1995  20121127   52059352556   1561381214   195318232   1384086520  255616186   \n",
      "1996  20121126   52224867623   1322180521   187498079   1366826765  234474541   \n",
      "1997  20121123   52163842479   1543727769   184949966   1347840020  257859771   \n",
      "1998  20121122   52326315202   1332145449   172773106   1302639373  214932697   \n",
      "1999  20121121   52338359165   1943146103   184856026   1306569346  308581665   \n",
      "\n",
      "            融资融券余额  \n",
      "0     884073962481  \n",
      "1     885768485437  \n",
      "2     890683800588  \n",
      "3     895738448443  \n",
      "4     895721385069  \n",
      "...            ...  \n",
      "1995   53443439076  \n",
      "1996   53591694388  \n",
      "1997   53511682499  \n",
      "1998   53628954575  \n",
      "1999   53644928511  \n",
      "\n",
      "[2000 rows x 7 columns]\n"
     ]
    }
   ],
   "source": [
    "stock_margin_sse_df = ak.stock_margin_sse(start_date=\"20010106\", end_date=\"20210208\")\n",
    "print(stock_margin_sse_df)"
   ]
  },
  {
   "cell_type": "code",
   "execution_count": 43,
   "metadata": {},
   "outputs": [
    {
     "name": "stdout",
     "output_type": "stream",
     "text": [
      "s1: 中文转换\n"
     ]
    }
   ],
   "source": [
    "s = '\\\\u4e2d\\\\u6587\\\\u8f6c\\\\u6362'\n",
    "s1 = s.encode('utf-8').decode('unicode_escape')\n",
    "print('s1:', s1)   #s1: 中文转换"
   ]
  }
 ],
 "metadata": {
  "interpreter": {
   "hash": "916dbcbb3f70747c44a77c7bcd40155683ae19c65e1c03b4aa3499c5328201f1"
  },
  "kernelspec": {
   "display_name": "Python 3.8.10 64-bit",
   "language": "python",
   "name": "python3"
  },
  "language_info": {
   "codemirror_mode": {
    "name": "ipython",
    "version": 3
   },
   "file_extension": ".py",
   "mimetype": "text/x-python",
   "name": "python",
   "nbconvert_exporter": "python",
   "pygments_lexer": "ipython3",
   "version": "3.8.10"
  },
  "orig_nbformat": 4
 },
 "nbformat": 4,
 "nbformat_minor": 2
}
