{
 "cells": [
  {
   "cell_type": "code",
   "execution_count": 1,
   "metadata": {},
   "outputs": [
    {
     "name": "stdout",
     "output_type": "stream",
     "text": [
      "3.10.4 (main, Dec 19 2022, 20:24:16) [GCC 9.4.0] , /home/codespace/.python/current/bin/python3 , pandas: 1.5.2\n",
      "2023-01-16 10:00:15 *****import**v1.0.1*** \n"
     ]
    }
   ],
   "source": [
    "import websocket\n",
    "import time\n",
    "import threading\n",
    "import requests\n",
    "import json\n",
    "import pandas as pd\n",
    "import numpy as np\n",
    "import sqlite3\n",
    "from datetime import datetime, timedelta\n",
    "import hashlib\n",
    "import hmac\n",
    "import math\n",
    "import sys\n",
    "import logging\n",
    "import os\n",
    "import getopt\n",
    "import traceback\n",
    "\n",
    "\n",
    "# pd.set_option('display.height', 1000)\n",
    "# pd.set_option('display.max_rows', 500)\t\t# 显示行数\n",
    "pd.set_option('display.max_columns', 500)\t# 显示列数\n",
    "pd.set_option('display.width', 1000)\t\t# 显示宽度\n",
    "\n",
    "worthDir = '../pkl' # '../pkl' '/home/at/ipynb/pd' ,  '/home/at/py/ipynb/' , '.' \n",
    "dbfile = f\"{worthDir}hq.db\" # '%s/%s' % (worthDir, 'hq.db') # '/mnt/c/milu/docx/strategy/v2.1/binance' ,  '/mnt/e/milu/py'\n",
    "\n",
    "serverTimeadj = 10\n",
    "locTimeadj = 28800 # 28800  0\n",
    "\n",
    "curDate = time.strftime(\"%Y%m%d\")\n",
    "timestamp = int(round((time.time() ) * 1000) )\n",
    "\n",
    "name = 'stock'\n",
    "\n",
    "# df_balance = pd.DataFrame()\n",
    "# df_account = pd.DataFrame()\n",
    "# df_position = pd.DataFrame()\n",
    "# df_posirisk = pd.DataFrame()\n",
    "# df_order = pd.DataFrame()\n",
    "# df_trade = pd.DataFrame()\n",
    "\n",
    "version = \"1.0.1\"\n",
    "\n",
    "print(f\"{sys.version} , {sys.executable} , pandas: {pd.__version__}\")\n",
    "print( f'{time.strftime(\"%Y-%m-%d %H:%M:%S\",time.localtime(time.time()+locTimeadj))} *****import**v{version}*** ')"
   ]
  },
  {
   "cell_type": "code",
   "execution_count": 2,
   "metadata": {},
   "outputs": [
    {
     "name": "stdout",
     "output_type": "stream",
     "text": [
      "2023-01-06 12:23:10 *****logging***** \n"
     ]
    }
   ],
   "source": [
    "###日志 logger##20220825A######\n",
    "import logging\n",
    "import sys\n",
    "import time\n",
    "\n",
    "formatter = logging.Formatter('%(asctime)s:%(levelname)s:%(name)s:%(filename)s:%(lineno)d:%(funcName)s:%(process)s: %(message)s')\n",
    "\n",
    "def make_logger(name, log_level=logging.INFO, log_file=\"log.txt\", file_mode=\"a\"): #w写 a追加\n",
    "    logger = logging.getLogger(name)\n",
    "    if not logger.handlers:\n",
    "        logger.setLevel(level=log_level)\n",
    "        handler = logging.FileHandler(log_file, mode=file_mode)\n",
    "        handler.setLevel(level=log_level)\n",
    "        handler.setFormatter(formatter)\n",
    "        logger.addHandler(handler)\n",
    "        handler = logging.StreamHandler(sys.stdout)\n",
    "        handler.setLevel(level=log_level)\n",
    "        handler.setFormatter(formatter)\n",
    "        logger.addHandler(handler)\n",
    "    return logger\n",
    "\n",
    "\n",
    "logger = make_logger(name, log_level=logging.DEBUG, log_file= \"../pkl/%s_%s.log\" % (name if ('name' in dir() ) else 'stock', curDate if ('curDate' in dir() ) else time.strftime(\"%Y%m%d\") ) )\n",
    "\n",
    "print( f'{time.strftime(\"%Y-%m-%d %H:%M:%S\",time.localtime(time.time()+locTimeadj))} *****logging***** ')"
   ]
  },
  {
   "cell_type": "code",
   "execution_count": 2,
   "metadata": {},
   "outputs": [],
   "source": [
    "# import akshare as ak"
   ]
  },
  {
   "cell_type": "code",
   "execution_count": 3,
   "metadata": {},
   "outputs": [],
   "source": [
    "panel_df = pd.read_excel(\"A20230114.xlsx\")"
   ]
  },
  {
   "cell_type": "code",
   "execution_count": 4,
   "metadata": {},
   "outputs": [
    {
     "name": "stdout",
     "output_type": "stream",
     "text": [
      "(5083, 119)\n"
     ]
    }
   ],
   "source": [
    "# print(f\"{panel_df.head(2)}\")\n",
    "# print(f\"{panel_df.columns}\")\n",
    "print(f\"{panel_df.shape}\")\n",
    "\n"
   ]
  },
  {
   "cell_type": "code",
   "execution_count": 5,
   "metadata": {},
   "outputs": [
    {
     "name": "stdout",
     "output_type": "stream",
     "text": [
      "Index(['代码', '名称', '涨幅%', '现价', '涨跌', '买价', '卖价', '总量', '现量', '涨速%',\n",
      "       ...\n",
      "       '员工人数', '5日涨幅%', '10日涨幅%', '连板天', '几天几板', '流通比例Z%', '行业PE', '笔均量', '所属行业', '主营构成'], dtype='object', length=119)\n"
     ]
    }
   ],
   "source": [
    "print(f\"{panel_df.columns}\")"
   ]
  }
 ],
 "metadata": {
  "kernelspec": {
   "display_name": "Python 3",
   "language": "python",
   "name": "python3"
  },
  "language_info": {
   "codemirror_mode": {
    "name": "ipython",
    "version": 3
   },
   "file_extension": ".py",
   "mimetype": "text/x-python",
   "name": "python",
   "nbconvert_exporter": "python",
   "pygments_lexer": "ipython3",
   "version": "3.10.4"
  },
  "orig_nbformat": 4,
  "vscode": {
   "interpreter": {
    "hash": "3ad933181bd8a04b432d3370b9dc3b0662ad032c4dfaa4e4f1596c548f763858"
   }
  }
 },
 "nbformat": 4,
 "nbformat_minor": 2
}
