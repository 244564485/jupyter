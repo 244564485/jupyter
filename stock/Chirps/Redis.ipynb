{
 "cells": [
  {
   "cell_type": "code",
   "execution_count": 2,
   "metadata": {},
   "outputs": [
    {
     "name": "stdout",
     "output_type": "stream",
     "text": [
      "sys.version : 3.8.4 (tags/v3.8.4:dfa645a, Jul 13 2020, 16:46:45) [MSC v.1924 64 bit (AMD64)]\n"
     ]
    }
   ],
   "source": [
    "print(\"sys.version :\" , sys.version)"
   ]
  },
  {
   "cell_type": "code",
   "execution_count": 3,
   "metadata": {},
   "outputs": [
    {
     "name": "stdout",
     "output_type": "stream",
     "text": [
      "runoob\n",
      "runoob\n",
      "<class 'str'>\n"
     ]
    }
   ],
   "source": [
    "import redis   # 导入redis 模块\n",
    "\n",
    "r = redis.Redis(host='localhost', port=6379, decode_responses=True)  \n",
    "r.set('name', 'runoob')  # 设置 name 对应的值\n",
    "print(r['name'])\n",
    "print(r.get('name'))  # 取出键 name 对应的值\n",
    "print(type(r.get('name')))  # 查看类型"
   ]
  },
  {
   "cell_type": "code",
   "execution_count": 5,
   "metadata": {},
   "outputs": [
    {
     "name": "stdout",
     "output_type": "stream",
     "text": [
      "-1 <class 'str'>\n"
     ]
    }
   ],
   "source": [
    "print(r['num1'], type(r['num1']) )\n"
   ]
  },
  {
   "cell_type": "code",
   "execution_count": 1,
   "metadata": {},
   "outputs": [
    {
     "name": "stdout",
     "output_type": "stream",
     "text": [
      "hwr\n",
      "<class 'str'>\n"
     ]
    }
   ],
   "source": [
    "import redis   # 导入redis 模块\n",
    "\n",
    "r = redis.Redis(host='redis-18029.c11.us-east-1-2.ec2.cloud.redislabs.com', port=18029, password='314159', decode_responses=True)  \n",
    "# r.set('name', 'runoob')  # 设置 name 对应的值\n",
    "# print(r['at'])\n",
    "print(r.get('at'))  # 取出键 name 对应的值\n",
    "print(type(r.get('at')))  # 查看类型"
   ]
  },
  {
   "cell_type": "code",
   "execution_count": null,
   "metadata": {},
   "outputs": [],
   "source": [
    "r.set('name', 'runoob')"
   ]
  },
  {
   "cell_type": "code",
   "execution_count": 11,
   "metadata": {},
   "outputs": [
    {
     "name": "stdout",
     "output_type": "stream",
     "text": [
      "\n",
      "message2_id: 1615729464581-0\n"
     ]
    }
   ],
   "source": [
    "message2_id = r.xadd('mytopic', {'acctid': 103, 'age': 19} )\n",
    "print(f\"\\nmessage2_id: {message2_id}\")"
   ]
  },
  {
   "cell_type": "code",
   "execution_count": 12,
   "metadata": {},
   "outputs": [
    {
     "name": "stdout",
     "output_type": "stream",
     "text": [
      "stream len:11\n"
     ]
    }
   ],
   "source": [
    "print(f\"stream len:{r.xlen('mytopic')}\")"
   ]
  },
  {
   "cell_type": "code",
   "execution_count": 13,
   "metadata": {},
   "outputs": [
    {
     "name": "stdout",
     "output_type": "stream",
     "text": [
      "[['mytopic', [('1615712911531-0', {'acctid': '012', 'age': '9'}), ('1615712931455-0', {'acctid': '123', 'age': '10'}), ('1615712950666-0', {'acctid': '234', 'age': '10'}), ('1615712999938-0', {'acctid': '345', 'age': '12'}), ('1615713014278-0', {'acctid': '456', 'age': '13'}), ('1615714287129-0', {'acctid': '678', 'age': '14'}), ('1615714671986-0', {'acctid': '789', 'age': '15'}), ('1615715238047-0', {'acctid': '100', 'age': '16'}), ('1615726569993-0', {'acctid': '101', 'age': '17'}), ('1615729314655-0', {'acctid': '102', 'age': '18'}), ('1615729464581-0', {'acctid': '103', 'age': '19'})]]]\n"
     ]
    }
   ],
   "source": [
    "print(r.xread({'mytopic': '0-0'}))"
   ]
  },
  {
   "cell_type": "code",
   "execution_count": 15,
   "metadata": {},
   "outputs": [
    {
     "name": "stdout",
     "output_type": "stream",
     "text": [
      "[['mytopic', [('1615731160023-0', {'acctid': '105', 'age': '21'})]]]\n",
      "[['mytopic', [('1615731175121-0', {'acctid': '106', 'age': '22'})]]]\n"
     ]
    }
   ],
   "source": [
    "print(r.xread({'mytopic': '$'}, block=0))\n",
    "print(r.xread({'mytopic': '$'}, block=0))"
   ]
  },
  {
   "cell_type": "code",
   "execution_count": 2,
   "metadata": {},
   "outputs": [],
   "source": [
    "import threading\n",
    "\n",
    "from redis import Redis  # 导入包\n",
    "\n",
    "# r = Redis()  # 初始化Redis对象实例，这里没有填参数，因此会连接本地的redis: 127.0.0.1:6379\n",
    "r = Redis(host='redis-18029.c11.us-east-1-2.ec2.cloud.redislabs.com', port=18029, password='314159', decode_responses=True)   # 初始化Redis对象实例，这里没有填参数，因此会连接本地的redis: 127.0.0.1:6379\n",
    "\n",
    "# name = input(\"what's your name? \")  # 首先要求输入一个名字，作为待会儿群聊时的身份认证标识\n",
    "# chat_stream = \"my_chat_stream\"  # 这是这个群聊的一个标识，相当于一个群的名字\n",
    "\n",
    "\n",
    "def send_msgs():\n",
    "    # while True:  # 进入死循环\n",
    "        user_input = input(\"what you wanna say? \")  # 首先输出你想说啥？提示用户输入内容\n",
    "        if user_input:\n",
    "            r.xadd(chat_stream, {name: user_input})  # 然后发送输入的内容到群聊内容里\n",
    "\n",
    "\n",
    "def handle_msgs(msgs):\n",
    "    # msgs结构是：[[b'my_chat_stream', [(b'1586416610013-0', {b'jhon': b'nothing'})]]]\n",
    "    for msg in msgs:  # 迭代，因此msg是 [b'my_chat_stream', [(b'1586416610013-0', {b'jhon': b'nothing'})]]\n",
    "        _, msg_list = msg  # 解包，因此 msg_list 是 [(b'1586416610013-0', {b'jhon': b'nothing'})]\n",
    "        for _, content in msg_list:  # 再次解包并迭代，因此 content是 {b'jhon': b'nothing'}\n",
    "            for user_name, user_input in content.items():  # 迭代，因此user_name是 b'jhon' 而 user_input 是 b'nothing'\n",
    "                decoded_acctid = acctid.decode()\n",
    "                decoded_age = age.decode()\n",
    "                # if decoded_user_nameage == name:\n",
    "                #     continue\n",
    "\n",
    "                print(\"[{}]: {}\".format(decoded_acctid, decoded_age))\n",
    "\n",
    "\n",
    "def recv_msgs():\n",
    "    while True:\n",
    "        msgs = r.xread({'mytopic': \"$\"}, None, 0)  # 获取从群里读出来的内容\n",
    "        print(msgs)\n",
    "        handle_msgs(msgs)  # 因为逻辑不算简单，为了这里看起来简单易懂，我们把处理消息的逻辑放在另外一个函数里\n",
    "\n",
    "# threading.Thread(target=recv_msgs).start()\n",
    "\n",
    "if __name__ == \"__main__\":\n",
    "    threading.Thread(target=recv_msgs).start()\n",
    "    # send_msgs()\n",
    "\n"
   ]
  },
  {
   "cell_type": "code",
   "execution_count": 3,
   "metadata": {},
   "outputs": [
    {
     "name": "stdout",
     "output_type": "stream",
     "text": [
      "thread-1正在运行中......\n"
     ]
    }
   ],
   "source": [
    "import threading\n",
    "from redis import Redis  # 导入包\n",
    "\n",
    "r = Redis(host='redis-18029.c11.us-east-1-2.ec2.cloud.redislabs.com', port=18029, password='314159', decode_responses=True)   # 初始化redis: 127.0.0.1:6379\n",
    "\n",
    "def recv_msgs():\n",
    "    while True:\n",
    "        msgs = r.xread({'mytopic': \"$\"}, None, block=0)  # \n",
    "        print(msgs)\n",
    "        # handle_msgs(msgs)  # \n",
    "\n",
    "# recv_msgs()\n",
    "\n",
    "# threading.Thread(target=recv_msgs).start()\n",
    "\n",
    "class MyThread(threading.Thread):\n",
    "    def __init__(self, thread_name):\n",
    "        super(MyThread, self).__init__(name = thread_name)\n",
    "\n",
    "    # 重写run()方法\n",
    "    def run(self):\n",
    "        print(\"%s正在运行中......\" % self.name)\n",
    "        recv_msgs()\n",
    "\n",
    "i = 1\n",
    "MyThread(\"thread-\" + str(i)).setDaemon(True).start()   # 启动线程\n",
    "\n"
   ]
  },
  {
   "cell_type": "code",
   "execution_count": 1,
   "metadata": {},
   "outputs": [
    {
     "name": "stdout",
     "output_type": "stream",
     "text": [
      "[['mytopic', [('1615736052577-0', {'acctid': '117', 'age': '33'})]]]\n",
      "[['mytopic', [('1615736066992-0', {'acctid': '118', 'age': '34'})]]]\n"
     ]
    }
   ],
   "source": [
    "import threading\n",
    "import time\n",
    "from redis import Redis  # 导入包\n",
    "\n",
    "r = Redis(host='redis-18029.c11.us-east-1-2.ec2.cloud.redislabs.com', port=18029, password='314159', decode_responses=True)   # 初始化redis: 127.0.0.1:6379\n",
    "\n",
    "def recv_msgs():\n",
    "    while True:\n",
    "        msgs = r.xread({'mytopic': \"$\"}, None, block=0)  # \n",
    "        print(msgs)\n",
    "        # handle_msgs(msgs)  # \n",
    "\n",
    "\n",
    "\n",
    "t = threading.Thread(target=recv_msgs)  # 注意传入的参数一定是一个元组!\n",
    "t.setDaemon(True)\n",
    "t.start()\n",
    "\n",
    "time.sleep(30)\n"
   ]
  },
  {
   "cell_type": "code",
   "execution_count": 2,
   "metadata": {},
   "outputs": [
    {
     "name": "stdout",
     "output_type": "stream",
     "text": [
      "thread-0正在运行中......\n",
      "thread-1正在运行中......\n",
      "thread-2正在运行中......\n",
      "thread-3正在运行中......\n",
      "thread-4正在运行中......\n",
      "thread-5正在运行中......\n",
      "thread-6正在运行中......\n",
      "thread-7正在运行中......\n",
      "thread-8正在运行中......\n",
      "thread-9正在运行中......\n"
     ]
    }
   ],
   "source": [
    "import threading\n",
    "\n",
    "class MyThread(threading.Thread):\n",
    "    def __init__(self, thread_name):\n",
    "        super(MyThread, self).__init__(name = thread_name)\n",
    "\n",
    "    # 重写run()方法\n",
    "    def run(self):\n",
    "        print(\"%s正在运行中......\" % self.name)\n",
    "\n",
    "for i in range(10):\n",
    "    MyThread(\"thread-\" + str(i)).start()   # 启动线程"
   ]
  },
  {
   "cell_type": "code",
   "execution_count": 13,
   "metadata": {},
   "outputs": [
    {
     "name": "stdout",
     "output_type": "stream",
     "text": [
      "thread 0 running......\n",
      "thread 1 running......\n",
      "thread 2 running......\n",
      "thread 3 running......\n",
      "thread 4 running......\n",
      "thread 5 running......\n",
      "thread 6 running......\n",
      "thread 7 running......\n",
      "thread 8 running......\n",
      "thread 9 running......\n"
     ]
    }
   ],
   "source": [
    "import threading\n",
    "import time\n",
    "\n",
    "def show(arg):\n",
    "    # time.sleep(1)\n",
    "    print(\"thread \" + str(arg) + \" running......\")\n",
    "    time.sleep(1)\n",
    "\n",
    "for i in range(10):\n",
    "    t = threading.Thread(target=show, args=(i,))  # 注意传入的参数一定是一个元组!\n",
    "    t.setDaemon(True)\n",
    "    t.start()"
   ]
  },
  {
   "cell_type": "code",
   "execution_count": 9,
   "metadata": {},
   "outputs": [
    {
     "name": "stdout",
     "output_type": "stream",
     "text": [
      "开始等待： 23:26:53\n",
      "开始工作\n",
      "结束工作\n"
     ]
    }
   ],
   "source": [
    "import time\n",
    "import threading\n",
    "\n",
    "def doWaiting():\n",
    "    print(\"开始等待：\", time.strftime('%H:%M:%S'))\n",
    "    time.sleep(3)\n",
    "    print(\"结束等待：\", time.strftime(\"%H:%M:%S\"))\n",
    "\n",
    "t = threading.Thread(target=doWaiting)\n",
    "t.setDaemon(True)   # 把子线程设置为守护进程，必须在start()之前设置!!!\n",
    "t.start()\n",
    "\n",
    "time.sleep(1)  # 确保线程已经启动\n",
    "print(\"开始工作\")\n",
    "print(\"结束工作\")"
   ]
  },
  {
   "cell_type": "code",
   "execution_count": null,
   "metadata": {},
   "outputs": [],
   "source": []
  }
 ],
 "metadata": {
  "kernelspec": {
   "display_name": "Python 3",
   "language": "python",
   "name": "python3"
  },
  "language_info": {
   "codemirror_mode": {
    "name": "ipython",
    "version": 3
   },
   "file_extension": ".py",
   "mimetype": "text/x-python",
   "name": "python",
   "nbconvert_exporter": "python",
   "pygments_lexer": "ipython3",
   "version": "3.10.4 (main, Nov 18 2022, 01:20:00) [GCC 9.4.0]"
  },
  "orig_nbformat": 2,
  "vscode": {
   "interpreter": {
    "hash": "3ad933181bd8a04b432d3370b9dc3b0662ad032c4dfaa4e4f1596c548f763858"
   }
  }
 },
 "nbformat": 4,
 "nbformat_minor": 2
}
