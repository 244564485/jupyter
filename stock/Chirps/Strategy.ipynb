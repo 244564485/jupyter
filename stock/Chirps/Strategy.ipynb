{
 "cells": [
  {
   "cell_type": "code",
   "execution_count": 1,
   "metadata": {},
   "outputs": [
    {
     "name": "stdout",
     "output_type": "stream",
     "text": [
      "sys.version : 3.10.4 (main, Nov 18 2022, 01:20:00) [GCC 9.4.0]\n",
      "sys.executable : /home/codespace/.python/current/bin/python3\n"
     ]
    },
    {
     "name": "stderr",
     "output_type": "stream",
     "text": [
      "2022-12-18 08:28:57.845386: I tensorflow/core/platform/cpu_feature_guard.cc:193] This TensorFlow binary is optimized with oneAPI Deep Neural Network Library (oneDNN) to use the following CPU instructions in performance-critical operations:  AVX2 AVX512F FMA\n",
      "To enable them in other operations, rebuild TensorFlow with the appropriate compiler flags.\n",
      "2022-12-18 08:29:01.051541: W tensorflow/compiler/xla/stream_executor/platform/default/dso_loader.cc:64] Could not load dynamic library 'libcudart.so.11.0'; dlerror: libcudart.so.11.0: cannot open shared object file: No such file or directory\n",
      "2022-12-18 08:29:01.051584: I tensorflow/compiler/xla/stream_executor/cuda/cudart_stub.cc:29] Ignore above cudart dlerror if you do not have a GPU set up on your machine.\n",
      "2022-12-18 08:29:09.221513: W tensorflow/compiler/xla/stream_executor/platform/default/dso_loader.cc:64] Could not load dynamic library 'libnvinfer.so.7'; dlerror: libnvinfer.so.7: cannot open shared object file: No such file or directory\n",
      "2022-12-18 08:29:09.221863: W tensorflow/compiler/xla/stream_executor/platform/default/dso_loader.cc:64] Could not load dynamic library 'libnvinfer_plugin.so.7'; dlerror: libnvinfer_plugin.so.7: cannot open shared object file: No such file or directory\n",
      "2022-12-18 08:29:09.221884: W tensorflow/compiler/tf2tensorrt/utils/py_utils.cc:38] TF-TRT Warning: Cannot dlopen some TensorRT libraries. If you would like to use Nvidia GPU with TensorRT, please make sure the missing libraries mentioned above are installed properly.\n"
     ]
    },
    {
     "name": "stdout",
     "output_type": "stream",
     "text": [
      "tensorflow : 2.11.0\n",
      "matplotlib : 3.6.2\n",
      "seaborn : 0.12.1\n",
      "numpy : 1.23.5\n",
      "pandas : 1.5.1\n",
      "tushare : 1.2.89\n"
     ]
    }
   ],
   "source": [
    "#@title 查看库版本/更新库 { run: \"auto\", vertical-output: true, form-width: \"500px\" }\n",
    "\n",
    "import os \n",
    "import sys\n",
    "\n",
    "print(\"sys.version :\" , sys.version)\n",
    "print(\"sys.executable :\" , sys.executable)\n",
    "\n",
    "count = 3   #最大检测次数，即第一次检测不存在则安装，会有安装失败的情况，就会再来一次\n",
    "\n",
    "while count:\n",
    "  try:\n",
    "    import tushare as ts\n",
    "    import tensorflow as tf\n",
    "    import matplotlib as mpt\n",
    "    import numpy as np\n",
    "    import pandas as pd\n",
    "\n",
    "    # import pydrive \n",
    "    import tushare as ts\n",
    "\n",
    "    import seaborn as sns\n",
    "    import matplotlib.pyplot as plt\n",
    "\n",
    "    #显示版本\n",
    "\n",
    "    print(\"tensorflow :\" , tf.__version__)\n",
    "    print(\"matplotlib :\" , mpt.__version__)\n",
    "    print(\"seaborn :\" , sns.__version__)\n",
    "    print(\"numpy :\" , np.__version__)\n",
    "    print(\"pandas :\" , pd.__version__)\n",
    "    # print(\"pydrive :\" , pydrive.__version__)\n",
    "\n",
    "    print(\"tushare :\" , ts.__version__)\n",
    "    \n",
    "    break\n",
    "\n",
    "  except:\n",
    "\n",
    "    print('模块未安装,现在准备开始安装 ... ')\n",
    "\n",
    "    # os.system('pip install urllib2')\n",
    "    # os.system(' pip install -i https://pypi.tuna.tsinghua.edu.cn/simple tensorflow  ')\n",
    "\n",
    "    !pip install -i https://pypi.tuna.tsinghua.edu.cn/simple numpy \n",
    "    !pip install -i https://pypi.tuna.tsinghua.edu.cn/simple pandas \n",
    "    !pip install -i https://pypi.tuna.tsinghua.edu.cn/simple matplotlib \n",
    "    !pip install -i https://pypi.tuna.tsinghua.edu.cn/simple seaborn \n",
    "    !pip install -i https://pypi.tuna.tsinghua.edu.cn/simple tushare \n",
    "\n",
    "\n",
    "    # !pip install backtrader \n",
    "    # !pip install yagmail \n",
    "    # !pip install keyring \n",
    "    # !pip install sklearn \n",
    "    # !pip install -U -q PyDrive \n",
    "    # !pip install factor-analyzer\n",
    "\n",
    "    count -= 1\n",
    "    continue"
   ]
  },
  {
   "cell_type": "code",
   "execution_count": 4,
   "metadata": {},
   "outputs": [
    {
     "name": "stdout",
     "output_type": "stream",
     "text": [
      "本接口即将停止更新，请尽快使用Pro版接口：https://waditu.com/document/2\n",
      "              hold      rest     total    return\n",
      "date                                            \n",
      "2020-01-02     0.0  100000.0  100000.0  0.000000\n",
      "2020-01-03     0.0  100000.0  100000.0  0.000000\n",
      "2020-01-06     0.0  100000.0  100000.0  0.000000\n",
      "2020-01-07     0.0  100000.0  100000.0  0.000000\n",
      "2020-01-08     0.0  100000.0  100000.0  0.000000\n",
      "...            ...       ...       ...       ...\n",
      "2021-02-23     0.0   99870.0   99870.0  0.000000\n",
      "2021-02-24     0.0   99870.0   99870.0  0.000000\n",
      "2021-02-25  6020.0   93850.0   99870.0  0.000000\n",
      "2021-02-26  5630.0   93850.0   99480.0 -0.003905\n",
      "2021-03-01  5920.0   93850.0   99770.0  0.002915\n",
      "\n",
      "[279 rows x 4 columns]             flag    sma       lma  signal\n",
      "date                                     \n",
      "2020-01-02     0    NaN       NaN     0.0\n",
      "2020-01-03     0    NaN       NaN     0.0\n",
      "2020-01-06     0    NaN       NaN     0.0\n",
      "2020-01-07     0    NaN       NaN     0.0\n",
      "2020-01-08     0  6.460       NaN     0.0\n",
      "...          ...    ...       ...     ...\n",
      "2021-02-23     0  5.606  5.907000     0.0\n",
      "2021-02-24     0  5.830  5.892167     0.0\n",
      "2021-02-25     1  6.000  5.879833     1.0\n",
      "2021-02-26     1  6.046  5.859833     0.0\n",
      "2021-03-01     1  6.042  5.847000     0.0\n",
      "\n",
      "[279 rows x 4 columns]\n"
     ]
    }
   ],
   "source": [
    "# -*- coding: utf-8 -*-\n",
    "\"\"\"\n",
    "Spyder Editor\n",
    "\n",
    "This is a temporary script file.\n",
    "\"\"\"\n",
    "import tushare as ts\n",
    "import pandas as pd\n",
    "import numpy as np\n",
    "class MAStrategy(object):\n",
    "    def __init__(self,bars,short_window=5,long_window=60):\n",
    "        self.bars=bars\n",
    "        self.short_window=short_window\n",
    "        self.long_window=long_window\n",
    "\n",
    "    def MA(self,price,windows=5,period=1):\n",
    "        MAprice=pd.Series(price).rolling(window=windows).mean()\n",
    "        return MAprice\n",
    "\n",
    "    def gen_signal(self):\n",
    "        signals=pd.DataFrame(index=self.bars.index)\n",
    "        signals['flag']=0\n",
    "        signals['sma']=self.MA(self.bars['close'],self.short_window,1)\n",
    "        signals['lma']=self.MA(self.bars['close'],self.long_window,1)\n",
    "        signals.loc[self.short_window:,['flag']]=np.where(signals['sma'][self.short_window:]>signals['lma'][self.short_window:],1,0)\n",
    "        signals['signal']=signals['flag'].diff().fillna(signals['flag'][0])\n",
    "        return signals\n",
    "\n",
    "class MATrade(object):\n",
    "    def __init__(self,bars,signals,init_capital=100000):\n",
    "        self.bar=bars\n",
    "        self.init_capital=init_capital\n",
    "        self.signals=signals\n",
    "    def gen_position(self):\n",
    "        positions=self.signals['flag']*1000\n",
    "        return positions\n",
    "    def trade_positions(self):\n",
    "        positions=self.signals['signal']*1000\n",
    "        return positions\n",
    "    def trade_tracing(self):\n",
    "        capital=pd.DataFrame(index=self.signals.index)\n",
    "        capital['hold']=self.gen_position()*self.bar['close']#持仓\n",
    "        capital['rest']=self.init_capital-(self.trade_positions()*bars['close']).cumsum()#用总资金减去每天的市值得出剩余资金\n",
    "        capital['total']=capital['hold']+capital['rest']#总资产变化\n",
    "        capital['return']=capital['total'].pct_change().fillna(capital['total'][0]/self.init_capital-1)\n",
    "        return capital\n",
    "if __name__=='__main__':\n",
    "    bars=ts.get_hist_data('002211',start='2020-01-01',end='2021-03-01').sort_index()\n",
    "    test_strategy=MAStrategy(bars)\n",
    "    signals=test_strategy.gen_signal()\n",
    "    test_trade=MATrade(bars,signals)\n",
    "    capital=test_trade.trade_tracing()\n",
    "    print(capital,signals)\n"
   ]
  },
  {
   "cell_type": "code",
   "execution_count": 2,
   "metadata": {},
   "outputs": [
    {
     "name": "stdout",
     "output_type": "stream",
     "text": [
      "123.4560 <class 'str'> 123.4560 <class 'decimal.Decimal'> 1123.4560\n"
     ]
    }
   ],
   "source": [
    "from decimal import *\n",
    "\n",
    "s = \"123.4560\"\n",
    "d = Decimal(s)\n",
    "\n",
    "print(s, type(s), d , type(d), d+ 1000)\n"
   ]
  }
 ],
 "metadata": {
  "kernelspec": {
   "display_name": "Python 3",
   "language": "python",
   "name": "python3"
  },
  "language_info": {
   "codemirror_mode": {
    "name": "ipython",
    "version": 3
   },
   "file_extension": ".py",
   "mimetype": "text/x-python",
   "name": "python",
   "nbconvert_exporter": "python",
   "pygments_lexer": "ipython3",
   "version": "3.10.4"
  },
  "orig_nbformat": 2,
  "vscode": {
   "interpreter": {
    "hash": "3ad933181bd8a04b432d3370b9dc3b0662ad032c4dfaa4e4f1596c548f763858"
   }
  }
 },
 "nbformat": 4,
 "nbformat_minor": 2
}
